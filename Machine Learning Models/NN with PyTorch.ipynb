{
 "cells": [
  {
   "cell_type": "markdown",
   "id": "6a853808",
   "metadata": {
    "toc": true
   },
   "source": [
    "<h1>Table of Contents<span class=\"tocSkip\"></span></h1>\n",
    "<div class=\"toc\"><ul class=\"toc-item\"><li><span><a href=\"#Imports\" data-toc-modified-id=\"Imports-1\"><span class=\"toc-item-num\">1&nbsp;&nbsp;</span>Imports</a></span></li><li><span><a href=\"#Data-preparation\" data-toc-modified-id=\"Data-preparation-2\"><span class=\"toc-item-num\">2&nbsp;&nbsp;</span>Data preparation</a></span></li><li><span><a href=\"#Modelling\" data-toc-modified-id=\"Modelling-3\"><span class=\"toc-item-num\">3&nbsp;&nbsp;</span>Modelling</a></span><ul class=\"toc-item\"><li><span><a href=\"#Cross-validation\" data-toc-modified-id=\"Cross-validation-3.1\"><span class=\"toc-item-num\">3.1&nbsp;&nbsp;</span>Cross-validation</a></span></li><li><span><a href=\"#Train-model-over-full-train-set\" data-toc-modified-id=\"Train-model-over-full-train-set-3.2\"><span class=\"toc-item-num\">3.2&nbsp;&nbsp;</span>Train model over full train set</a></span></li></ul></li><li><span><a href=\"#Predict-over-test-set\" data-toc-modified-id=\"Predict-over-test-set-4\"><span class=\"toc-item-num\">4&nbsp;&nbsp;</span>Predict over test set</a></span></li><li><span><a href=\"#Submit-predictions\" data-toc-modified-id=\"Submit-predictions-5\"><span class=\"toc-item-num\">5&nbsp;&nbsp;</span>Submit predictions</a></span></li></ul></div>"
   ]
  },
  {
   "cell_type": "markdown",
   "id": "a1d9d775",
   "metadata": {},
   "source": [
    "----"
   ]
  },
  {
   "cell_type": "markdown",
   "id": "fcb64658",
   "metadata": {},
   "source": [
    "**<big>ESA Datalabs Ariel Hackathon</big>**"
   ]
  },
  {
   "cell_type": "markdown",
   "id": "63a7ca56",
   "metadata": {},
   "source": [
    "Modelling starter code"
   ]
  },
  {
   "cell_type": "markdown",
   "id": "edf163f2",
   "metadata": {},
   "source": [
    "----\n",
    "\n",
    "----"
   ]
  },
  {
   "cell_type": "markdown",
   "id": "7d60df0e",
   "metadata": {},
   "source": [
    "# Imports"
   ]
  },
  {
   "cell_type": "code",
   "execution_count": 1,
   "id": "6f6fd6fa",
   "metadata": {
    "tags": []
   },
   "outputs": [],
   "source": [
    "import gc, requests\n",
    "import torch\n",
    "import torch.nn as nn\n",
    "import torch.optim as optim\n",
    "import numpy as np\n",
    "import pandas as pd\n",
    "import matplotlib.pylab as plt\n",
    "import seaborn as sns\n",
    "\n",
    "from sklearn.preprocessing import StandardScaler\n",
    "from torch.utils.data import DataLoader, TensorDataset\n",
    "\n",
    "%matplotlib inline\n",
    "\n",
    "import sys\n",
    "sys.path.append('esac-hackathon-starter-code-dev')\n",
    "from adc21 import *"
   ]
  },
  {
   "cell_type": "markdown",
   "id": "e4c0465d",
   "metadata": {},
   "source": [
    "---"
   ]
  },
  {
   "cell_type": "markdown",
   "id": "9c28ae34",
   "metadata": {},
   "source": [
    "**Load dataset**"
   ]
  },
  {
   "cell_type": "code",
   "execution_count": 2,
   "id": "01bfcde3",
   "metadata": {
    "tags": []
   },
   "outputs": [],
   "source": [
    "# Please adjust the below path with your team's workspace, e.g. '/media/team_workspaces/MYTEAMNAME/'\n",
    "DATA_PATH = '/media/team_workspaces/CoRoT-7-b/'"
   ]
  },
  {
   "cell_type": "code",
   "execution_count": 3,
   "id": "cb0d8cfc",
   "metadata": {
    "tags": []
   },
   "outputs": [
    {
     "name": "stdout",
     "output_type": "stream",
     "text": [
      "<class 'adc21.data.dataset'>\n",
      "CPU times: user 1.24 s, sys: 3 s, total: 4.24 s\n",
      "Wall time: 4.25 s\n"
     ]
    }
   ],
   "source": [
    "%%time\n",
    "DATA = load_dataset(DATA_PATH + 'ADC21esac_train.pkl')\n",
    "#DATA = load_dataset(DATA_PATH + 'ADC21esac_test.pkl')\n",
    "print(type(DATA))"
   ]
  },
  {
   "cell_type": "markdown",
   "id": "200ffc14",
   "metadata": {},
   "source": [
    "----\n",
    "\n",
    "----"
   ]
  },
  {
   "cell_type": "markdown",
   "id": "8170497e",
   "metadata": {},
   "source": [
    "# Data preparation"
   ]
  },
  {
   "cell_type": "markdown",
   "id": "06916505",
   "metadata": {},
   "source": [
    "You are free to train your ML models over the raw data, or over data pre-processed in any way you choose.\n",
    "\n",
    "We offer below a possible way to prepare the data for modelling.\n",
    "\n",
    "This data preparation pipeline is also in use at the **https://ariel-lightcurve-challenge.mlanalytics.ai/** website. You are encouraged to use the website to explore the dataset, and the impact of different transformations."
   ]
  },
  {
   "cell_type": "markdown",
   "id": "afee73aa",
   "metadata": {},
   "source": [
    "***Parameters of the data pre-processing pipeline***:\n",
    "\n",
    "**WINDOW_RADIUS**\n",
    "* Improve estimate of observation at time t by taking the mean over all values observed in the [t-r, t+r] time window, where r is the chosen radius. Process is applied for all time instants, of all wavelength channels.\n",
    "\n",
    "**AGGR_NUM_OBS**\n",
    "* We have the chance to observe the exoplanet for up to 10 of its \\\"years\\\", 10 different transits in front of its star (in this dataset). We know enough about the planet's orbit to know the point of a transit that should match the equivalent point of a different transit. When taking the mean to estimate the light curve value at time t, it is then best to consider also the matching observations of up to how many different transits?\n",
    "\n",
    "**MIRROR_STACKING**\n",
    "* An ideal observation of a planet's transit, with no imprecision in the measurements, would produce a smooth light curve, symmetrical around the point of maximum dip. What we know of the planet's orbit allows us to estimate when is that point reached. In this dataset, it's at the t=150 instant. When estimating the true value at t=100, for instance, the measurements at t=200 are then also informative. Choosing this option, the time-symmetrical measurements are then also included when calculating the mean. By doing so, observe how the light curves become symmetrical. For training the AI model, it is then enough to consider just half the curve, as it would be redundant to see same values again on the other side of t=150.\n",
    "\n",
    "**MEAN_TYPE**\n",
    "* The settings above define the set of values we'll consider as relevant to the estimation of the true value at a given time instant. What is then the best way to aggregate all those separate measurements? We'll be using what's known as a \"[generalized mean](https://en.wikipedia.org/wiki/Generalized_mean)\" for that. This equation has a single parameter, p. For p=1 it becomes the well known arithmetic mean. Different settings will favour either the smaller (p<0) or larger values under aggregation (p>0). The plots may show imperceptible differences, but the AI model will be sensitive to it!\n",
    "\n",
    "**GRID_PTS_NUM**\n",
    "* How many different things should the AI model consider at once? You want to make the learning problem as simple as possible, but not so simple that the AI is not exposed to important information, and is then unable to perform well. The AI won't be seeing the full light curve – it contains 300×55=16,500 measurements for just one transit! Instead, we perform aggregations at just a few carefully chosen time steps, and have the AI learn over just those. This parameter then controls the number of different variables you give to the AI model, and so the complexity of the learning problem.\n",
    "\n",
    "**GRID_PTS_SPACING**\n",
    "* Is it better to focus around the t=150 instant, or does the AI need to consider also the slope down from 1.0 relative brightness? This parameter controls the spacing, in minutes, between the grid points chosen in the previous setting. It determines the kind of information the AI will consider when learning how to extract the spectrum from the light curve."
   ]
  },
  {
   "cell_type": "code",
   "execution_count": 4,
   "id": "673a6946",
   "metadata": {
    "tags": []
   },
   "outputs": [
    {
     "name": "stdout",
     "output_type": "stream",
     "text": [
      "With these settings, a star has its observations transformed into a 501-dimensional representation: 8+1 grid points × 55 wavelength channels + 6 stellar/planet parameters.\n",
      "Each grid point aggregates with a p=-2 a total of 580 values: a time window 2×14+1 minutes wide × 10 planetary transits × 2 time symmetrical observations.\n"
     ]
    },
    {
     "data": {
      "text/plain": [
       "{'WINDOW_RADIUS': 14,\n",
       " 'AGGR_NUM_OBS': 10,\n",
       " 'MIRROR_STACKING': True,\n",
       " 'MEAN_TYPE_P': -2,\n",
       " 'GRID_PTS_NUM': 8,\n",
       " 'GRID_PTS_SPACING': 6}"
      ]
     },
     "execution_count": 4,
     "metadata": {},
     "output_type": "execute_result"
    }
   ],
   "source": [
    "# configure the desired data pre-processing pipeline\n",
    "\n",
    "data_setup = dict(\n",
    "    WINDOW_RADIUS    = 14,\n",
    "    AGGR_NUM_OBS     = 10,\n",
    "    MIRROR_STACKING  = True,\n",
    "    MEAN_TYPE_P      = -2,\n",
    "    \n",
    "    GRID_PTS_NUM     = 8,\n",
    "    GRID_PTS_SPACING = 6,\n",
    "    )\n",
    "\n",
    "\n",
    "setup_summary(data_setup)\n",
    "data_setup"
   ]
  },
  {
   "cell_type": "code",
   "execution_count": 5,
   "id": "582c6df0",
   "metadata": {
    "tags": []
   },
   "outputs": [
    {
     "data": {
      "image/png": "[encoded data removed]",
      "text/plain": [
       "<Figure size 1000x500 with 2 Axes>"
      ]
     },
     "metadata": {},
     "output_type": "display_data"
    }
   ],
   "source": [
    "# Visualization of how the data pre-processing defined above transforms a given planet's observations\n",
    "visualize_setup(DATA, data_setup, planet_id=1759)"
   ]
  },
  {
   "cell_type": "markdown",
   "id": "297fbe25",
   "metadata": {},
   "source": [
    "\\\n",
    "To transform the whole dataset using the `data_setup` defined above, first call `configure_pipeline()`, and then `prepare_data()`."
   ]
  },
  {
   "cell_type": "code",
   "execution_count": 6,
   "id": "212ba420",
   "metadata": {
    "tags": []
   },
   "outputs": [],
   "source": [
    "X_pipeline = configure_pipeline(**data_setup)\n",
    "#X_pipeline"
   ]
  },
  {
   "cell_type": "code",
   "execution_count": 7,
   "id": "abb2281c",
   "metadata": {
    "tags": []
   },
   "outputs": [
    {
     "name": "stdout",
     "output_type": "stream",
     "text": [
      "functools.partial(<function X__set_to__obs_encodings at 0x7f4a3485cc20>, agg_stellar=False, agg_photon=10, agg=-2, window_radius=14, grid=(102, 108, 114, 120, 126, 132, 138, 144, 150), mirror_stacking=True)\n"
     ]
    },
    {
     "data": {
      "text/html": [
       "\n",
       "<style>\n",
       "    /* Turns off some styling */\n",
       "    progress {\n",
       "        /* gets rid of default border in Firefox and Opera. */\n",
       "        border: none;\n",
       "        /* Needs to be in here for Safari polyfill so background images work as expected. */\n",
       "        background-size: auto;\n",
       "    }\n",
       "    progress:not([value]), progress:not([value])::-webkit-progress-bar {\n",
       "        background: repeating-linear-gradient(45deg, #7e7e7e, #7e7e7e 10px, #5c5c5c 10px, #5c5c5c 20px);\n",
       "    }\n",
       "    .progress-bar-interrupted, .progress-bar-interrupted::-webkit-progress-bar {\n",
       "        background: #F44336;\n",
       "    }\n",
       "</style>\n"
      ],
      "text/plain": [
       "<IPython.core.display.HTML object>"
      ]
     },
     "metadata": {},
     "output_type": "display_data"
    },
    {
     "data": {
      "text/html": [
       "\n",
       "    <div>\n",
       "      <progress value='1000' class='' max='1000' style='width:300px; height:20px; vertical-align: middle;'></progress>\n",
       "      100.00% [1000/1000 00:06&lt;00:00]\n",
       "    </div>\n",
       "    "
      ],
      "text/plain": [
       "<IPython.core.display.HTML object>"
      ]
     },
     "metadata": {},
     "output_type": "display_data"
    },
    {
     "name": "stdout",
     "output_type": "stream",
     "text": [
      "functools.partial(<function X__stack_with__par at 0x7f4a3485f060>, par_var='X_par')\n",
      "CPU times: user 6.68 s, sys: 950 ms, total: 7.63 s\n",
      "Wall time: 7.71 s\n"
     ]
    }
   ],
   "source": [
    "%%time\n",
    "data = prepare_data(DATA, X_pipeline)"
   ]
  },
  {
   "cell_type": "code",
   "execution_count": 8,
   "id": "b34582a9",
   "metadata": {
    "tags": []
   },
   "outputs": [
    {
     "name": "stdout",
     "output_type": "stream",
     "text": [
      "[[3.6674199e+03 5.0000000e+00 4.3950000e-01 ... 5.3037550e-02\n",
      "  5.2174170e-02 5.2403864e-02]\n",
      " [3.6674199e+03 5.0000000e+00 4.3950000e-01 ... 5.7268023e-02\n",
      "  5.7382915e-02 5.9075475e-02]\n",
      " [3.6674199e+03 5.0000000e+00 4.3950000e-01 ... 6.1646838e-02\n",
      "  6.0910515e-02 6.0364481e-02]\n",
      " ...\n",
      " [4.7310000e+03 4.5000000e+00 6.9000000e-01 ... 4.5370106e-02\n",
      "  3.4155264e-02 0.0000000e+00]\n",
      " [4.7310000e+03 4.5000000e+00 6.9000000e-01 ... 6.8093352e-02\n",
      "  5.5162277e-02 4.5016646e-02]\n",
      " [4.7310000e+03 4.5000000e+00 6.9000000e-01 ... 6.5951869e-02\n",
      "  6.6743776e-02 6.6577017e-02]]\n"
     ]
    }
   ],
   "source": [
    "type(data), data.X.dtype, data.y.dtype\n",
    "print(data.X)"
   ]
  },
  {
   "cell_type": "code",
   "execution_count": 9,
   "id": "25ffe7a4",
   "metadata": {
    "tags": []
   },
   "outputs": [
    {
     "data": {
      "text/plain": [
       "array([[0.05427011, 0.05390767, 0.05448135, ..., 0.05766987, 0.05825472,\n",
       "        0.05851034],\n",
       "       [0.05427011, 0.05390767, 0.05448135, ..., 0.05766987, 0.05825472,\n",
       "        0.05851034],\n",
       "       [0.05427011, 0.05390767, 0.05448135, ..., 0.05766987, 0.05825472,\n",
       "        0.05851034],\n",
       "       ...,\n",
       "       [0.03866225, 0.03808885, 0.03876797, ..., 0.0436143 , 0.04515038,\n",
       "        0.0455361 ],\n",
       "       [0.03866225, 0.03808885, 0.03876797, ..., 0.0436143 , 0.04515038,\n",
       "        0.0455361 ],\n",
       "       [0.03866225, 0.03808885, 0.03876797, ..., 0.0436143 , 0.04515038,\n",
       "        0.0455361 ]], dtype=float32)"
      ]
     },
     "execution_count": 9,
     "metadata": {},
     "output_type": "execute_result"
    }
   ],
   "source": [
    "data.y"
   ]
  },
  {
   "cell_type": "code",
   "execution_count": 10,
   "id": "414cf956",
   "metadata": {
    "tags": []
   },
   "outputs": [
    {
     "data": {
      "text/plain": [
       "(10000, 501)"
      ]
     },
     "execution_count": 10,
     "metadata": {},
     "output_type": "execute_result"
    }
   ],
   "source": [
    "data.X.shape"
   ]
  },
  {
   "cell_type": "code",
   "execution_count": 11,
   "id": "0707eabe",
   "metadata": {
    "scrolled": true,
    "tags": []
   },
   "outputs": [
    {
     "data": {
      "text/plain": [
       "(10000, 55)"
      ]
     },
     "execution_count": 11,
     "metadata": {},
     "output_type": "execute_result"
    }
   ],
   "source": [
    "data.y.shape"
   ]
  },
  {
   "cell_type": "markdown",
   "id": "b9c26928",
   "metadata": {},
   "source": [
    "\\\n",
    "**At this point you have a defined ML problem: given `data.X`, predict `data.y`.**"
   ]
  },
  {
   "cell_type": "markdown",
   "id": "201d5646",
   "metadata": {},
   "source": [
    "\\\n",
    "If you don't need the raw data anymore, you can remove it from memory."
   ]
  },
  {
   "cell_type": "code",
   "execution_count": 12,
   "id": "750618ed",
   "metadata": {
    "tags": []
   },
   "outputs": [
    {
     "data": {
      "text/plain": [
       "17093"
      ]
     },
     "execution_count": 12,
     "metadata": {},
     "output_type": "execute_result"
    }
   ],
   "source": [
    "del DATA\n",
    "del data.X_obs\n",
    "\n",
    "gc.collect()"
   ]
  },
  {
   "cell_type": "code",
   "execution_count": 13,
   "id": "1355156b-6f2e-40ce-8e71-b911ce5c21ae",
   "metadata": {},
   "outputs": [],
   "source": [
    "# Standardizing data\n",
    "#scaler = StandardScaler()\n",
    "#X_scaled = scaler.fit_transform(data.X)\n",
    "(X_st, x, X_st_params) = standardizer(data.X)\n",
    "\n",
    "X_st.mean(), X_st.std()\n",
    "y_true = data.y\n",
    "\n",
    "# Convert to PyTorch tensors\n",
    "X_tensor = torch.tensor(X_st, dtype=torch.float32)\n",
    "y_tensor = torch.tensor(y_true, dtype=torch.float32)"
   ]
  },
  {
   "cell_type": "markdown",
   "id": "a5eb8145",
   "metadata": {},
   "source": [
    "----"
   ]
  },
  {
   "cell_type": "markdown",
   "id": "13200fa0",
   "metadata": {},
   "source": [
    "# Modelling"
   ]
  },
  {
   "cell_type": "markdown",
   "id": "7ec3c4ed",
   "metadata": {},
   "source": [
    "Let's start simple, with a linear model ([sklearn.linear_model.Ridge](https://scikit-learn.org/stable/modules/generated/sklearn.linear_model.Ridge.html))."
   ]
  },
  {
   "cell_type": "code",
   "execution_count": 14,
   "id": "fc9cc7d0",
   "metadata": {
    "tags": []
   },
   "outputs": [],
   "source": [
    "# Define the Neural Network model\n",
    "class NeuralNet(nn.Module):\n",
    "    def __init__(self, input_size, hidden1, hidden2, output_size):\n",
    "        super(NeuralNet, self).__init__()\n",
    "        self.fc1 = nn.Linear(input_size, hidden1)\n",
    "        self.relu1 = nn.ReLU()\n",
    "        self.fc2 = nn.Linear(hidden1, hidden2)\n",
    "        self.relu2 = nn.ReLU()\n",
    "        self.fc3 = nn.Linear(hidden2, output_size)\n",
    "    \n",
    "    def forward(self, x):\n",
    "        x = self.relu1(self.fc1(x))\n",
    "        x = self.relu2(self.fc2(x))\n",
    "        x = self.fc3(x)\n",
    "        return x\n",
    "\n",
    "# Model hyperparameters\n",
    "input_size = X_st.shape[1]  # 900 * 55\n",
    "hidden1 = 1024\n",
    "hidden2 = 256\n",
    "output_size = 55\n",
    "learning_rate = 0.0005"
   ]
  },
  {
   "cell_type": "markdown",
   "id": "27fd8272",
   "metadata": {},
   "source": [
    "## Training Neural Network"
   ]
  },
  {
   "cell_type": "code",
   "execution_count": 15,
   "id": "9b61a6ee",
   "metadata": {
    "tags": []
   },
   "outputs": [],
   "source": [
    "# Initialize model\n",
    "model = NeuralNet(input_size, hidden1, hidden2, output_size)\n",
    "\n",
    "# Define loss function and optimizer\n",
    "criterion = nn.MSELoss()\n",
    "optimizer = optim.Adam(model.parameters(), lr=learning_rate, betas=(0.9, 0.999))"
   ]
  },
  {
   "cell_type": "code",
   "execution_count": 33,
   "id": "15f77b0b-2255-4059-a698-e45d3e2f855a",
   "metadata": {},
   "outputs": [
    {
     "name": "stdout",
     "output_type": "stream",
     "text": [
      "Epoch [10/100], Loss: 0.000006\n",
      "Epoch [20/100], Loss: 0.000003\n",
      "Epoch [30/100], Loss: 0.000003\n",
      "Epoch [40/100], Loss: 0.000145\n",
      "Epoch [50/100], Loss: 0.000002\n",
      "Epoch [60/100], Loss: 0.000003\n",
      "Epoch [70/100], Loss: 0.000002\n",
      "Epoch [80/100], Loss: 0.000004\n",
      "Epoch [90/100], Loss: 0.000005\n",
      "Epoch [100/100], Loss: 0.000004\n"
     ]
    }
   ],
   "source": [
    "# Create DataLoader for batch training\n",
    "dataset = TensorDataset(X_tensor, y_tensor)\n",
    "dataloader = DataLoader(dataset, batch_size=32, shuffle=True)\n",
    "\n",
    "# Training loop\n",
    "epochs = 100\n",
    "for epoch in range(epochs):\n",
    "    for batch_X, batch_y in dataloader:\n",
    "        optimizer.zero_grad()\n",
    "        outputs = model(batch_X)\n",
    "        loss = criterion(outputs, batch_y)\n",
    "        loss.backward()\n",
    "        optimizer.step()\n",
    "    if (epoch + 1) % 10 == 0:\n",
    "        print(f'Epoch [{epoch+1}/{epochs}], Loss: {loss.item():.6f}')"
   ]
  },
  {
   "cell_type": "markdown",
   "id": "81ffecad",
   "metadata": {},
   "source": [
    "-----\n",
    "\n",
    "-----"
   ]
  },
  {
   "cell_type": "markdown",
   "id": "259f5876",
   "metadata": {},
   "source": [
    "# Predict over test set"
   ]
  },
  {
   "cell_type": "code",
   "execution_count": 34,
   "id": "c24f063f",
   "metadata": {
    "scrolled": true,
    "tags": []
   },
   "outputs": [
    {
     "name": "stdout",
     "output_type": "stream",
     "text": [
      "CPU times: user 552 ms, sys: 327 ms, total: 879 ms\n",
      "Wall time: 881 ms\n"
     ]
    }
   ],
   "source": [
    "%%time\n",
    "TEST_DATA = load_dataset(DATA_PATH + 'ADC21esac_test.pkl')"
   ]
  },
  {
   "cell_type": "code",
   "execution_count": 35,
   "id": "a17904e4",
   "metadata": {
    "tags": []
   },
   "outputs": [
    {
     "data": {
      "text/plain": [
       "{'WINDOW_RADIUS': 14,\n",
       " 'AGGR_NUM_OBS': 10,\n",
       " 'MIRROR_STACKING': True,\n",
       " 'MEAN_TYPE_P': -2,\n",
       " 'GRID_PTS_NUM': 8,\n",
       " 'GRID_PTS_SPACING': 6}"
      ]
     },
     "execution_count": 35,
     "metadata": {},
     "output_type": "execute_result"
    }
   ],
   "source": [
    "data_setup"
   ]
  },
  {
   "cell_type": "markdown",
   "id": "e6873923",
   "metadata": {},
   "source": [
    "\\\n",
    "Encode the test set using the same data pre-processing pipeline thas was used over the train set."
   ]
  },
  {
   "cell_type": "code",
   "execution_count": 36,
   "id": "c0e025a2",
   "metadata": {
    "tags": []
   },
   "outputs": [
    {
     "name": "stdout",
     "output_type": "stream",
     "text": [
      "functools.partial(<function X__set_to__obs_encodings at 0x7f4a3485cc20>, agg_stellar=False, agg_photon=10, agg=-2, window_radius=14, grid=(102, 108, 114, 120, 126, 132, 138, 144, 150), mirror_stacking=True)\n"
     ]
    },
    {
     "data": {
      "text/html": [
       "\n",
       "<style>\n",
       "    /* Turns off some styling */\n",
       "    progress {\n",
       "        /* gets rid of default border in Firefox and Opera. */\n",
       "        border: none;\n",
       "        /* Needs to be in here for Safari polyfill so background images work as expected. */\n",
       "        background-size: auto;\n",
       "    }\n",
       "    progress:not([value]), progress:not([value])::-webkit-progress-bar {\n",
       "        background: repeating-linear-gradient(45deg, #7e7e7e, #7e7e7e 10px, #5c5c5c 10px, #5c5c5c 20px);\n",
       "    }\n",
       "    .progress-bar-interrupted, .progress-bar-interrupted::-webkit-progress-bar {\n",
       "        background: #F44336;\n",
       "    }\n",
       "</style>\n"
      ],
      "text/plain": [
       "<IPython.core.display.HTML object>"
      ]
     },
     "metadata": {},
     "output_type": "display_data"
    },
    {
     "data": {
      "text/html": [
       "\n",
       "    <div>\n",
       "      <progress value='512' class='' max='512' style='width:300px; height:20px; vertical-align: middle;'></progress>\n",
       "      100.00% [512/512 00:03&lt;00:00]\n",
       "    </div>\n",
       "    "
      ],
      "text/plain": [
       "<IPython.core.display.HTML object>"
      ]
     },
     "metadata": {},
     "output_type": "display_data"
    },
    {
     "name": "stdout",
     "output_type": "stream",
     "text": [
      "functools.partial(<function X__stack_with__par at 0x7f4a3485f060>, par_var='X_par')\n",
      "CPU times: user 3.46 s, sys: 7.97 ms, total: 3.47 s\n",
      "Wall time: 3.48 s\n"
     ]
    },
    {
     "data": {
      "text/plain": [
       "(5120, 501)"
      ]
     },
     "execution_count": 36,
     "metadata": {},
     "output_type": "execute_result"
    }
   ],
   "source": [
    "%%time\n",
    "#X_pipeline = configure_pipeline(**data_setup)\n",
    "test_data = prepare_data(TEST_DATA, X_pipeline)\n",
    "test_data.X.shape"
   ]
  },
  {
   "cell_type": "code",
   "execution_count": 37,
   "id": "8f7b87ea",
   "metadata": {
    "scrolled": true,
    "tags": []
   },
   "outputs": [
    {
     "data": {
      "text/plain": [
       "0"
      ]
     },
     "execution_count": 37,
     "metadata": {},
     "output_type": "execute_result"
    }
   ],
   "source": [
    "del TEST_DATA\n",
    "del test_data.X_obs\n",
    "\n",
    "gc.collect()"
   ]
  },
  {
   "cell_type": "code",
   "execution_count": 38,
   "id": "10e51567",
   "metadata": {
    "tags": []
   },
   "outputs": [
    {
     "name": "stdout",
     "output_type": "stream",
     "text": [
      "<class 'torch.Tensor'>\n"
     ]
    }
   ],
   "source": [
    "test_X_st = standardizer(test_data.X, avg_std=X_st_params)[0]\n",
    "test_X_tensor = torch.tensor(test_X_st, dtype=torch.float32)\n",
    "\n",
    "# Make predictions\n",
    "with torch.no_grad():  # Disable gradient computation for inference\n",
    "    test_y_pred = model(test_X_tensor)\n",
    "\n",
    "#test_y_pred = model(test_X_tensor).detach().numpy()\n",
    "\n",
    "print(type(test_y_pred))\n",
    "\n",
    "test_y_pred_np = test_y_pred.numpy()\n",
    "test_y_pred = test_y_pred_np"
   ]
  },
  {
   "cell_type": "markdown",
   "id": "bf57d3bc",
   "metadata": {},
   "source": [
    "-----\n",
    "\n",
    "-----"
   ]
  },
  {
   "cell_type": "markdown",
   "id": "392e105b",
   "metadata": {},
   "source": [
    "# Submit predictions"
   ]
  },
  {
   "cell_type": "markdown",
   "id": "b7021544",
   "metadata": {},
   "source": [
    "The data pre-processing pipeline may aggregate observations at different levels:\n",
    "* aggregations across photon noise instances leave us with 1 sample per planet / stellar_spot combination (10 samples per planet).\n",
    "* aggregations across stellar spot instances, and their photon noise instances leave us with 1 sample per planet.\n",
    "\n",
    "Below, in `ix_all` are the indices of all samples in the test set. Submissions must provide one prediction for each of those samples. Encoding left us with the `ix_enc` indices. If they differ, we must then propagate predictions to the other samples of the same planet / stellar_spot."
   ]
  },
  {
   "cell_type": "code",
   "execution_count": 39,
   "id": "d4471056",
   "metadata": {
    "tags": []
   },
   "outputs": [],
   "source": [
    "ix_all = test_data.X_par_all[OBSERV_INDEX].set_index(OBSERV_INDEX, append=True).index\n",
    "ix_enc = test_data.X_par[    OBSERV_INDEX].set_index(OBSERV_INDEX, append=True).index"
   ]
  },
  {
   "cell_type": "code",
   "execution_count": 41,
   "id": "f0d9e866",
   "metadata": {
    "tags": []
   },
   "outputs": [
    {
     "name": "stdout",
     "output_type": "stream",
     "text": [
      "<class 'numpy.ndarray'>\n"
     ]
    }
   ],
   "source": [
    "# Indexed DataFrame version of the predictions matrix\n",
    "\n",
    "test_y_pred_df = pd.DataFrame(\n",
    "    test_y_pred,\n",
    "    #index=test_data.X_par.index,\n",
    "    index=ix_enc,\n",
    "    columns=[f'w{i+1}' for i in range(55)]\n",
    ")\n",
    "\n",
    "test_y_pred_df\n",
    "\n",
    "print(type(test_y_pred))"
   ]
  },
  {
   "cell_type": "markdown",
   "id": "fb26ea63",
   "metadata": {},
   "source": [
    "Propagate predictions across samples of the same planet / stellar_spot."
   ]
  },
  {
   "cell_type": "code",
   "execution_count": 42,
   "id": "ff148f4e",
   "metadata": {
    "tags": []
   },
   "outputs": [
    {
     "data": {
      "text/html": [
       "<div>\n",
       "<style scoped>\n",
       "    .dataframe tbody tr th:only-of-type {\n",
       "        vertical-align: middle;\n",
       "    }\n",
       "\n",
       "    .dataframe tbody tr th {\n",
       "        vertical-align: top;\n",
       "    }\n",
       "\n",
       "    .dataframe thead th {\n",
       "        text-align: right;\n",
       "    }\n",
       "</style>\n",
       "<table border=\"1\" class=\"dataframe\">\n",
       "  <thead>\n",
       "    <tr style=\"text-align: right;\">\n",
       "      <th></th>\n",
       "      <th></th>\n",
       "      <th></th>\n",
       "      <th></th>\n",
       "      <th>w1</th>\n",
       "      <th>w2</th>\n",
       "      <th>w3</th>\n",
       "      <th>w4</th>\n",
       "      <th>w5</th>\n",
       "      <th>w6</th>\n",
       "      <th>w7</th>\n",
       "      <th>w8</th>\n",
       "      <th>w9</th>\n",
       "      <th>w10</th>\n",
       "      <th>...</th>\n",
       "      <th>w46</th>\n",
       "      <th>w47</th>\n",
       "      <th>w48</th>\n",
       "      <th>w49</th>\n",
       "      <th>w50</th>\n",
       "      <th>w51</th>\n",
       "      <th>w52</th>\n",
       "      <th>w53</th>\n",
       "      <th>w54</th>\n",
       "      <th>w55</th>\n",
       "    </tr>\n",
       "    <tr>\n",
       "      <th></th>\n",
       "      <th>planet</th>\n",
       "      <th>stellar_spot</th>\n",
       "      <th>photon</th>\n",
       "      <th></th>\n",
       "      <th></th>\n",
       "      <th></th>\n",
       "      <th></th>\n",
       "      <th></th>\n",
       "      <th></th>\n",
       "      <th></th>\n",
       "      <th></th>\n",
       "      <th></th>\n",
       "      <th></th>\n",
       "      <th></th>\n",
       "      <th></th>\n",
       "      <th></th>\n",
       "      <th></th>\n",
       "      <th></th>\n",
       "      <th></th>\n",
       "      <th></th>\n",
       "      <th></th>\n",
       "      <th></th>\n",
       "      <th></th>\n",
       "      <th></th>\n",
       "    </tr>\n",
       "  </thead>\n",
       "  <tbody>\n",
       "    <tr>\n",
       "      <th>0003_01_01.txt</th>\n",
       "      <th>3</th>\n",
       "      <th>1</th>\n",
       "      <th>1</th>\n",
       "      <td>0.037076</td>\n",
       "      <td>0.036834</td>\n",
       "      <td>0.037648</td>\n",
       "      <td>0.038797</td>\n",
       "      <td>0.037928</td>\n",
       "      <td>0.040344</td>\n",
       "      <td>0.038850</td>\n",
       "      <td>0.039109</td>\n",
       "      <td>0.040130</td>\n",
       "      <td>0.039988</td>\n",
       "      <td>...</td>\n",
       "      <td>0.041926</td>\n",
       "      <td>0.041994</td>\n",
       "      <td>0.040807</td>\n",
       "      <td>0.040848</td>\n",
       "      <td>0.041472</td>\n",
       "      <td>0.041242</td>\n",
       "      <td>0.041172</td>\n",
       "      <td>0.042116</td>\n",
       "      <td>0.042267</td>\n",
       "      <td>0.042400</td>\n",
       "    </tr>\n",
       "    <tr>\n",
       "      <th>0003_01_02.txt</th>\n",
       "      <th>3</th>\n",
       "      <th>1</th>\n",
       "      <th>2</th>\n",
       "      <td>0.037076</td>\n",
       "      <td>0.036834</td>\n",
       "      <td>0.037648</td>\n",
       "      <td>0.038797</td>\n",
       "      <td>0.037928</td>\n",
       "      <td>0.040344</td>\n",
       "      <td>0.038850</td>\n",
       "      <td>0.039109</td>\n",
       "      <td>0.040130</td>\n",
       "      <td>0.039988</td>\n",
       "      <td>...</td>\n",
       "      <td>0.041926</td>\n",
       "      <td>0.041994</td>\n",
       "      <td>0.040807</td>\n",
       "      <td>0.040848</td>\n",
       "      <td>0.041472</td>\n",
       "      <td>0.041242</td>\n",
       "      <td>0.041172</td>\n",
       "      <td>0.042116</td>\n",
       "      <td>0.042267</td>\n",
       "      <td>0.042400</td>\n",
       "    </tr>\n",
       "    <tr>\n",
       "      <th>0003_01_03.txt</th>\n",
       "      <th>3</th>\n",
       "      <th>1</th>\n",
       "      <th>3</th>\n",
       "      <td>0.037076</td>\n",
       "      <td>0.036834</td>\n",
       "      <td>0.037648</td>\n",
       "      <td>0.038797</td>\n",
       "      <td>0.037928</td>\n",
       "      <td>0.040344</td>\n",
       "      <td>0.038850</td>\n",
       "      <td>0.039109</td>\n",
       "      <td>0.040130</td>\n",
       "      <td>0.039988</td>\n",
       "      <td>...</td>\n",
       "      <td>0.041926</td>\n",
       "      <td>0.041994</td>\n",
       "      <td>0.040807</td>\n",
       "      <td>0.040848</td>\n",
       "      <td>0.041472</td>\n",
       "      <td>0.041242</td>\n",
       "      <td>0.041172</td>\n",
       "      <td>0.042116</td>\n",
       "      <td>0.042267</td>\n",
       "      <td>0.042400</td>\n",
       "    </tr>\n",
       "    <tr>\n",
       "      <th>0003_01_04.txt</th>\n",
       "      <th>3</th>\n",
       "      <th>1</th>\n",
       "      <th>4</th>\n",
       "      <td>0.037076</td>\n",
       "      <td>0.036834</td>\n",
       "      <td>0.037648</td>\n",
       "      <td>0.038797</td>\n",
       "      <td>0.037928</td>\n",
       "      <td>0.040344</td>\n",
       "      <td>0.038850</td>\n",
       "      <td>0.039109</td>\n",
       "      <td>0.040130</td>\n",
       "      <td>0.039988</td>\n",
       "      <td>...</td>\n",
       "      <td>0.041926</td>\n",
       "      <td>0.041994</td>\n",
       "      <td>0.040807</td>\n",
       "      <td>0.040848</td>\n",
       "      <td>0.041472</td>\n",
       "      <td>0.041242</td>\n",
       "      <td>0.041172</td>\n",
       "      <td>0.042116</td>\n",
       "      <td>0.042267</td>\n",
       "      <td>0.042400</td>\n",
       "    </tr>\n",
       "    <tr>\n",
       "      <th>0003_01_05.txt</th>\n",
       "      <th>3</th>\n",
       "      <th>1</th>\n",
       "      <th>5</th>\n",
       "      <td>0.037076</td>\n",
       "      <td>0.036834</td>\n",
       "      <td>0.037648</td>\n",
       "      <td>0.038797</td>\n",
       "      <td>0.037928</td>\n",
       "      <td>0.040344</td>\n",
       "      <td>0.038850</td>\n",
       "      <td>0.039109</td>\n",
       "      <td>0.040130</td>\n",
       "      <td>0.039988</td>\n",
       "      <td>...</td>\n",
       "      <td>0.041926</td>\n",
       "      <td>0.041994</td>\n",
       "      <td>0.040807</td>\n",
       "      <td>0.040848</td>\n",
       "      <td>0.041472</td>\n",
       "      <td>0.041242</td>\n",
       "      <td>0.041172</td>\n",
       "      <td>0.042116</td>\n",
       "      <td>0.042267</td>\n",
       "      <td>0.042400</td>\n",
       "    </tr>\n",
       "    <tr>\n",
       "      <th>...</th>\n",
       "      <th>...</th>\n",
       "      <th>...</th>\n",
       "      <th>...</th>\n",
       "      <td>...</td>\n",
       "      <td>...</td>\n",
       "      <td>...</td>\n",
       "      <td>...</td>\n",
       "      <td>...</td>\n",
       "      <td>...</td>\n",
       "      <td>...</td>\n",
       "      <td>...</td>\n",
       "      <td>...</td>\n",
       "      <td>...</td>\n",
       "      <td>...</td>\n",
       "      <td>...</td>\n",
       "      <td>...</td>\n",
       "      <td>...</td>\n",
       "      <td>...</td>\n",
       "      <td>...</td>\n",
       "      <td>...</td>\n",
       "      <td>...</td>\n",
       "      <td>...</td>\n",
       "      <td>...</td>\n",
       "      <td>...</td>\n",
       "    </tr>\n",
       "    <tr>\n",
       "      <th>4381_10_06.txt</th>\n",
       "      <th>4381</th>\n",
       "      <th>10</th>\n",
       "      <th>6</th>\n",
       "      <td>0.139838</td>\n",
       "      <td>0.139424</td>\n",
       "      <td>0.139726</td>\n",
       "      <td>0.140783</td>\n",
       "      <td>0.140178</td>\n",
       "      <td>0.141784</td>\n",
       "      <td>0.142381</td>\n",
       "      <td>0.142276</td>\n",
       "      <td>0.142675</td>\n",
       "      <td>0.142659</td>\n",
       "      <td>...</td>\n",
       "      <td>0.138535</td>\n",
       "      <td>0.138673</td>\n",
       "      <td>0.140291</td>\n",
       "      <td>0.143743</td>\n",
       "      <td>0.142053</td>\n",
       "      <td>0.143236</td>\n",
       "      <td>0.141387</td>\n",
       "      <td>0.143985</td>\n",
       "      <td>0.144203</td>\n",
       "      <td>0.146115</td>\n",
       "    </tr>\n",
       "    <tr>\n",
       "      <th>4381_10_07.txt</th>\n",
       "      <th>4381</th>\n",
       "      <th>10</th>\n",
       "      <th>7</th>\n",
       "      <td>0.139838</td>\n",
       "      <td>0.139424</td>\n",
       "      <td>0.139726</td>\n",
       "      <td>0.140783</td>\n",
       "      <td>0.140178</td>\n",
       "      <td>0.141784</td>\n",
       "      <td>0.142381</td>\n",
       "      <td>0.142276</td>\n",
       "      <td>0.142675</td>\n",
       "      <td>0.142659</td>\n",
       "      <td>...</td>\n",
       "      <td>0.138535</td>\n",
       "      <td>0.138673</td>\n",
       "      <td>0.140291</td>\n",
       "      <td>0.143743</td>\n",
       "      <td>0.142053</td>\n",
       "      <td>0.143236</td>\n",
       "      <td>0.141387</td>\n",
       "      <td>0.143985</td>\n",
       "      <td>0.144203</td>\n",
       "      <td>0.146115</td>\n",
       "    </tr>\n",
       "    <tr>\n",
       "      <th>4381_10_08.txt</th>\n",
       "      <th>4381</th>\n",
       "      <th>10</th>\n",
       "      <th>8</th>\n",
       "      <td>0.139838</td>\n",
       "      <td>0.139424</td>\n",
       "      <td>0.139726</td>\n",
       "      <td>0.140783</td>\n",
       "      <td>0.140178</td>\n",
       "      <td>0.141784</td>\n",
       "      <td>0.142381</td>\n",
       "      <td>0.142276</td>\n",
       "      <td>0.142675</td>\n",
       "      <td>0.142659</td>\n",
       "      <td>...</td>\n",
       "      <td>0.138535</td>\n",
       "      <td>0.138673</td>\n",
       "      <td>0.140291</td>\n",
       "      <td>0.143743</td>\n",
       "      <td>0.142053</td>\n",
       "      <td>0.143236</td>\n",
       "      <td>0.141387</td>\n",
       "      <td>0.143985</td>\n",
       "      <td>0.144203</td>\n",
       "      <td>0.146115</td>\n",
       "    </tr>\n",
       "    <tr>\n",
       "      <th>4381_10_09.txt</th>\n",
       "      <th>4381</th>\n",
       "      <th>10</th>\n",
       "      <th>9</th>\n",
       "      <td>0.139838</td>\n",
       "      <td>0.139424</td>\n",
       "      <td>0.139726</td>\n",
       "      <td>0.140783</td>\n",
       "      <td>0.140178</td>\n",
       "      <td>0.141784</td>\n",
       "      <td>0.142381</td>\n",
       "      <td>0.142276</td>\n",
       "      <td>0.142675</td>\n",
       "      <td>0.142659</td>\n",
       "      <td>...</td>\n",
       "      <td>0.138535</td>\n",
       "      <td>0.138673</td>\n",
       "      <td>0.140291</td>\n",
       "      <td>0.143743</td>\n",
       "      <td>0.142053</td>\n",
       "      <td>0.143236</td>\n",
       "      <td>0.141387</td>\n",
       "      <td>0.143985</td>\n",
       "      <td>0.144203</td>\n",
       "      <td>0.146115</td>\n",
       "    </tr>\n",
       "    <tr>\n",
       "      <th>4381_10_10.txt</th>\n",
       "      <th>4381</th>\n",
       "      <th>10</th>\n",
       "      <th>10</th>\n",
       "      <td>0.139838</td>\n",
       "      <td>0.139424</td>\n",
       "      <td>0.139726</td>\n",
       "      <td>0.140783</td>\n",
       "      <td>0.140178</td>\n",
       "      <td>0.141784</td>\n",
       "      <td>0.142381</td>\n",
       "      <td>0.142276</td>\n",
       "      <td>0.142675</td>\n",
       "      <td>0.142659</td>\n",
       "      <td>...</td>\n",
       "      <td>0.138535</td>\n",
       "      <td>0.138673</td>\n",
       "      <td>0.140291</td>\n",
       "      <td>0.143743</td>\n",
       "      <td>0.142053</td>\n",
       "      <td>0.143236</td>\n",
       "      <td>0.141387</td>\n",
       "      <td>0.143985</td>\n",
       "      <td>0.144203</td>\n",
       "      <td>0.146115</td>\n",
       "    </tr>\n",
       "  </tbody>\n",
       "</table>\n",
       "<p>51200 rows × 55 columns</p>\n",
       "</div>"
      ],
      "text/plain": [
       "                                                 w1        w2        w3  \\\n",
       "               planet stellar_spot photon                                 \n",
       "0003_01_01.txt 3      1            1       0.037076  0.036834  0.037648   \n",
       "0003_01_02.txt 3      1            2       0.037076  0.036834  0.037648   \n",
       "0003_01_03.txt 3      1            3       0.037076  0.036834  0.037648   \n",
       "0003_01_04.txt 3      1            4       0.037076  0.036834  0.037648   \n",
       "0003_01_05.txt 3      1            5       0.037076  0.036834  0.037648   \n",
       "...                                             ...       ...       ...   \n",
       "4381_10_06.txt 4381   10           6       0.139838  0.139424  0.139726   \n",
       "4381_10_07.txt 4381   10           7       0.139838  0.139424  0.139726   \n",
       "4381_10_08.txt 4381   10           8       0.139838  0.139424  0.139726   \n",
       "4381_10_09.txt 4381   10           9       0.139838  0.139424  0.139726   \n",
       "4381_10_10.txt 4381   10           10      0.139838  0.139424  0.139726   \n",
       "\n",
       "                                                 w4        w5        w6  \\\n",
       "               planet stellar_spot photon                                 \n",
       "0003_01_01.txt 3      1            1       0.038797  0.037928  0.040344   \n",
       "0003_01_02.txt 3      1            2       0.038797  0.037928  0.040344   \n",
       "0003_01_03.txt 3      1            3       0.038797  0.037928  0.040344   \n",
       "0003_01_04.txt 3      1            4       0.038797  0.037928  0.040344   \n",
       "0003_01_05.txt 3      1            5       0.038797  0.037928  0.040344   \n",
       "...                                             ...       ...       ...   \n",
       "4381_10_06.txt 4381   10           6       0.140783  0.140178  0.141784   \n",
       "4381_10_07.txt 4381   10           7       0.140783  0.140178  0.141784   \n",
       "4381_10_08.txt 4381   10           8       0.140783  0.140178  0.141784   \n",
       "4381_10_09.txt 4381   10           9       0.140783  0.140178  0.141784   \n",
       "4381_10_10.txt 4381   10           10      0.140783  0.140178  0.141784   \n",
       "\n",
       "                                                 w7        w8        w9  \\\n",
       "               planet stellar_spot photon                                 \n",
       "0003_01_01.txt 3      1            1       0.038850  0.039109  0.040130   \n",
       "0003_01_02.txt 3      1            2       0.038850  0.039109  0.040130   \n",
       "0003_01_03.txt 3      1            3       0.038850  0.039109  0.040130   \n",
       "0003_01_04.txt 3      1            4       0.038850  0.039109  0.040130   \n",
       "0003_01_05.txt 3      1            5       0.038850  0.039109  0.040130   \n",
       "...                                             ...       ...       ...   \n",
       "4381_10_06.txt 4381   10           6       0.142381  0.142276  0.142675   \n",
       "4381_10_07.txt 4381   10           7       0.142381  0.142276  0.142675   \n",
       "4381_10_08.txt 4381   10           8       0.142381  0.142276  0.142675   \n",
       "4381_10_09.txt 4381   10           9       0.142381  0.142276  0.142675   \n",
       "4381_10_10.txt 4381   10           10      0.142381  0.142276  0.142675   \n",
       "\n",
       "                                                w10  ...       w46       w47  \\\n",
       "               planet stellar_spot photon            ...                       \n",
       "0003_01_01.txt 3      1            1       0.039988  ...  0.041926  0.041994   \n",
       "0003_01_02.txt 3      1            2       0.039988  ...  0.041926  0.041994   \n",
       "0003_01_03.txt 3      1            3       0.039988  ...  0.041926  0.041994   \n",
       "0003_01_04.txt 3      1            4       0.039988  ...  0.041926  0.041994   \n",
       "0003_01_05.txt 3      1            5       0.039988  ...  0.041926  0.041994   \n",
       "...                                             ...  ...       ...       ...   \n",
       "4381_10_06.txt 4381   10           6       0.142659  ...  0.138535  0.138673   \n",
       "4381_10_07.txt 4381   10           7       0.142659  ...  0.138535  0.138673   \n",
       "4381_10_08.txt 4381   10           8       0.142659  ...  0.138535  0.138673   \n",
       "4381_10_09.txt 4381   10           9       0.142659  ...  0.138535  0.138673   \n",
       "4381_10_10.txt 4381   10           10      0.142659  ...  0.138535  0.138673   \n",
       "\n",
       "                                                w48       w49       w50  \\\n",
       "               planet stellar_spot photon                                 \n",
       "0003_01_01.txt 3      1            1       0.040807  0.040848  0.041472   \n",
       "0003_01_02.txt 3      1            2       0.040807  0.040848  0.041472   \n",
       "0003_01_03.txt 3      1            3       0.040807  0.040848  0.041472   \n",
       "0003_01_04.txt 3      1            4       0.040807  0.040848  0.041472   \n",
       "0003_01_05.txt 3      1            5       0.040807  0.040848  0.041472   \n",
       "...                                             ...       ...       ...   \n",
       "4381_10_06.txt 4381   10           6       0.140291  0.143743  0.142053   \n",
       "4381_10_07.txt 4381   10           7       0.140291  0.143743  0.142053   \n",
       "4381_10_08.txt 4381   10           8       0.140291  0.143743  0.142053   \n",
       "4381_10_09.txt 4381   10           9       0.140291  0.143743  0.142053   \n",
       "4381_10_10.txt 4381   10           10      0.140291  0.143743  0.142053   \n",
       "\n",
       "                                                w51       w52       w53  \\\n",
       "               planet stellar_spot photon                                 \n",
       "0003_01_01.txt 3      1            1       0.041242  0.041172  0.042116   \n",
       "0003_01_02.txt 3      1            2       0.041242  0.041172  0.042116   \n",
       "0003_01_03.txt 3      1            3       0.041242  0.041172  0.042116   \n",
       "0003_01_04.txt 3      1            4       0.041242  0.041172  0.042116   \n",
       "0003_01_05.txt 3      1            5       0.041242  0.041172  0.042116   \n",
       "...                                             ...       ...       ...   \n",
       "4381_10_06.txt 4381   10           6       0.143236  0.141387  0.143985   \n",
       "4381_10_07.txt 4381   10           7       0.143236  0.141387  0.143985   \n",
       "4381_10_08.txt 4381   10           8       0.143236  0.141387  0.143985   \n",
       "4381_10_09.txt 4381   10           9       0.143236  0.141387  0.143985   \n",
       "4381_10_10.txt 4381   10           10      0.143236  0.141387  0.143985   \n",
       "\n",
       "                                                w54       w55  \n",
       "               planet stellar_spot photon                      \n",
       "0003_01_01.txt 3      1            1       0.042267  0.042400  \n",
       "0003_01_02.txt 3      1            2       0.042267  0.042400  \n",
       "0003_01_03.txt 3      1            3       0.042267  0.042400  \n",
       "0003_01_04.txt 3      1            4       0.042267  0.042400  \n",
       "0003_01_05.txt 3      1            5       0.042267  0.042400  \n",
       "...                                             ...       ...  \n",
       "4381_10_06.txt 4381   10           6       0.144203  0.146115  \n",
       "4381_10_07.txt 4381   10           7       0.144203  0.146115  \n",
       "4381_10_08.txt 4381   10           8       0.144203  0.146115  \n",
       "4381_10_09.txt 4381   10           9       0.144203  0.146115  \n",
       "4381_10_10.txt 4381   10           10      0.144203  0.146115  \n",
       "\n",
       "[51200 rows x 55 columns]"
      ]
     },
     "execution_count": 42,
     "metadata": {},
     "output_type": "execute_result"
    }
   ],
   "source": [
    "test_y_pred_df = test_y_pred_df.reindex(ix_all).fillna(method='ffill')\n",
    "test_y_pred_df"
   ]
  },
  {
   "cell_type": "markdown",
   "id": "dcaf9622",
   "metadata": {},
   "source": [
    "\\\n",
    "**Submit**"
   ]
  },
  {
   "cell_type": "code",
   "execution_count": 43,
   "id": "a1301f98",
   "metadata": {
    "tags": []
   },
   "outputs": [
    {
     "data": {
      "text/plain": [
       "'2025-01-17 15.38.30.csv'"
      ]
     },
     "execution_count": 43,
     "metadata": {},
     "output_type": "execute_result"
    }
   ],
   "source": [
    "s_path = 'submissions/'\n",
    "os.makedirs(s_path, exist_ok=True)\n",
    "\n",
    "s_file = str(pd.Timestamp('now').round('s')).replace(':', '.') + '.csv'\n",
    "s_file"
   ]
  },
  {
   "cell_type": "markdown",
   "id": "aac7f470",
   "metadata": {},
   "source": [
    "Write predictions to the hard drive."
   ]
  },
  {
   "cell_type": "code",
   "execution_count": 44,
   "id": "c06870f0",
   "metadata": {
    "tags": []
   },
   "outputs": [],
   "source": [
    "submission = test_y_pred_df.reset_index(level=OBSERV_INDEX, drop=True).rename_axis(index='files')"
   ]
  },
  {
   "cell_type": "code",
   "execution_count": 45,
   "id": "0ae5f8b0",
   "metadata": {
    "tags": []
   },
   "outputs": [],
   "source": [
    "submission.to_csv(s_path + s_file)\n",
    "\n",
    "# Ensure index is reset (if needed)\n",
    "#test_y_pred_df.reset_index(drop=True, inplace=True)\n",
    "\n",
    "# Save to CSV\n",
    "#submission_file = \"submission.csv\"\n",
    "#test_y_pred_df.to_csv(submission_file, index=False, float_format=\"%.6f\")\n",
    "\n",
    "#print(f\"Submission file saved: {submission_file}\")"
   ]
  },
  {
   "cell_type": "markdown",
   "id": "f96b831b",
   "metadata": {},
   "source": [
    "Submit predictions using the REST API."
   ]
  },
  {
   "cell_type": "code",
   "execution_count": 46,
   "id": "e62e641f",
   "metadata": {
    "tags": []
   },
   "outputs": [],
   "source": [
    "# Enter your team's identifiers\n",
    "team_id = {\n",
    "    \"team_no\": \"3\",\n",
    "    \"team_name\": \"CoRoT-7-b\",\n",
    "    \"secret_key\": \"2006\",\n",
    "    }"
   ]
  },
  {
   "cell_type": "code",
   "execution_count": 47,
   "id": "78748234",
   "metadata": {
    "tags": []
   },
   "outputs": [
    {
     "name": "stdout",
     "output_type": "stream",
     "text": [
      "Status Code: 200\n",
      "Successful submission by 'CoRoT-7-b', with a public leaderboard score of 9094.192215432235\n"
     ]
    }
   ],
   "source": [
    "files = {\"file\": (s_file, submission.to_csv(), \"text/csv\")}\n",
    "\n",
    "response = requests.post(\n",
    "    \"https://www.ariel-datachallenge.space/api/score/calculate/\",\n",
    "    data=team_id, files=files)\n",
    "\n",
    "print(f\"Status Code: {response.status_code}\")\n",
    "if response.status_code == 200:\n",
    "    response_json = response.json()\n",
    "    print(f\"Successful submission by '{team_id['team_name']}', \" +\n",
    "          f\"with a public leaderboard score of {response_json['score']}\")\n",
    "else:\n",
    "    print(f\"Submission failure:\", response.json())"
   ]
  },
  {
   "cell_type": "markdown",
   "id": "5a961073",
   "metadata": {},
   "source": [
    "These are the error codes you may come across when submitting:\n",
    "\n",
    "    Wrong file type : File is not in .csv format\n",
    "    File processing failed : The .csv file is not formatted correctly\n",
    "    Invalid secret code : Typo in secret code or wrong code\n",
    "    Invalid data format : The file has non-numeric values\n",
    "    Wrong data format : The num of rows or column is not as expected\n",
    "    Invalid Submission : Empty file submitted"
   ]
  },
  {
   "cell_type": "markdown",
   "id": "5d4d640e",
   "metadata": {},
   "source": [
    "-----\n",
    "\n",
    "-----"
   ]
  }
 ],
 "metadata": {
  "kernelspec": {
   "display_name": "ariel_hackathon",
   "language": "python",
   "name": "ariel_hackathon"
  },
  "language_info": {
   "codemirror_mode": {
    "name": "ipython",
    "version": 3
   },
   "file_extension": ".py",
   "mimetype": "text/x-python",
   "name": "python",
   "nbconvert_exporter": "python",
   "pygments_lexer": "ipython3",
   "version": "3.11.11"
  },
  "toc": {
   "base_numbering": 1,
   "nav_menu": {},
   "number_sections": true,
   "sideBar": true,
   "skip_h1_title": false,
   "title_cell": "Table of Contents",
   "title_sidebar": "Contents",
   "toc_cell": true,
   "toc_position": {
    "height": "calc(100% - 180px)",
    "left": "10px",
    "top": "150px",
    "width": "364.2px"
   },
   "toc_section_display": true,
   "toc_window_display": true
  }
 },
 "nbformat": 4,
 "nbformat_minor": 5
}
