{
 "cells": [
  {
   "cell_type": "markdown",
   "id": "6a853808",
   "metadata": {
    "toc": true
   },
   "source": [
    "<h1>Table of Contents<span class=\"tocSkip\"></span></h1>\n",
    "<div class=\"toc\"><ul class=\"toc-item\"><li><span><a href=\"#Imports\" data-toc-modified-id=\"Imports-1\"><span class=\"toc-item-num\">1&nbsp;&nbsp;</span>Imports</a></span></li><li><span><a href=\"#Data-preparation\" data-toc-modified-id=\"Data-preparation-2\"><span class=\"toc-item-num\">2&nbsp;&nbsp;</span>Data preparation</a></span></li><li><span><a href=\"#Modelling\" data-toc-modified-id=\"Modelling-3\"><span class=\"toc-item-num\">3&nbsp;&nbsp;</span>Modelling</a></span><ul class=\"toc-item\"><li><span><a href=\"#Cross-validation\" data-toc-modified-id=\"Cross-validation-3.1\"><span class=\"toc-item-num\">3.1&nbsp;&nbsp;</span>Cross-validation</a></span></li><li><span><a href=\"#Train-model-over-full-train-set\" data-toc-modified-id=\"Train-model-over-full-train-set-3.2\"><span class=\"toc-item-num\">3.2&nbsp;&nbsp;</span>Train model over full train set</a></span></li></ul></li><li><span><a href=\"#Predict-over-test-set\" data-toc-modified-id=\"Predict-over-test-set-4\"><span class=\"toc-item-num\">4&nbsp;&nbsp;</span>Predict over test set</a></span></li><li><span><a href=\"#Submit-predictions\" data-toc-modified-id=\"Submit-predictions-5\"><span class=\"toc-item-num\">5&nbsp;&nbsp;</span>Submit predictions</a></span></li></ul></div>"
   ]
  },
  {
   "cell_type": "markdown",
   "id": "a1d9d775",
   "metadata": {},
   "source": [
    "----"
   ]
  },
  {
   "cell_type": "markdown",
   "id": "fcb64658",
   "metadata": {},
   "source": [
    "**<big>ESA Datalabs Ariel Hackathon</big>**"
   ]
  },
  {
   "cell_type": "markdown",
   "id": "63a7ca56",
   "metadata": {},
   "source": [
    "Modelling starter code"
   ]
  },
  {
   "cell_type": "markdown",
   "id": "edf163f2",
   "metadata": {},
   "source": [
    "----\n",
    "\n",
    "----"
   ]
  },
  {
   "cell_type": "markdown",
   "id": "7d60df0e",
   "metadata": {},
   "source": [
    "# Imports"
   ]
  },
  {
   "cell_type": "code",
   "execution_count": 1,
   "id": "6f6fd6fa",
   "metadata": {
    "tags": []
   },
   "outputs": [],
   "source": [
    "import gc, requests\n",
    "from sklearn.linear_model import BayesianRidge\n",
    "from sklearn.multioutput import MultiOutputRegressor\n",
    "import numpy as np\n",
    "import pandas as pd\n",
    "import matplotlib.pylab as plt\n",
    "import seaborn as sns\n",
    "\n",
    "%matplotlib inline\n",
    "\n",
    "import sys\n",
    "sys.path.append('esac-hackathon-starter-code-dev')\n",
    "from adc21 import *"
   ]
  },
  {
   "cell_type": "markdown",
   "id": "e4c0465d",
   "metadata": {},
   "source": [
    "---"
   ]
  },
  {
   "cell_type": "markdown",
   "id": "9c28ae34",
   "metadata": {},
   "source": [
    "**Load dataset**"
   ]
  },
  {
   "cell_type": "code",
   "execution_count": 2,
   "id": "01bfcde3",
   "metadata": {
    "tags": []
   },
   "outputs": [],
   "source": [
    "# Please adjust the below path with your team's workspace, e.g. '/media/team_workspaces/MYTEAMNAME/'\n",
    "DATA_PATH = '/media/team_workspaces/CoRoT-7-b/'"
   ]
  },
  {
   "cell_type": "code",
   "execution_count": 3,
   "id": "cb0d8cfc",
   "metadata": {
    "tags": []
   },
   "outputs": [
    {
     "name": "stdout",
     "output_type": "stream",
     "text": [
      "<class 'adc21.data.dataset'>\n",
      "CPU times: user 1.25 s, sys: 3.38 s, total: 4.64 s\n",
      "Wall time: 21.4 s\n"
     ]
    }
   ],
   "source": [
    "%%time\n",
    "DATA = load_dataset(DATA_PATH + 'ADC21esac_train.pkl')\n",
    "#DATA = load_dataset(DATA_PATH + 'ADC21esac_test.pkl')\n",
    "print(type(DATA))"
   ]
  },
  {
   "cell_type": "markdown",
   "id": "200ffc14",
   "metadata": {},
   "source": [
    "----\n",
    "\n",
    "----"
   ]
  },
  {
   "cell_type": "markdown",
   "id": "0ade422e-e888-4126-8592-8d358a98ccd6",
   "metadata": {
    "tags": []
   },
   "source": [
    "## Cleaning (ensuring that there are no missing values, Nan's or 0 or similar)"
   ]
  },
  {
   "cell_type": "code",
   "execution_count": 4,
   "id": "ed14fa9f-d149-4955-97d7-d204d95bb1cc",
   "metadata": {
    "tags": []
   },
   "outputs": [
    {
     "name": "stdout",
     "output_type": "stream",
     "text": [
      "<class 'dict'>\n"
     ]
    }
   ],
   "source": [
    "# Check the type of DATA.X and inspect its content\n",
    "print(type(DATA.X))\n",
    "\n",
    "# If DATA.X is a dictionary of numpy arrays or lists\n",
    "for key, value in DATA.X.items():\n",
    "    # Check if the value is a numpy array or list\n",
    "    if isinstance(value, (np.ndarray, list)):\n",
    "        # Check for missing values (NaNs)\n",
    "        missing_values = np.any(np.isnan(value)).sum()\n",
    "        if missing_values > 0:\n",
    "            print(f\"Missing values in column {key}: {missing_values}\")"
   ]
  },
  {
   "cell_type": "markdown",
   "id": "276e41eb-e77b-4412-ae8f-4ccccd17769c",
   "metadata": {},
   "source": [
    "No missing values"
   ]
  },
  {
   "cell_type": "markdown",
   "id": "8170497e",
   "metadata": {},
   "source": [
    "# Data preparation"
   ]
  },
  {
   "cell_type": "markdown",
   "id": "06916505",
   "metadata": {},
   "source": [
    "You are free to train your ML models over the raw data, or over data pre-processed in any way you choose.\n",
    "\n",
    "We offer below a possible way to prepare the data for modelling.\n",
    "\n",
    "This data preparation pipeline is also in use at the **https://ariel-lightcurve-challenge.mlanalytics.ai/** website. You are encouraged to use the website to explore the dataset, and the impact of different transformations."
   ]
  },
  {
   "cell_type": "markdown",
   "id": "afee73aa",
   "metadata": {},
   "source": [
    "***Parameters of the data pre-processing pipeline***:\n",
    "\n",
    "**WINDOW_RADIUS**\n",
    "* Improve estimate of observation at time t by taking the mean over all values observed in the [t-r, t+r] time window, where r is the chosen radius. Process is applied for all time instants, of all wavelength channels.\n",
    "\n",
    "**AGGR_NUM_OBS**\n",
    "* We have the chance to observe the exoplanet for up to 10 of its \\\"years\\\", 10 different transits in front of its star (in this dataset). We know enough about the planet's orbit to know the point of a transit that should match the equivalent point of a different transit. When taking the mean to estimate the light curve value at time t, it is then best to consider also the matching observations of up to how many different transits?\n",
    "\n",
    "**MIRROR_STACKING**\n",
    "* An ideal observation of a planet's transit, with no imprecision in the measurements, would produce a smooth light curve, symmetrical around the point of maximum dip. What we know of the planet's orbit allows us to estimate when is that point reached. In this dataset, it's at the t=150 instant. When estimating the true value at t=100, for instance, the measurements at t=200 are then also informative. Choosing this option, the time-symmetrical measurements are then also included when calculating the mean. By doing so, observe how the light curves become symmetrical. For training the AI model, it is then enough to consider just half the curve, as it would be redundant to see same values again on the other side of t=150.\n",
    "\n",
    "**MEAN_TYPE**\n",
    "* The settings above define the set of values we'll consider as relevant to the estimation of the true value at a given time instant. What is then the best way to aggregate all those separate measurements? We'll be using what's known as a \"[generalized mean](https://en.wikipedia.org/wiki/Generalized_mean)\" for that. This equation has a single parameter, p. For p=1 it becomes the well known arithmetic mean. Different settings will favour either the smaller (p<0) or larger values under aggregation (p>0). The plots may show imperceptible differences, but the AI model will be sensitive to it!\n",
    "\n",
    "**GRID_PTS_NUM**\n",
    "* How many different things should the AI model consider at once? You want to make the learning problem as simple as possible, but not so simple that the AI is not exposed to important information, and is then unable to perform well. The AI won't be seeing the full light curve – it contains 300×55=16,500 measurements for just one transit! Instead, we perform aggregations at just a few carefully chosen time steps, and have the AI learn over just those. This parameter then controls the number of different variables you give to the AI model, and so the complexity of the learning problem.\n",
    "\n",
    "**GRID_PTS_SPACING**\n",
    "* Is it better to focus around the t=150 instant, or does the AI need to consider also the slope down from 1.0 relative brightness? This parameter controls the spacing, in minutes, between the grid points chosen in the previous setting. It determines the kind of information the AI will consider when learning how to extract the spectrum from the light curve."
   ]
  },
  {
   "cell_type": "code",
   "execution_count": 5,
   "id": "673a6946",
   "metadata": {
    "tags": []
   },
   "outputs": [
    {
     "name": "stdout",
     "output_type": "stream",
     "text": [
      "With these settings, a star has its observations transformed into a 501-dimensional representation: 8+1 grid points × 55 wavelength channels + 6 stellar/planet parameters.\n",
      "Each grid point aggregates with a p=-2 a total of 580 values: a time window 2×14+1 minutes wide × 10 planetary transits × 2 time symmetrical observations.\n"
     ]
    },
    {
     "data": {
      "text/plain": [
       "{'WINDOW_RADIUS': 14,\n",
       " 'AGGR_NUM_OBS': 10,\n",
       " 'MIRROR_STACKING': True,\n",
       " 'MEAN_TYPE_P': -2,\n",
       " 'GRID_PTS_NUM': 8,\n",
       " 'GRID_PTS_SPACING': 6}"
      ]
     },
     "execution_count": 5,
     "metadata": {},
     "output_type": "execute_result"
    }
   ],
   "source": [
    "# configure the desired data pre-processing pipeline\n",
    "\n",
    "data_setup = dict(\n",
    "    WINDOW_RADIUS    = 14,\n",
    "    AGGR_NUM_OBS     = 10,\n",
    "    MIRROR_STACKING  = True,\n",
    "    MEAN_TYPE_P      = -2,\n",
    "    \n",
    "    GRID_PTS_NUM     = 8,\n",
    "    GRID_PTS_SPACING = 6,\n",
    "    )\n",
    "\n",
    "\n",
    "setup_summary(data_setup)\n",
    "data_setup"
   ]
  },
  {
   "cell_type": "code",
   "execution_count": 6,
   "id": "582c6df0",
   "metadata": {
    "tags": []
   },
   "outputs": [
    {
     "data": {
      "image/png": "[encoded data removed]",
      "text/plain": [
       "<Figure size 1000x500 with 2 Axes>"
      ]
     },
     "metadata": {},
     "output_type": "display_data"
    }
   ],
   "source": [
    "# Visualization of how the data pre-processing defined above transforms a given planet's observations\n",
    "visualize_setup(DATA, data_setup, planet_id=1759)"
   ]
  },
  {
   "cell_type": "markdown",
   "id": "297fbe25",
   "metadata": {},
   "source": [
    "\\\n",
    "To transform the whole dataset using the `data_setup` defined above, first call `configure_pipeline()`, and then `prepare_data()`."
   ]
  },
  {
   "cell_type": "code",
   "execution_count": 7,
   "id": "212ba420",
   "metadata": {
    "tags": []
   },
   "outputs": [],
   "source": [
    "X_pipeline = configure_pipeline(**data_setup)\n",
    "#X_pipeline"
   ]
  },
  {
   "cell_type": "code",
   "execution_count": 8,
   "id": "abb2281c",
   "metadata": {
    "tags": []
   },
   "outputs": [
    {
     "name": "stdout",
     "output_type": "stream",
     "text": [
      "functools.partial(<function X__set_to__obs_encodings at 0x7f6508dc6ca0>, agg_stellar=False, agg_photon=10, agg=-2, window_radius=14, grid=(102, 108, 114, 120, 126, 132, 138, 144, 150), mirror_stacking=True)\n"
     ]
    },
    {
     "data": {
      "text/html": [
       "\n",
       "<style>\n",
       "    /* Turns off some styling */\n",
       "    progress {\n",
       "        /* gets rid of default border in Firefox and Opera. */\n",
       "        border: none;\n",
       "        /* Needs to be in here for Safari polyfill so background images work as expected. */\n",
       "        background-size: auto;\n",
       "    }\n",
       "    progress:not([value]), progress:not([value])::-webkit-progress-bar {\n",
       "        background: repeating-linear-gradient(45deg, #7e7e7e, #7e7e7e 10px, #5c5c5c 10px, #5c5c5c 20px);\n",
       "    }\n",
       "    .progress-bar-interrupted, .progress-bar-interrupted::-webkit-progress-bar {\n",
       "        background: #F44336;\n",
       "    }\n",
       "</style>\n"
      ],
      "text/plain": [
       "<IPython.core.display.HTML object>"
      ]
     },
     "metadata": {},
     "output_type": "display_data"
    },
    {
     "data": {
      "text/html": [
       "\n",
       "    <div>\n",
       "      <progress value='1000' class='' max='1000' style='width:300px; height:20px; vertical-align: middle;'></progress>\n",
       "      100.00% [1000/1000 00:06&lt;00:00]\n",
       "    </div>\n",
       "    "
      ],
      "text/plain": [
       "<IPython.core.display.HTML object>"
      ]
     },
     "metadata": {},
     "output_type": "display_data"
    },
    {
     "name": "stdout",
     "output_type": "stream",
     "text": [
      "functools.partial(<function X__stack_with__par at 0x7f6508df9120>, par_var='X_par')\n",
      "CPU times: user 6.69 s, sys: 1.19 s, total: 7.87 s\n",
      "Wall time: 7.92 s\n"
     ]
    }
   ],
   "source": [
    "%%time\n",
    "data = prepare_data(DATA, X_pipeline)"
   ]
  },
  {
   "cell_type": "code",
   "execution_count": 9,
   "id": "b34582a9",
   "metadata": {
    "tags": []
   },
   "outputs": [
    {
     "name": "stdout",
     "output_type": "stream",
     "text": [
      "[[3.6674199e+03 5.0000000e+00 4.3950000e-01 ... 5.3037550e-02\n",
      "  5.2174170e-02 5.2403864e-02]\n",
      " [3.6674199e+03 5.0000000e+00 4.3950000e-01 ... 5.7268023e-02\n",
      "  5.7382915e-02 5.9075475e-02]\n",
      " [3.6674199e+03 5.0000000e+00 4.3950000e-01 ... 6.1646838e-02\n",
      "  6.0910515e-02 6.0364481e-02]\n",
      " ...\n",
      " [4.7310000e+03 4.5000000e+00 6.9000000e-01 ... 4.5370106e-02\n",
      "  3.4155264e-02 0.0000000e+00]\n",
      " [4.7310000e+03 4.5000000e+00 6.9000000e-01 ... 6.8093352e-02\n",
      "  5.5162277e-02 4.5016646e-02]\n",
      " [4.7310000e+03 4.5000000e+00 6.9000000e-01 ... 6.5951869e-02\n",
      "  6.6743776e-02 6.6577017e-02]]\n"
     ]
    }
   ],
   "source": [
    "type(data), data.X.dtype, data.y.dtype\n",
    "print(data.X)"
   ]
  },
  {
   "cell_type": "code",
   "execution_count": 10,
   "id": "25ffe7a4",
   "metadata": {
    "tags": []
   },
   "outputs": [
    {
     "data": {
      "text/plain": [
       "array([[0.05427011, 0.05390767, 0.05448135, ..., 0.05766987, 0.05825472,\n",
       "        0.05851034],\n",
       "       [0.05427011, 0.05390767, 0.05448135, ..., 0.05766987, 0.05825472,\n",
       "        0.05851034],\n",
       "       [0.05427011, 0.05390767, 0.05448135, ..., 0.05766987, 0.05825472,\n",
       "        0.05851034],\n",
       "       ...,\n",
       "       [0.03866225, 0.03808885, 0.03876797, ..., 0.0436143 , 0.04515038,\n",
       "        0.0455361 ],\n",
       "       [0.03866225, 0.03808885, 0.03876797, ..., 0.0436143 , 0.04515038,\n",
       "        0.0455361 ],\n",
       "       [0.03866225, 0.03808885, 0.03876797, ..., 0.0436143 , 0.04515038,\n",
       "        0.0455361 ]], dtype=float32)"
      ]
     },
     "execution_count": 10,
     "metadata": {},
     "output_type": "execute_result"
    }
   ],
   "source": [
    "data.y"
   ]
  },
  {
   "cell_type": "code",
   "execution_count": 11,
   "id": "414cf956",
   "metadata": {
    "tags": []
   },
   "outputs": [
    {
     "data": {
      "text/plain": [
       "(10000, 501)"
      ]
     },
     "execution_count": 11,
     "metadata": {},
     "output_type": "execute_result"
    }
   ],
   "source": [
    "data.X.shape"
   ]
  },
  {
   "cell_type": "code",
   "execution_count": 12,
   "id": "0707eabe",
   "metadata": {
    "scrolled": true,
    "tags": []
   },
   "outputs": [
    {
     "data": {
      "text/plain": [
       "(10000, 55)"
      ]
     },
     "execution_count": 12,
     "metadata": {},
     "output_type": "execute_result"
    }
   ],
   "source": [
    "data.y.shape"
   ]
  },
  {
   "cell_type": "markdown",
   "id": "b9c26928",
   "metadata": {},
   "source": [
    "\\\n",
    "**At this point you have a defined ML problem: given `data.X`, predict `data.y`.**"
   ]
  },
  {
   "cell_type": "markdown",
   "id": "201d5646",
   "metadata": {},
   "source": [
    "\\\n",
    "If you don't need the raw data anymore, you can remove it from memory."
   ]
  },
  {
   "cell_type": "code",
   "execution_count": 13,
   "id": "750618ed",
   "metadata": {
    "tags": []
   },
   "outputs": [
    {
     "data": {
      "text/plain": [
       "17068"
      ]
     },
     "execution_count": 13,
     "metadata": {},
     "output_type": "execute_result"
    }
   ],
   "source": [
    "del DATA\n",
    "del data.X_obs\n",
    "\n",
    "gc.collect()"
   ]
  },
  {
   "cell_type": "markdown",
   "id": "a5eb8145",
   "metadata": {},
   "source": [
    "----"
   ]
  },
  {
   "cell_type": "markdown",
   "id": "13200fa0",
   "metadata": {},
   "source": [
    "# Modelling"
   ]
  },
  {
   "cell_type": "markdown",
   "id": "7ec3c4ed",
   "metadata": {},
   "source": [
    "Let's start simple, with a linear model ([sklearn.linear_model.Ridge](https://scikit-learn.org/stable/modules/generated/sklearn.linear_model.Ridge.html))."
   ]
  },
  {
   "cell_type": "code",
   "execution_count": 14,
   "id": "fc9cc7d0",
   "metadata": {
    "tags": []
   },
   "outputs": [],
   "source": [
    "#model_class = Ridge\n",
    "\n",
    "#model_args  = dict(alpha=100)\n",
    "\n",
    "# Use Lasso Regression instead of Ridge\n",
    "#model_class = Lasso\n",
    "#model_args = dict(alpha=0.0001, tol = 0.01)  # Adjust alpha for better regularization\n",
    "\n",
    "\n",
    "# GIVES PROBLEM EXPECTING 1D ARRAY INSTEAD OF 2 SO WE TRY MultiOutputRegressor\n",
    "#model_class = BayesianRidge\n",
    "# Adjust model parameters for better performance\n",
    "#model_args = dict(alpha_1=1e-6, alpha_2=1e-6, lambda_1=1e-6, lambda_2=1e-6, tol=1e-4)  ## TEST THESE\n",
    "\n",
    "# Replace Ridge with BayesianRidge inside MultiOutputRegressor\n",
    "#model_class = MultiOutputRegressor\n",
    "#model_args  = dict(BayesianRidge(alpha_1=1e-6, alpha_2=1e-6,lambda_1=1e-6, lambda_2=1e-6, tol=1e-4))\n"
   ]
  },
  {
   "cell_type": "markdown",
   "id": "27fd8272",
   "metadata": {},
   "source": [
    "## Cross-validation"
   ]
  },
  {
   "cell_type": "markdown",
   "id": "60f2fea1",
   "metadata": {},
   "source": [
    "Depending on how you prepare the data, you'll most likely end up with different samples belonging to the same planet. Those samples will have the same star/planet parameters, the same prediction targets, and observations subjected to different noise instances.\n",
    "\n",
    "When cross-validating your modelling setup, you must ensure you use something like [sklearn.model_selection.GroupKFold](https://scikit-learn.org/stable/modules/generated/sklearn.model_selection.GroupKFold.html), so the data split will happen at a planet-level, rather than sample-level. Otherwise, if the same planet ends up being present in both the train and validation folds, you'll obtain optimistic performance metrics."
   ]
  },
  {
   "cell_type": "markdown",
   "id": "076499ab",
   "metadata": {},
   "source": [
    "We provide a `cross_validate_setup()` function that works over `adc21.data_pipeline.data_container` objects, and implements k-fold cross validation with splits at planet level. It takes as argument an `init_model` function that creates instances of your chosen model class. Those objects are expected to implement a scikit-learn like interface with `.fit()` and `.predict()` methods. The cross validation function also handles data standardization into 0 mean and 1 standard deviation (defined over train-fold, applied over validation fold)."
   ]
  },
  {
   "cell_type": "code",
   "execution_count": 15,
   "id": "9b61a6ee",
   "metadata": {
    "tags": []
   },
   "outputs": [],
   "source": [
    "# convenience function that creates an instance of the chosen model_class, parameterized with the chosen model_args\n",
    "#init_model = lambda : model_class(**model_args)\n",
    "init_model = lambda: MultiOutputRegressor(BayesianRidge(\n",
    "    alpha_1=1e-4, alpha_2=1e-4, lambda_1=1e-4, lambda_2=1e-4, tol=1e-6\n",
    "))"
   ]
  },
  {
   "cell_type": "code",
   "execution_count": 16,
   "id": "f9b2c325",
   "metadata": {
    "tags": []
   },
   "outputs": [
    {
     "name": "stdout",
     "output_type": "stream",
     "text": [
      "Help on function cross_validate_setup in module adc21.evaluate:\n",
      "\n",
      "cross_validate_setup(data, init_model, n_splits=10, split_seed=0, standardize=True, prefit_transform=None, y_encode=None, y_decode=None, fit_err_track=False, verbose=True, **fit_args)\n",
      "    Cross-validate a modelling setup.\n",
      "    \n",
      "    Returns results as a dictionary, where each key maps to a list of results\n",
      "    per train/validation fold:\n",
      "    \n",
      "    ```python\n",
      "    # Initialization of the CV results dictionary:\n",
      "    cv_res = dict(\n",
      "            test_ids   = [],  # ids of planets that were included in the test-fold used to evaluate this model.\n",
      "            data_cfg   = [],  # parameters configuring processing of data sent to each model (standardization parameters)\n",
      "            models     = [],  # the trained models\n",
      "            y_true     = [],  # the prediction targets of samples on the test-fold\n",
      "            y_pred     = [],  # the y_pred of each model on its test-fold\n",
      "            y_pred_agg = [],  # test-fold predictions aggregated at planet-level\n",
      "            evals      = [],  # score() over y_pred\n",
      "            evals_agg  = [],  # score() over y_pred_agg\n",
      "            )\n",
      "    ```\n",
      "\n"
     ]
    }
   ],
   "source": [
    "help(cross_validate_setup)"
   ]
  },
  {
   "cell_type": "code",
   "execution_count": 17,
   "id": "9bf05c59",
   "metadata": {
    "tags": []
   },
   "outputs": [
    {
     "data": {
      "text/html": [
       "\n",
       "<style>\n",
       "    /* Turns off some styling */\n",
       "    progress {\n",
       "        /* gets rid of default border in Firefox and Opera. */\n",
       "        border: none;\n",
       "        /* Needs to be in here for Safari polyfill so background images work as expected. */\n",
       "        background-size: auto;\n",
       "    }\n",
       "    progress:not([value]), progress:not([value])::-webkit-progress-bar {\n",
       "        background: repeating-linear-gradient(45deg, #7e7e7e, #7e7e7e 10px, #5c5c5c 10px, #5c5c5c 20px);\n",
       "    }\n",
       "    .progress-bar-interrupted, .progress-bar-interrupted::-webkit-progress-bar {\n",
       "        background: #F44336;\n",
       "    }\n",
       "</style>\n"
      ],
      "text/plain": [
       "<IPython.core.display.HTML object>"
      ]
     },
     "metadata": {},
     "output_type": "display_data"
    },
    {
     "data": {
      "text/html": [
       "\n",
       "    <div>\n",
       "      <progress value='15' class='' max='15' style='width:300px; height:20px; vertical-align: middle;'></progress>\n",
       "      100.00% [15/15 09:35&lt;00:00]\n",
       "    </div>\n",
       "    "
      ],
      "text/plain": [
       "<IPython.core.display.HTML object>"
      ]
     },
     "metadata": {},
     "output_type": "display_data"
    },
    {
     "name": "stdout",
     "output_type": "stream",
     "text": [
      "CPU times: user 49min 4s, sys: 4min 18s, total: 53min 23s\n",
      "Wall time: 9min 35s\n"
     ]
    }
   ],
   "source": [
    "%%time\n",
    "cv_res = cross_validate_setup(data, init_model, n_splits=15, standardize=True)  # then try 20"
   ]
  },
  {
   "cell_type": "markdown",
   "id": "a2ec504f",
   "metadata": {},
   "source": [
    "The scoring functions provided in the `adc21` module implement various regression metrics. Evaluation tables contain:\n",
    "\n",
    "* `R^2` - [r2_score](https://scikit-learn.org/stable/modules/generated/sklearn.metrics.r2_score.html)\n",
    "* `MSE` - [mean_squared_error](https://scikit-learn.org/stable/modules/generated/sklearn.metrics.mean_squared_error.html)\n",
    "* `RMSE` - Root Mean Squared Error, `np.sqrt(MSE)`\n",
    "* `RMSPE` - Root Mean Squared Percentage Error (RMSPE), `RMSPE = np.sqrt(((y_pred / y_true - 1) ** 2).mean())`\n",
    "* `MAE` - [mean_absolute_error](https://scikit-learn.org/stable/modules/generated/sklearn.metrics.mean_absolute_error.html)\n",
    "* `MedianAE` - [median_absolute_error](https://scikit-learn.org/stable/modules/generated/sklearn.metrics.median_absolute_error.html)\n",
    "* `Score, w: none` - Scaled MAE, with optimum at 10,000.\n",
    "  * Implemented as `1e4 - MAE * 1e6`\n",
    "* **`Score, w: 2*radii`** - Scaled and weighted MAE, with optimum at 10,000. This is the score you'll be evaluated on. Read  more about it at the [Hackathon Details](https://www.ariel-datachallenge.space/esa-datalabs25/details) page.\n",
    "  * Implemented as `1e4 - 2 * (y_true * np.abs(y_pred - y_true)).mean() * 1e6`"
   ]
  },
  {
   "cell_type": "code",
   "execution_count": 18,
   "id": "1294698f",
   "metadata": {
    "tags": []
   },
   "outputs": [
    {
     "data": {
      "text/html": [
       "<div>\n",
       "<style scoped>\n",
       "    .dataframe tbody tr th:only-of-type {\n",
       "        vertical-align: middle;\n",
       "    }\n",
       "\n",
       "    .dataframe tbody tr th {\n",
       "        vertical-align: top;\n",
       "    }\n",
       "\n",
       "    .dataframe thead th {\n",
       "        text-align: right;\n",
       "    }\n",
       "</style>\n",
       "<table border=\"1\" class=\"dataframe\">\n",
       "  <thead>\n",
       "    <tr style=\"text-align: right;\">\n",
       "      <th></th>\n",
       "      <th>0</th>\n",
       "      <th>1</th>\n",
       "      <th>2</th>\n",
       "      <th>3</th>\n",
       "      <th>4</th>\n",
       "      <th>5</th>\n",
       "      <th>6</th>\n",
       "      <th>7</th>\n",
       "      <th>8</th>\n",
       "      <th>9</th>\n",
       "      <th>10</th>\n",
       "      <th>11</th>\n",
       "      <th>12</th>\n",
       "      <th>13</th>\n",
       "      <th>14</th>\n",
       "    </tr>\n",
       "  </thead>\n",
       "  <tbody>\n",
       "    <tr>\n",
       "      <th>R^2</th>\n",
       "      <td>0.990977</td>\n",
       "      <td>0.961550</td>\n",
       "      <td>0.985784</td>\n",
       "      <td>0.983402</td>\n",
       "      <td>0.983305</td>\n",
       "      <td>0.988215</td>\n",
       "      <td>0.989280</td>\n",
       "      <td>0.989858</td>\n",
       "      <td>0.974120</td>\n",
       "      <td>0.974502</td>\n",
       "      <td>0.984060</td>\n",
       "      <td>0.985651</td>\n",
       "      <td>0.981541</td>\n",
       "      <td>0.984159</td>\n",
       "      <td>0.958184</td>\n",
       "    </tr>\n",
       "    <tr>\n",
       "      <th>MSE</th>\n",
       "      <td>0.000023</td>\n",
       "      <td>0.000111</td>\n",
       "      <td>0.000020</td>\n",
       "      <td>0.000010</td>\n",
       "      <td>0.000022</td>\n",
       "      <td>0.000015</td>\n",
       "      <td>0.000010</td>\n",
       "      <td>0.000011</td>\n",
       "      <td>0.000052</td>\n",
       "      <td>0.000035</td>\n",
       "      <td>0.000012</td>\n",
       "      <td>0.000023</td>\n",
       "      <td>0.000047</td>\n",
       "      <td>0.000027</td>\n",
       "      <td>0.000050</td>\n",
       "    </tr>\n",
       "    <tr>\n",
       "      <th>RMSE</th>\n",
       "      <td>0.004836</td>\n",
       "      <td>0.010553</td>\n",
       "      <td>0.004429</td>\n",
       "      <td>0.003213</td>\n",
       "      <td>0.004736</td>\n",
       "      <td>0.003867</td>\n",
       "      <td>0.003167</td>\n",
       "      <td>0.003340</td>\n",
       "      <td>0.007179</td>\n",
       "      <td>0.005892</td>\n",
       "      <td>0.003451</td>\n",
       "      <td>0.004826</td>\n",
       "      <td>0.006866</td>\n",
       "      <td>0.005156</td>\n",
       "      <td>0.007055</td>\n",
       "    </tr>\n",
       "    <tr>\n",
       "      <th>RMSPE</th>\n",
       "      <td>0.093318</td>\n",
       "      <td>0.147994</td>\n",
       "      <td>0.131319</td>\n",
       "      <td>0.112844</td>\n",
       "      <td>0.143263</td>\n",
       "      <td>0.111629</td>\n",
       "      <td>0.110297</td>\n",
       "      <td>0.089209</td>\n",
       "      <td>0.134036</td>\n",
       "      <td>0.122279</td>\n",
       "      <td>0.118691</td>\n",
       "      <td>0.108802</td>\n",
       "      <td>0.095000</td>\n",
       "      <td>0.112628</td>\n",
       "      <td>0.130247</td>\n",
       "    </tr>\n",
       "    <tr>\n",
       "      <th>MAE</th>\n",
       "      <td>0.002451</td>\n",
       "      <td>0.004563</td>\n",
       "      <td>0.002912</td>\n",
       "      <td>0.002212</td>\n",
       "      <td>0.002800</td>\n",
       "      <td>0.002395</td>\n",
       "      <td>0.002242</td>\n",
       "      <td>0.002055</td>\n",
       "      <td>0.003297</td>\n",
       "      <td>0.003073</td>\n",
       "      <td>0.002196</td>\n",
       "      <td>0.002514</td>\n",
       "      <td>0.003013</td>\n",
       "      <td>0.002944</td>\n",
       "      <td>0.003372</td>\n",
       "    </tr>\n",
       "    <tr>\n",
       "      <th>MedianAE</th>\n",
       "      <td>0.001572</td>\n",
       "      <td>0.001570</td>\n",
       "      <td>0.001944</td>\n",
       "      <td>0.001519</td>\n",
       "      <td>0.001759</td>\n",
       "      <td>0.001484</td>\n",
       "      <td>0.001598</td>\n",
       "      <td>0.001382</td>\n",
       "      <td>0.001684</td>\n",
       "      <td>0.001711</td>\n",
       "      <td>0.001525</td>\n",
       "      <td>0.001431</td>\n",
       "      <td>0.001652</td>\n",
       "      <td>0.001752</td>\n",
       "      <td>0.001548</td>\n",
       "    </tr>\n",
       "    <tr>\n",
       "      <th>Score, w: none</th>\n",
       "      <td>7549.088672</td>\n",
       "      <td>5436.543133</td>\n",
       "      <td>7087.818338</td>\n",
       "      <td>7788.466047</td>\n",
       "      <td>7200.215934</td>\n",
       "      <td>7605.486074</td>\n",
       "      <td>7757.680947</td>\n",
       "      <td>7945.174808</td>\n",
       "      <td>6703.174431</td>\n",
       "      <td>6927.321889</td>\n",
       "      <td>7804.445680</td>\n",
       "      <td>7485.544998</td>\n",
       "      <td>6986.635029</td>\n",
       "      <td>7055.936139</td>\n",
       "      <td>6627.629735</td>\n",
       "    </tr>\n",
       "    <tr>\n",
       "      <th>Score, w: 2*radii</th>\n",
       "      <td>9526.031519</td>\n",
       "      <td>9179.890612</td>\n",
       "      <td>9627.509824</td>\n",
       "      <td>9804.017702</td>\n",
       "      <td>9684.024515</td>\n",
       "      <td>9718.081643</td>\n",
       "      <td>9792.448769</td>\n",
       "      <td>9766.090841</td>\n",
       "      <td>9514.075957</td>\n",
       "      <td>9578.880612</td>\n",
       "      <td>9785.588981</td>\n",
       "      <td>9628.000252</td>\n",
       "      <td>9276.102229</td>\n",
       "      <td>9566.259619</td>\n",
       "      <td>9458.941806</td>\n",
       "    </tr>\n",
       "  </tbody>\n",
       "</table>\n",
       "</div>"
      ],
      "text/plain": [
       "                            0            1            2            3   \\\n",
       "R^2                   0.990977     0.961550     0.985784     0.983402   \n",
       "MSE                   0.000023     0.000111     0.000020     0.000010   \n",
       "RMSE                  0.004836     0.010553     0.004429     0.003213   \n",
       "RMSPE                 0.093318     0.147994     0.131319     0.112844   \n",
       "MAE                   0.002451     0.004563     0.002912     0.002212   \n",
       "MedianAE              0.001572     0.001570     0.001944     0.001519   \n",
       "Score, w: none     7549.088672  5436.543133  7087.818338  7788.466047   \n",
       "Score, w: 2*radii  9526.031519  9179.890612  9627.509824  9804.017702   \n",
       "\n",
       "                            4            5            6            7   \\\n",
       "R^2                   0.983305     0.988215     0.989280     0.989858   \n",
       "MSE                   0.000022     0.000015     0.000010     0.000011   \n",
       "RMSE                  0.004736     0.003867     0.003167     0.003340   \n",
       "RMSPE                 0.143263     0.111629     0.110297     0.089209   \n",
       "MAE                   0.002800     0.002395     0.002242     0.002055   \n",
       "MedianAE              0.001759     0.001484     0.001598     0.001382   \n",
       "Score, w: none     7200.215934  7605.486074  7757.680947  7945.174808   \n",
       "Score, w: 2*radii  9684.024515  9718.081643  9792.448769  9766.090841   \n",
       "\n",
       "                            8            9            10           11  \\\n",
       "R^2                   0.974120     0.974502     0.984060     0.985651   \n",
       "MSE                   0.000052     0.000035     0.000012     0.000023   \n",
       "RMSE                  0.007179     0.005892     0.003451     0.004826   \n",
       "RMSPE                 0.134036     0.122279     0.118691     0.108802   \n",
       "MAE                   0.003297     0.003073     0.002196     0.002514   \n",
       "MedianAE              0.001684     0.001711     0.001525     0.001431   \n",
       "Score, w: none     6703.174431  6927.321889  7804.445680  7485.544998   \n",
       "Score, w: 2*radii  9514.075957  9578.880612  9785.588981  9628.000252   \n",
       "\n",
       "                            12           13           14  \n",
       "R^2                   0.981541     0.984159     0.958184  \n",
       "MSE                   0.000047     0.000027     0.000050  \n",
       "RMSE                  0.006866     0.005156     0.007055  \n",
       "RMSPE                 0.095000     0.112628     0.130247  \n",
       "MAE                   0.003013     0.002944     0.003372  \n",
       "MedianAE              0.001652     0.001752     0.001548  \n",
       "Score, w: none     6986.635029  7055.936139  6627.629735  \n",
       "Score, w: 2*radii  9276.102229  9566.259619  9458.941806  "
      ]
     },
     "execution_count": 18,
     "metadata": {},
     "output_type": "execute_result"
    }
   ],
   "source": [
    "# Evaluations per validation fold\n",
    "fold_evals = pd.concat(cv_res['evals'], axis=1)\n",
    "fold_evals"
   ]
  },
  {
   "cell_type": "code",
   "execution_count": 19,
   "id": "34c66faa",
   "metadata": {
    "tags": []
   },
   "outputs": [
    {
     "name": "stdout",
     "output_type": "stream",
     "text": [
      "                          mean         std\n",
      "R^2                   0.980972    0.009864\n",
      "MSE                   0.000031    0.000026\n",
      "RMSE                  0.005238    0.002013\n",
      "RMSPE                 0.117437    0.017614\n",
      "MAE                   0.002803    0.000643\n",
      "MedianAE              0.001609    0.000145\n",
      "Score, w: none     7197.410790  642.711792\n",
      "Score, w: 2*radii  9593.729659  184.851567\n"
     ]
    }
   ],
   "source": [
    "# Evaluations per validation fold (average)\n",
    "print(fold_evals.agg(['mean', 'std'], axis=1))"
   ]
  },
  {
   "cell_type": "code",
   "execution_count": 20,
   "id": "aac48d64",
   "metadata": {
    "tags": []
   },
   "outputs": [
    {
     "name": "stdout",
     "output_type": "stream",
     "text": [
      "                          mean         std\n",
      "R^2                   0.984880    0.010843\n",
      "MSE                   0.000026    0.000027\n",
      "RMSE                  0.004640    0.002277\n",
      "RMSPE                 0.076486    0.026040\n",
      "MAE                   0.002190    0.000728\n",
      "MedianAE              0.001206    0.000161\n",
      "Score, w: none     7809.710920  728.045836\n",
      "Score, w: 2*radii  9636.579429  190.555425\n"
     ]
    }
   ],
   "source": [
    "# Evaluation of predictions aggregated across planet's stellar/photon noise instances\n",
    "print(pd.concat(cv_res['evals_agg'], axis=1).agg(['mean', 'std'], axis=1))"
   ]
  },
  {
   "cell_type": "code",
   "execution_count": 21,
   "id": "d6dd1c39",
   "metadata": {
    "tags": []
   },
   "outputs": [],
   "source": [
    "# target & prediction for all samples, from the one time they were in the validation fold\n",
    "y_true = np.vstack(cv_res['y_true'])\n",
    "y_pred = np.vstack(cv_res['y_pred'])"
   ]
  },
  {
   "cell_type": "code",
   "execution_count": 22,
   "id": "c347c723",
   "metadata": {
    "tags": []
   },
   "outputs": [
    {
     "data": {
      "image/png": "[encoded data removed]",
      "text/plain": [
       "<Figure size 800x800 with 1 Axes>"
      ]
     },
     "metadata": {},
     "output_type": "display_data"
    }
   ],
   "source": [
    "plt.figure(figsize=(8,8))\n",
    "plt.scatter(y_true, y_pred, s=0.05)\n",
    "plt.xlabel('y_true')\n",
    "plt.ylabel('y_pred');\n",
    "plt.gca().set_aspect('equal', 'box')\n",
    "plt.xlim(1e-2, 1e-0)\n",
    "plt.ylim(1e-2, 1e-0)\n",
    "plt.yscale('log')\n",
    "plt.xscale('log')\n",
    "plt.title('Targets vs. predictions');"
   ]
  },
  {
   "cell_type": "markdown",
   "id": "41117dca",
   "metadata": {},
   "source": [
    "----"
   ]
  },
  {
   "cell_type": "markdown",
   "id": "a31b71ed",
   "metadata": {},
   "source": [
    "## Train model over full train set"
   ]
  },
  {
   "cell_type": "code",
   "execution_count": 23,
   "id": "c216c807",
   "metadata": {
    "tags": []
   },
   "outputs": [
    {
     "data": {
      "text/plain": [
       "(3.6105766e-07, 1.0000002)"
      ]
     },
     "execution_count": 23,
     "metadata": {},
     "output_type": "execute_result"
    }
   ],
   "source": [
    "# standardize data to 0 mean and 1 standard deviation\n",
    "(X_st, x, X_st_params) = standardizer(data.X)\n",
    "\n",
    "X_st.mean(), X_st.std()"
   ]
  },
  {
   "cell_type": "code",
   "execution_count": 24,
   "id": "5942e158",
   "metadata": {
    "tags": []
   },
   "outputs": [],
   "source": [
    "y_true = data.y"
   ]
  },
  {
   "cell_type": "code",
   "execution_count": 25,
   "id": "b5390f4a",
   "metadata": {
    "tags": []
   },
   "outputs": [],
   "source": [
    "model = init_model()"
   ]
  },
  {
   "cell_type": "code",
   "execution_count": 26,
   "id": "f7790c17",
   "metadata": {
    "tags": []
   },
   "outputs": [
    {
     "data": {
      "text/html": [
       "<style>#sk-container-id-1 {\n",
       "  /* Definition of color scheme common for light and dark mode */\n",
       "  --sklearn-color-text: black;\n",
       "  --sklearn-color-line: gray;\n",
       "  /* Definition of color scheme for unfitted estimators */\n",
       "  --sklearn-color-unfitted-level-0: #fff5e6;\n",
       "  --sklearn-color-unfitted-level-1: #f6e4d2;\n",
       "  --sklearn-color-unfitted-level-2: #ffe0b3;\n",
       "  --sklearn-color-unfitted-level-3: chocolate;\n",
       "  /* Definition of color scheme for fitted estimators */\n",
       "  --sklearn-color-fitted-level-0: #f0f8ff;\n",
       "  --sklearn-color-fitted-level-1: #d4ebff;\n",
       "  --sklearn-color-fitted-level-2: #b3dbfd;\n",
       "  --sklearn-color-fitted-level-3: cornflowerblue;\n",
       "\n",
       "  /* Specific color for light theme */\n",
       "  --sklearn-color-text-on-default-background: var(--sg-text-color, var(--theme-code-foreground, var(--jp-content-font-color1, black)));\n",
       "  --sklearn-color-background: var(--sg-background-color, var(--theme-background, var(--jp-layout-color0, white)));\n",
       "  --sklearn-color-border-box: var(--sg-text-color, var(--theme-code-foreground, var(--jp-content-font-color1, black)));\n",
       "  --sklearn-color-icon: #696969;\n",
       "\n",
       "  @media (prefers-color-scheme: dark) {\n",
       "    /* Redefinition of color scheme for dark theme */\n",
       "    --sklearn-color-text-on-default-background: var(--sg-text-color, var(--theme-code-foreground, var(--jp-content-font-color1, white)));\n",
       "    --sklearn-color-background: var(--sg-background-color, var(--theme-background, var(--jp-layout-color0, #111)));\n",
       "    --sklearn-color-border-box: var(--sg-text-color, var(--theme-code-foreground, var(--jp-content-font-color1, white)));\n",
       "    --sklearn-color-icon: #878787;\n",
       "  }\n",
       "}\n",
       "\n",
       "#sk-container-id-1 {\n",
       "  color: var(--sklearn-color-text);\n",
       "}\n",
       "\n",
       "#sk-container-id-1 pre {\n",
       "  padding: 0;\n",
       "}\n",
       "\n",
       "#sk-container-id-1 input.sk-hidden--visually {\n",
       "  border: 0;\n",
       "  clip: rect(1px 1px 1px 1px);\n",
       "  clip: rect(1px, 1px, 1px, 1px);\n",
       "  height: 1px;\n",
       "  margin: -1px;\n",
       "  overflow: hidden;\n",
       "  padding: 0;\n",
       "  position: absolute;\n",
       "  width: 1px;\n",
       "}\n",
       "\n",
       "#sk-container-id-1 div.sk-dashed-wrapped {\n",
       "  border: 1px dashed var(--sklearn-color-line);\n",
       "  margin: 0 0.4em 0.5em 0.4em;\n",
       "  box-sizing: border-box;\n",
       "  padding-bottom: 0.4em;\n",
       "  background-color: var(--sklearn-color-background);\n",
       "}\n",
       "\n",
       "#sk-container-id-1 div.sk-container {\n",
       "  /* jupyter's `normalize.less` sets `[hidden] { display: none; }`\n",
       "     but bootstrap.min.css set `[hidden] { display: none !important; }`\n",
       "     so we also need the `!important` here to be able to override the\n",
       "     default hidden behavior on the sphinx rendered scikit-learn.org.\n",
       "     See: https://github.com/scikit-learn/scikit-learn/issues/21755 */\n",
       "  display: inline-block !important;\n",
       "  position: relative;\n",
       "}\n",
       "\n",
       "#sk-container-id-1 div.sk-text-repr-fallback {\n",
       "  display: none;\n",
       "}\n",
       "\n",
       "div.sk-parallel-item,\n",
       "div.sk-serial,\n",
       "div.sk-item {\n",
       "  /* draw centered vertical line to link estimators */\n",
       "  background-image: linear-gradient(var(--sklearn-color-text-on-default-background), var(--sklearn-color-text-on-default-background));\n",
       "  background-size: 2px 100%;\n",
       "  background-repeat: no-repeat;\n",
       "  background-position: center center;\n",
       "}\n",
       "\n",
       "/* Parallel-specific style estimator block */\n",
       "\n",
       "#sk-container-id-1 div.sk-parallel-item::after {\n",
       "  content: \"\";\n",
       "  width: 100%;\n",
       "  border-bottom: 2px solid var(--sklearn-color-text-on-default-background);\n",
       "  flex-grow: 1;\n",
       "}\n",
       "\n",
       "#sk-container-id-1 div.sk-parallel {\n",
       "  display: flex;\n",
       "  align-items: stretch;\n",
       "  justify-content: center;\n",
       "  background-color: var(--sklearn-color-background);\n",
       "  position: relative;\n",
       "}\n",
       "\n",
       "#sk-container-id-1 div.sk-parallel-item {\n",
       "  display: flex;\n",
       "  flex-direction: column;\n",
       "}\n",
       "\n",
       "#sk-container-id-1 div.sk-parallel-item:first-child::after {\n",
       "  align-self: flex-end;\n",
       "  width: 50%;\n",
       "}\n",
       "\n",
       "#sk-container-id-1 div.sk-parallel-item:last-child::after {\n",
       "  align-self: flex-start;\n",
       "  width: 50%;\n",
       "}\n",
       "\n",
       "#sk-container-id-1 div.sk-parallel-item:only-child::after {\n",
       "  width: 0;\n",
       "}\n",
       "\n",
       "/* Serial-specific style estimator block */\n",
       "\n",
       "#sk-container-id-1 div.sk-serial {\n",
       "  display: flex;\n",
       "  flex-direction: column;\n",
       "  align-items: center;\n",
       "  background-color: var(--sklearn-color-background);\n",
       "  padding-right: 1em;\n",
       "  padding-left: 1em;\n",
       "}\n",
       "\n",
       "\n",
       "/* Toggleable style: style used for estimator/Pipeline/ColumnTransformer box that is\n",
       "clickable and can be expanded/collapsed.\n",
       "- Pipeline and ColumnTransformer use this feature and define the default style\n",
       "- Estimators will overwrite some part of the style using the `sk-estimator` class\n",
       "*/\n",
       "\n",
       "/* Pipeline and ColumnTransformer style (default) */\n",
       "\n",
       "#sk-container-id-1 div.sk-toggleable {\n",
       "  /* Default theme specific background. It is overwritten whether we have a\n",
       "  specific estimator or a Pipeline/ColumnTransformer */\n",
       "  background-color: var(--sklearn-color-background);\n",
       "}\n",
       "\n",
       "/* Toggleable label */\n",
       "#sk-container-id-1 label.sk-toggleable__label {\n",
       "  cursor: pointer;\n",
       "  display: block;\n",
       "  width: 100%;\n",
       "  margin-bottom: 0;\n",
       "  padding: 0.5em;\n",
       "  box-sizing: border-box;\n",
       "  text-align: center;\n",
       "}\n",
       "\n",
       "#sk-container-id-1 label.sk-toggleable__label-arrow:before {\n",
       "  /* Arrow on the left of the label */\n",
       "  content: \"▸\";\n",
       "  float: left;\n",
       "  margin-right: 0.25em;\n",
       "  color: var(--sklearn-color-icon);\n",
       "}\n",
       "\n",
       "#sk-container-id-1 label.sk-toggleable__label-arrow:hover:before {\n",
       "  color: var(--sklearn-color-text);\n",
       "}\n",
       "\n",
       "/* Toggleable content - dropdown */\n",
       "\n",
       "#sk-container-id-1 div.sk-toggleable__content {\n",
       "  max-height: 0;\n",
       "  max-width: 0;\n",
       "  overflow: hidden;\n",
       "  text-align: left;\n",
       "  /* unfitted */\n",
       "  background-color: var(--sklearn-color-unfitted-level-0);\n",
       "}\n",
       "\n",
       "#sk-container-id-1 div.sk-toggleable__content.fitted {\n",
       "  /* fitted */\n",
       "  background-color: var(--sklearn-color-fitted-level-0);\n",
       "}\n",
       "\n",
       "#sk-container-id-1 div.sk-toggleable__content pre {\n",
       "  margin: 0.2em;\n",
       "  border-radius: 0.25em;\n",
       "  color: var(--sklearn-color-text);\n",
       "  /* unfitted */\n",
       "  background-color: var(--sklearn-color-unfitted-level-0);\n",
       "}\n",
       "\n",
       "#sk-container-id-1 div.sk-toggleable__content.fitted pre {\n",
       "  /* unfitted */\n",
       "  background-color: var(--sklearn-color-fitted-level-0);\n",
       "}\n",
       "\n",
       "#sk-container-id-1 input.sk-toggleable__control:checked~div.sk-toggleable__content {\n",
       "  /* Expand drop-down */\n",
       "  max-height: 200px;\n",
       "  max-width: 100%;\n",
       "  overflow: auto;\n",
       "}\n",
       "\n",
       "#sk-container-id-1 input.sk-toggleable__control:checked~label.sk-toggleable__label-arrow:before {\n",
       "  content: \"▾\";\n",
       "}\n",
       "\n",
       "/* Pipeline/ColumnTransformer-specific style */\n",
       "\n",
       "#sk-container-id-1 div.sk-label input.sk-toggleable__control:checked~label.sk-toggleable__label {\n",
       "  color: var(--sklearn-color-text);\n",
       "  background-color: var(--sklearn-color-unfitted-level-2);\n",
       "}\n",
       "\n",
       "#sk-container-id-1 div.sk-label.fitted input.sk-toggleable__control:checked~label.sk-toggleable__label {\n",
       "  background-color: var(--sklearn-color-fitted-level-2);\n",
       "}\n",
       "\n",
       "/* Estimator-specific style */\n",
       "\n",
       "/* Colorize estimator box */\n",
       "#sk-container-id-1 div.sk-estimator input.sk-toggleable__control:checked~label.sk-toggleable__label {\n",
       "  /* unfitted */\n",
       "  background-color: var(--sklearn-color-unfitted-level-2);\n",
       "}\n",
       "\n",
       "#sk-container-id-1 div.sk-estimator.fitted input.sk-toggleable__control:checked~label.sk-toggleable__label {\n",
       "  /* fitted */\n",
       "  background-color: var(--sklearn-color-fitted-level-2);\n",
       "}\n",
       "\n",
       "#sk-container-id-1 div.sk-label label.sk-toggleable__label,\n",
       "#sk-container-id-1 div.sk-label label {\n",
       "  /* The background is the default theme color */\n",
       "  color: var(--sklearn-color-text-on-default-background);\n",
       "}\n",
       "\n",
       "/* On hover, darken the color of the background */\n",
       "#sk-container-id-1 div.sk-label:hover label.sk-toggleable__label {\n",
       "  color: var(--sklearn-color-text);\n",
       "  background-color: var(--sklearn-color-unfitted-level-2);\n",
       "}\n",
       "\n",
       "/* Label box, darken color on hover, fitted */\n",
       "#sk-container-id-1 div.sk-label.fitted:hover label.sk-toggleable__label.fitted {\n",
       "  color: var(--sklearn-color-text);\n",
       "  background-color: var(--sklearn-color-fitted-level-2);\n",
       "}\n",
       "\n",
       "/* Estimator label */\n",
       "\n",
       "#sk-container-id-1 div.sk-label label {\n",
       "  font-family: monospace;\n",
       "  font-weight: bold;\n",
       "  display: inline-block;\n",
       "  line-height: 1.2em;\n",
       "}\n",
       "\n",
       "#sk-container-id-1 div.sk-label-container {\n",
       "  text-align: center;\n",
       "}\n",
       "\n",
       "/* Estimator-specific */\n",
       "#sk-container-id-1 div.sk-estimator {\n",
       "  font-family: monospace;\n",
       "  border: 1px dotted var(--sklearn-color-border-box);\n",
       "  border-radius: 0.25em;\n",
       "  box-sizing: border-box;\n",
       "  margin-bottom: 0.5em;\n",
       "  /* unfitted */\n",
       "  background-color: var(--sklearn-color-unfitted-level-0);\n",
       "}\n",
       "\n",
       "#sk-container-id-1 div.sk-estimator.fitted {\n",
       "  /* fitted */\n",
       "  background-color: var(--sklearn-color-fitted-level-0);\n",
       "}\n",
       "\n",
       "/* on hover */\n",
       "#sk-container-id-1 div.sk-estimator:hover {\n",
       "  /* unfitted */\n",
       "  background-color: var(--sklearn-color-unfitted-level-2);\n",
       "}\n",
       "\n",
       "#sk-container-id-1 div.sk-estimator.fitted:hover {\n",
       "  /* fitted */\n",
       "  background-color: var(--sklearn-color-fitted-level-2);\n",
       "}\n",
       "\n",
       "/* Specification for estimator info (e.g. \"i\" and \"?\") */\n",
       "\n",
       "/* Common style for \"i\" and \"?\" */\n",
       "\n",
       ".sk-estimator-doc-link,\n",
       "a:link.sk-estimator-doc-link,\n",
       "a:visited.sk-estimator-doc-link {\n",
       "  float: right;\n",
       "  font-size: smaller;\n",
       "  line-height: 1em;\n",
       "  font-family: monospace;\n",
       "  background-color: var(--sklearn-color-background);\n",
       "  border-radius: 1em;\n",
       "  height: 1em;\n",
       "  width: 1em;\n",
       "  text-decoration: none !important;\n",
       "  margin-left: 1ex;\n",
       "  /* unfitted */\n",
       "  border: var(--sklearn-color-unfitted-level-1) 1pt solid;\n",
       "  color: var(--sklearn-color-unfitted-level-1);\n",
       "}\n",
       "\n",
       ".sk-estimator-doc-link.fitted,\n",
       "a:link.sk-estimator-doc-link.fitted,\n",
       "a:visited.sk-estimator-doc-link.fitted {\n",
       "  /* fitted */\n",
       "  border: var(--sklearn-color-fitted-level-1) 1pt solid;\n",
       "  color: var(--sklearn-color-fitted-level-1);\n",
       "}\n",
       "\n",
       "/* On hover */\n",
       "div.sk-estimator:hover .sk-estimator-doc-link:hover,\n",
       ".sk-estimator-doc-link:hover,\n",
       "div.sk-label-container:hover .sk-estimator-doc-link:hover,\n",
       ".sk-estimator-doc-link:hover {\n",
       "  /* unfitted */\n",
       "  background-color: var(--sklearn-color-unfitted-level-3);\n",
       "  color: var(--sklearn-color-background);\n",
       "  text-decoration: none;\n",
       "}\n",
       "\n",
       "div.sk-estimator.fitted:hover .sk-estimator-doc-link.fitted:hover,\n",
       ".sk-estimator-doc-link.fitted:hover,\n",
       "div.sk-label-container:hover .sk-estimator-doc-link.fitted:hover,\n",
       ".sk-estimator-doc-link.fitted:hover {\n",
       "  /* fitted */\n",
       "  background-color: var(--sklearn-color-fitted-level-3);\n",
       "  color: var(--sklearn-color-background);\n",
       "  text-decoration: none;\n",
       "}\n",
       "\n",
       "/* Span, style for the box shown on hovering the info icon */\n",
       ".sk-estimator-doc-link span {\n",
       "  display: none;\n",
       "  z-index: 9999;\n",
       "  position: relative;\n",
       "  font-weight: normal;\n",
       "  right: .2ex;\n",
       "  padding: .5ex;\n",
       "  margin: .5ex;\n",
       "  width: min-content;\n",
       "  min-width: 20ex;\n",
       "  max-width: 50ex;\n",
       "  color: var(--sklearn-color-text);\n",
       "  box-shadow: 2pt 2pt 4pt #999;\n",
       "  /* unfitted */\n",
       "  background: var(--sklearn-color-unfitted-level-0);\n",
       "  border: .5pt solid var(--sklearn-color-unfitted-level-3);\n",
       "}\n",
       "\n",
       ".sk-estimator-doc-link.fitted span {\n",
       "  /* fitted */\n",
       "  background: var(--sklearn-color-fitted-level-0);\n",
       "  border: var(--sklearn-color-fitted-level-3);\n",
       "}\n",
       "\n",
       ".sk-estimator-doc-link:hover span {\n",
       "  display: block;\n",
       "}\n",
       "\n",
       "/* \"?\"-specific style due to the `<a>` HTML tag */\n",
       "\n",
       "#sk-container-id-1 a.estimator_doc_link {\n",
       "  float: right;\n",
       "  font-size: 1rem;\n",
       "  line-height: 1em;\n",
       "  font-family: monospace;\n",
       "  background-color: var(--sklearn-color-background);\n",
       "  border-radius: 1rem;\n",
       "  height: 1rem;\n",
       "  width: 1rem;\n",
       "  text-decoration: none;\n",
       "  /* unfitted */\n",
       "  color: var(--sklearn-color-unfitted-level-1);\n",
       "  border: var(--sklearn-color-unfitted-level-1) 1pt solid;\n",
       "}\n",
       "\n",
       "#sk-container-id-1 a.estimator_doc_link.fitted {\n",
       "  /* fitted */\n",
       "  border: var(--sklearn-color-fitted-level-1) 1pt solid;\n",
       "  color: var(--sklearn-color-fitted-level-1);\n",
       "}\n",
       "\n",
       "/* On hover */\n",
       "#sk-container-id-1 a.estimator_doc_link:hover {\n",
       "  /* unfitted */\n",
       "  background-color: var(--sklearn-color-unfitted-level-3);\n",
       "  color: var(--sklearn-color-background);\n",
       "  text-decoration: none;\n",
       "}\n",
       "\n",
       "#sk-container-id-1 a.estimator_doc_link.fitted:hover {\n",
       "  /* fitted */\n",
       "  background-color: var(--sklearn-color-fitted-level-3);\n",
       "}\n",
       "</style><div id=\"sk-container-id-1\" class=\"sk-top-container\"><div class=\"sk-text-repr-fallback\"><pre>MultiOutputRegressor(estimator=BayesianRidge(alpha_1=0.0001, alpha_2=0.0001,\n",
       "                                             lambda_1=0.0001, lambda_2=0.0001,\n",
       "                                             tol=1e-06))</pre><b>In a Jupyter environment, please rerun this cell to show the HTML representation or trust the notebook. <br />On GitHub, the HTML representation is unable to render, please try loading this page with nbviewer.org.</b></div><div class=\"sk-container\" hidden><div class=\"sk-item sk-dashed-wrapped\"><div class=\"sk-label-container\"><div class=\"sk-label fitted sk-toggleable\"><input class=\"sk-toggleable__control sk-hidden--visually\" id=\"sk-estimator-id-1\" type=\"checkbox\" ><label for=\"sk-estimator-id-1\" class=\"sk-toggleable__label fitted sk-toggleable__label-arrow fitted\">&nbsp;&nbsp;MultiOutputRegressor<a class=\"sk-estimator-doc-link fitted\" rel=\"noreferrer\" target=\"_blank\" href=\"https://scikit-learn.org/1.5/modules/generated/sklearn.multioutput.MultiOutputRegressor.html\">?<span>Documentation for MultiOutputRegressor</span></a><span class=\"sk-estimator-doc-link fitted\">i<span>Fitted</span></span></label><div class=\"sk-toggleable__content fitted\"><pre>MultiOutputRegressor(estimator=BayesianRidge(alpha_1=0.0001, alpha_2=0.0001,\n",
       "                                             lambda_1=0.0001, lambda_2=0.0001,\n",
       "                                             tol=1e-06))</pre></div> </div></div><div class=\"sk-parallel\"><div class=\"sk-parallel-item\"><div class=\"sk-item\"><div class=\"sk-label-container\"><div class=\"sk-label fitted sk-toggleable\"><input class=\"sk-toggleable__control sk-hidden--visually\" id=\"sk-estimator-id-2\" type=\"checkbox\" ><label for=\"sk-estimator-id-2\" class=\"sk-toggleable__label fitted sk-toggleable__label-arrow fitted\">estimator: BayesianRidge</label><div class=\"sk-toggleable__content fitted\"><pre>BayesianRidge(alpha_1=0.0001, alpha_2=0.0001, lambda_1=0.0001, lambda_2=0.0001,\n",
       "              tol=1e-06)</pre></div> </div></div><div class=\"sk-serial\"><div class=\"sk-item\"><div class=\"sk-estimator fitted sk-toggleable\"><input class=\"sk-toggleable__control sk-hidden--visually\" id=\"sk-estimator-id-3\" type=\"checkbox\" ><label for=\"sk-estimator-id-3\" class=\"sk-toggleable__label fitted sk-toggleable__label-arrow fitted\">&nbsp;BayesianRidge<a class=\"sk-estimator-doc-link fitted\" rel=\"noreferrer\" target=\"_blank\" href=\"https://scikit-learn.org/1.5/modules/generated/sklearn.linear_model.BayesianRidge.html\">?<span>Documentation for BayesianRidge</span></a></label><div class=\"sk-toggleable__content fitted\"><pre>BayesianRidge(alpha_1=0.0001, alpha_2=0.0001, lambda_1=0.0001, lambda_2=0.0001,\n",
       "              tol=1e-06)</pre></div> </div></div></div></div></div></div></div></div></div>"
      ],
      "text/plain": [
       "MultiOutputRegressor(estimator=BayesianRidge(alpha_1=0.0001, alpha_2=0.0001,\n",
       "                                             lambda_1=0.0001, lambda_2=0.0001,\n",
       "                                             tol=1e-06))"
      ]
     },
     "execution_count": 26,
     "metadata": {},
     "output_type": "execute_result"
    }
   ],
   "source": [
    "model.fit(X_st, y_true)"
   ]
  },
  {
   "cell_type": "code",
   "execution_count": 27,
   "id": "d8a4748a",
   "metadata": {
    "tags": []
   },
   "outputs": [],
   "source": [
    "y_pred = model.predict(X_st)"
   ]
  },
  {
   "cell_type": "code",
   "execution_count": 28,
   "id": "aab35cb5",
   "metadata": {
    "tags": []
   },
   "outputs": [
    {
     "name": "stdout",
     "output_type": "stream",
     "text": [
      "[ Scoring with y_true.shape: (10000, 55) ]\n"
     ]
    },
    {
     "data": {
      "text/plain": [
       "R^2                     0.985899\n",
       "MSE                     0.000022\n",
       "RMSE                    0.004738\n",
       "RMSPE                   0.099923\n",
       "MAE                     0.002503\n",
       "MedianAE                0.001560\n",
       "Score, w: none       7496.640310\n",
       "Score, w: 2*radii    9659.955123\n",
       "dtype: float64"
      ]
     },
     "execution_count": 28,
     "metadata": {},
     "output_type": "execute_result"
    }
   ],
   "source": [
    "# train set performance, at sample level\n",
    "score(y_true, y_pred)"
   ]
  },
  {
   "cell_type": "code",
   "execution_count": 29,
   "id": "30f2dcd6",
   "metadata": {
    "tags": []
   },
   "outputs": [
    {
     "name": "stdout",
     "output_type": "stream",
     "text": [
      "[ Scoring with y_true.shape: (1000, 55) ]\n"
     ]
    },
    {
     "data": {
      "text/plain": [
       "R^2                     0.988168\n",
       "MSE                     0.000019\n",
       "RMSE                    0.004340\n",
       "RMSPE                   0.068829\n",
       "MAE                     0.001958\n",
       "MedianAE                0.001163\n",
       "Score, w: none       8041.887535\n",
       "Score, w: 2*radii    9699.134933\n",
       "dtype: float64"
      ]
     },
     "execution_count": 29,
     "metadata": {},
     "output_type": "execute_result"
    }
   ],
   "source": [
    "# train set performance, when predictions are aggregated at planet level, across stellar_spot/photon noise instances\n",
    "score(*y_aggregate(data, y_true, y_pred))"
   ]
  },
  {
   "cell_type": "markdown",
   "id": "81ffecad",
   "metadata": {},
   "source": [
    "-----\n",
    "\n",
    "-----"
   ]
  },
  {
   "cell_type": "markdown",
   "id": "259f5876",
   "metadata": {},
   "source": [
    "# Predict over test set"
   ]
  },
  {
   "cell_type": "code",
   "execution_count": 30,
   "id": "c24f063f",
   "metadata": {
    "scrolled": true,
    "tags": []
   },
   "outputs": [
    {
     "name": "stdout",
     "output_type": "stream",
     "text": [
      "CPU times: user 641 ms, sys: 373 ms, total: 1.01 s\n",
      "Wall time: 1.02 s\n"
     ]
    }
   ],
   "source": [
    "%%time\n",
    "TEST_DATA = load_dataset(DATA_PATH + 'ADC21esac_test.pkl')"
   ]
  },
  {
   "cell_type": "code",
   "execution_count": 31,
   "id": "a17904e4",
   "metadata": {
    "tags": []
   },
   "outputs": [
    {
     "data": {
      "text/plain": [
       "{'WINDOW_RADIUS': 14,\n",
       " 'AGGR_NUM_OBS': 10,\n",
       " 'MIRROR_STACKING': True,\n",
       " 'MEAN_TYPE_P': -2,\n",
       " 'GRID_PTS_NUM': 8,\n",
       " 'GRID_PTS_SPACING': 6}"
      ]
     },
     "execution_count": 31,
     "metadata": {},
     "output_type": "execute_result"
    }
   ],
   "source": [
    "data_setup"
   ]
  },
  {
   "cell_type": "markdown",
   "id": "e6873923",
   "metadata": {},
   "source": [
    "\\\n",
    "Encode the test set using the same data pre-processing pipeline thas was used over the train set."
   ]
  },
  {
   "cell_type": "code",
   "execution_count": 32,
   "id": "c0e025a2",
   "metadata": {
    "tags": []
   },
   "outputs": [
    {
     "name": "stdout",
     "output_type": "stream",
     "text": [
      "functools.partial(<function X__set_to__obs_encodings at 0x7f6508dc6ca0>, agg_stellar=False, agg_photon=10, agg=-2, window_radius=14, grid=(102, 108, 114, 120, 126, 132, 138, 144, 150), mirror_stacking=True)\n"
     ]
    },
    {
     "data": {
      "text/html": [
       "\n",
       "<style>\n",
       "    /* Turns off some styling */\n",
       "    progress {\n",
       "        /* gets rid of default border in Firefox and Opera. */\n",
       "        border: none;\n",
       "        /* Needs to be in here for Safari polyfill so background images work as expected. */\n",
       "        background-size: auto;\n",
       "    }\n",
       "    progress:not([value]), progress:not([value])::-webkit-progress-bar {\n",
       "        background: repeating-linear-gradient(45deg, #7e7e7e, #7e7e7e 10px, #5c5c5c 10px, #5c5c5c 20px);\n",
       "    }\n",
       "    .progress-bar-interrupted, .progress-bar-interrupted::-webkit-progress-bar {\n",
       "        background: #F44336;\n",
       "    }\n",
       "</style>\n"
      ],
      "text/plain": [
       "<IPython.core.display.HTML object>"
      ]
     },
     "metadata": {},
     "output_type": "display_data"
    },
    {
     "data": {
      "text/html": [
       "\n",
       "    <div>\n",
       "      <progress value='512' class='' max='512' style='width:300px; height:20px; vertical-align: middle;'></progress>\n",
       "      100.00% [512/512 00:03&lt;00:00]\n",
       "    </div>\n",
       "    "
      ],
      "text/plain": [
       "<IPython.core.display.HTML object>"
      ]
     },
     "metadata": {},
     "output_type": "display_data"
    },
    {
     "name": "stdout",
     "output_type": "stream",
     "text": [
      "functools.partial(<function X__stack_with__par at 0x7f6508df9120>, par_var='X_par')\n",
      "CPU times: user 3.46 s, sys: 4.6 ms, total: 3.46 s\n",
      "Wall time: 3.48 s\n"
     ]
    }
   ],
   "source": [
    "%%time\n",
    "#X_pipeline = configure_pipeline(**data_setup)\n",
    "test_data = prepare_data(TEST_DATA, X_pipeline)"
   ]
  },
  {
   "cell_type": "code",
   "execution_count": 33,
   "id": "8f7b87ea",
   "metadata": {
    "scrolled": true,
    "tags": []
   },
   "outputs": [
    {
     "data": {
      "text/plain": [
       "(5120, 501)"
      ]
     },
     "execution_count": 33,
     "metadata": {},
     "output_type": "execute_result"
    }
   ],
   "source": [
    "test_data.X.shape"
   ]
  },
  {
   "cell_type": "code",
   "execution_count": 34,
   "id": "10e51567",
   "metadata": {
    "tags": []
   },
   "outputs": [
    {
     "data": {
      "text/plain": [
       "0"
      ]
     },
     "execution_count": 34,
     "metadata": {},
     "output_type": "execute_result"
    }
   ],
   "source": [
    "del TEST_DATA\n",
    "del test_data.X_obs\n",
    "\n",
    "gc.collect()"
   ]
  },
  {
   "cell_type": "markdown",
   "id": "75fcf6b2",
   "metadata": {},
   "source": [
    "\\\n",
    "Use the trained model to generate predictions over the test set."
   ]
  },
  {
   "cell_type": "code",
   "execution_count": 35,
   "id": "c22e2a1a",
   "metadata": {
    "tags": []
   },
   "outputs": [],
   "source": [
    "# standardize the data, using the parameters that were defined over the train set\n",
    "test_X_st = standardizer(test_data.X, avg_std=X_st_params)[0]"
   ]
  },
  {
   "cell_type": "code",
   "execution_count": 36,
   "id": "91248fa3",
   "metadata": {
    "tags": []
   },
   "outputs": [],
   "source": [
    "test_y_pred = model.predict(test_X_st)\n",
    "print(type(test_y_pred))"
   ]
  },
  {
   "cell_type": "code",
   "execution_count": 37,
   "id": "77925485",
   "metadata": {
    "tags": []
   },
   "outputs": [
    {
     "data": {
      "text/plain": [
       "(5120, 55)"
      ]
     },
     "execution_count": 37,
     "metadata": {},
     "output_type": "execute_result"
    }
   ],
   "source": [
    "test_y_pred.shape"
   ]
  },
  {
   "cell_type": "markdown",
   "id": "bf57d3bc",
   "metadata": {},
   "source": [
    "-----\n",
    "\n",
    "-----"
   ]
  },
  {
   "cell_type": "markdown",
   "id": "392e105b",
   "metadata": {},
   "source": [
    "# Submit predictions"
   ]
  },
  {
   "cell_type": "markdown",
   "id": "b7021544",
   "metadata": {},
   "source": [
    "The data pre-processing pipeline may aggregate observations at different levels:\n",
    "* aggregations across photon noise instances leave us with 1 sample per planet / stellar_spot combination (10 samples per planet).\n",
    "* aggregations across stellar spot instances, and their photon noise instances leave us with 1 sample per planet.\n",
    "\n",
    "Below, in `ix_all` are the indices of all samples in the test set. Submissions must provide one prediction for each of those samples. Encoding left us with the `ix_enc` indices. If they differ, we must then propagate predictions to the other samples of the same planet / stellar_spot."
   ]
  },
  {
   "cell_type": "code",
   "execution_count": 38,
   "id": "d4471056",
   "metadata": {
    "tags": []
   },
   "outputs": [],
   "source": [
    "ix_all = test_data.X_par_all[OBSERV_INDEX].set_index(OBSERV_INDEX, append=True).index\n",
    "ix_enc = test_data.X_par[    OBSERV_INDEX].set_index(OBSERV_INDEX, append=True).index"
   ]
  },
  {
   "cell_type": "code",
   "execution_count": 39,
   "id": "f0d9e866",
   "metadata": {
    "tags": []
   },
   "outputs": [
    {
     "data": {
      "text/html": [
       "<div>\n",
       "<style scoped>\n",
       "    .dataframe tbody tr th:only-of-type {\n",
       "        vertical-align: middle;\n",
       "    }\n",
       "\n",
       "    .dataframe tbody tr th {\n",
       "        vertical-align: top;\n",
       "    }\n",
       "\n",
       "    .dataframe thead th {\n",
       "        text-align: right;\n",
       "    }\n",
       "</style>\n",
       "<table border=\"1\" class=\"dataframe\">\n",
       "  <thead>\n",
       "    <tr style=\"text-align: right;\">\n",
       "      <th></th>\n",
       "      <th></th>\n",
       "      <th></th>\n",
       "      <th></th>\n",
       "      <th>w1</th>\n",
       "      <th>w2</th>\n",
       "      <th>w3</th>\n",
       "      <th>w4</th>\n",
       "      <th>w5</th>\n",
       "      <th>w6</th>\n",
       "      <th>w7</th>\n",
       "      <th>w8</th>\n",
       "      <th>w9</th>\n",
       "      <th>w10</th>\n",
       "      <th>...</th>\n",
       "      <th>w46</th>\n",
       "      <th>w47</th>\n",
       "      <th>w48</th>\n",
       "      <th>w49</th>\n",
       "      <th>w50</th>\n",
       "      <th>w51</th>\n",
       "      <th>w52</th>\n",
       "      <th>w53</th>\n",
       "      <th>w54</th>\n",
       "      <th>w55</th>\n",
       "    </tr>\n",
       "    <tr>\n",
       "      <th>index</th>\n",
       "      <th>planet</th>\n",
       "      <th>stellar_spot</th>\n",
       "      <th>photon</th>\n",
       "      <th></th>\n",
       "      <th></th>\n",
       "      <th></th>\n",
       "      <th></th>\n",
       "      <th></th>\n",
       "      <th></th>\n",
       "      <th></th>\n",
       "      <th></th>\n",
       "      <th></th>\n",
       "      <th></th>\n",
       "      <th></th>\n",
       "      <th></th>\n",
       "      <th></th>\n",
       "      <th></th>\n",
       "      <th></th>\n",
       "      <th></th>\n",
       "      <th></th>\n",
       "      <th></th>\n",
       "      <th></th>\n",
       "      <th></th>\n",
       "      <th></th>\n",
       "    </tr>\n",
       "  </thead>\n",
       "  <tbody>\n",
       "    <tr>\n",
       "      <th>0003_01_01.txt</th>\n",
       "      <th>3</th>\n",
       "      <th>1</th>\n",
       "      <th>1</th>\n",
       "      <td>0.040606</td>\n",
       "      <td>0.040426</td>\n",
       "      <td>0.040772</td>\n",
       "      <td>0.041419</td>\n",
       "      <td>0.040566</td>\n",
       "      <td>0.042366</td>\n",
       "      <td>0.040908</td>\n",
       "      <td>0.041209</td>\n",
       "      <td>0.042097</td>\n",
       "      <td>0.041872</td>\n",
       "      <td>...</td>\n",
       "      <td>0.046249</td>\n",
       "      <td>0.042489</td>\n",
       "      <td>0.041365</td>\n",
       "      <td>0.043090</td>\n",
       "      <td>0.044529</td>\n",
       "      <td>0.043984</td>\n",
       "      <td>0.043569</td>\n",
       "      <td>0.045820</td>\n",
       "      <td>0.044629</td>\n",
       "      <td>0.045281</td>\n",
       "    </tr>\n",
       "    <tr>\n",
       "      <th>0003_02_01.txt</th>\n",
       "      <th>3</th>\n",
       "      <th>2</th>\n",
       "      <th>1</th>\n",
       "      <td>0.039138</td>\n",
       "      <td>0.038912</td>\n",
       "      <td>0.039567</td>\n",
       "      <td>0.040673</td>\n",
       "      <td>0.039720</td>\n",
       "      <td>0.042263</td>\n",
       "      <td>0.040501</td>\n",
       "      <td>0.040494</td>\n",
       "      <td>0.041859</td>\n",
       "      <td>0.041821</td>\n",
       "      <td>...</td>\n",
       "      <td>0.048869</td>\n",
       "      <td>0.044776</td>\n",
       "      <td>0.041754</td>\n",
       "      <td>0.041457</td>\n",
       "      <td>0.041845</td>\n",
       "      <td>0.041734</td>\n",
       "      <td>0.041919</td>\n",
       "      <td>0.041286</td>\n",
       "      <td>0.041577</td>\n",
       "      <td>0.041172</td>\n",
       "    </tr>\n",
       "    <tr>\n",
       "      <th>0003_03_01.txt</th>\n",
       "      <th>3</th>\n",
       "      <th>3</th>\n",
       "      <th>1</th>\n",
       "      <td>0.040131</td>\n",
       "      <td>0.040075</td>\n",
       "      <td>0.040378</td>\n",
       "      <td>0.041036</td>\n",
       "      <td>0.040312</td>\n",
       "      <td>0.042116</td>\n",
       "      <td>0.040745</td>\n",
       "      <td>0.040161</td>\n",
       "      <td>0.041605</td>\n",
       "      <td>0.041715</td>\n",
       "      <td>...</td>\n",
       "      <td>0.045264</td>\n",
       "      <td>0.042409</td>\n",
       "      <td>0.041380</td>\n",
       "      <td>0.040720</td>\n",
       "      <td>0.040910</td>\n",
       "      <td>0.040778</td>\n",
       "      <td>0.040553</td>\n",
       "      <td>0.039969</td>\n",
       "      <td>0.039702</td>\n",
       "      <td>0.039436</td>\n",
       "    </tr>\n",
       "    <tr>\n",
       "      <th>0003_04_01.txt</th>\n",
       "      <th>3</th>\n",
       "      <th>4</th>\n",
       "      <th>1</th>\n",
       "      <td>0.032260</td>\n",
       "      <td>0.032050</td>\n",
       "      <td>0.032763</td>\n",
       "      <td>0.033969</td>\n",
       "      <td>0.033064</td>\n",
       "      <td>0.036149</td>\n",
       "      <td>0.034145</td>\n",
       "      <td>0.034451</td>\n",
       "      <td>0.036173</td>\n",
       "      <td>0.036193</td>\n",
       "      <td>...</td>\n",
       "      <td>0.041774</td>\n",
       "      <td>0.039041</td>\n",
       "      <td>0.036367</td>\n",
       "      <td>0.037382</td>\n",
       "      <td>0.037750</td>\n",
       "      <td>0.037299</td>\n",
       "      <td>0.037742</td>\n",
       "      <td>0.038908</td>\n",
       "      <td>0.039516</td>\n",
       "      <td>0.039393</td>\n",
       "    </tr>\n",
       "    <tr>\n",
       "      <th>0003_05_01.txt</th>\n",
       "      <th>3</th>\n",
       "      <th>5</th>\n",
       "      <th>1</th>\n",
       "      <td>0.034998</td>\n",
       "      <td>0.034928</td>\n",
       "      <td>0.035640</td>\n",
       "      <td>0.036568</td>\n",
       "      <td>0.035499</td>\n",
       "      <td>0.038150</td>\n",
       "      <td>0.036057</td>\n",
       "      <td>0.036190</td>\n",
       "      <td>0.037660</td>\n",
       "      <td>0.037239</td>\n",
       "      <td>...</td>\n",
       "      <td>0.038312</td>\n",
       "      <td>0.033779</td>\n",
       "      <td>0.037350</td>\n",
       "      <td>0.038192</td>\n",
       "      <td>0.039524</td>\n",
       "      <td>0.039221</td>\n",
       "      <td>0.039000</td>\n",
       "      <td>0.039870</td>\n",
       "      <td>0.038865</td>\n",
       "      <td>0.038590</td>\n",
       "    </tr>\n",
       "    <tr>\n",
       "      <th>...</th>\n",
       "      <th>...</th>\n",
       "      <th>...</th>\n",
       "      <th>...</th>\n",
       "      <td>...</td>\n",
       "      <td>...</td>\n",
       "      <td>...</td>\n",
       "      <td>...</td>\n",
       "      <td>...</td>\n",
       "      <td>...</td>\n",
       "      <td>...</td>\n",
       "      <td>...</td>\n",
       "      <td>...</td>\n",
       "      <td>...</td>\n",
       "      <td>...</td>\n",
       "      <td>...</td>\n",
       "      <td>...</td>\n",
       "      <td>...</td>\n",
       "      <td>...</td>\n",
       "      <td>...</td>\n",
       "      <td>...</td>\n",
       "      <td>...</td>\n",
       "      <td>...</td>\n",
       "      <td>...</td>\n",
       "      <td>...</td>\n",
       "    </tr>\n",
       "    <tr>\n",
       "      <th>4381_06_01.txt</th>\n",
       "      <th>4381</th>\n",
       "      <th>6</th>\n",
       "      <th>1</th>\n",
       "      <td>0.129584</td>\n",
       "      <td>0.129380</td>\n",
       "      <td>0.130813</td>\n",
       "      <td>0.132523</td>\n",
       "      <td>0.131486</td>\n",
       "      <td>0.134430</td>\n",
       "      <td>0.132909</td>\n",
       "      <td>0.133251</td>\n",
       "      <td>0.134293</td>\n",
       "      <td>0.134093</td>\n",
       "      <td>...</td>\n",
       "      <td>0.136285</td>\n",
       "      <td>0.135530</td>\n",
       "      <td>0.134296</td>\n",
       "      <td>0.134821</td>\n",
       "      <td>0.135299</td>\n",
       "      <td>0.135148</td>\n",
       "      <td>0.135375</td>\n",
       "      <td>0.135829</td>\n",
       "      <td>0.136521</td>\n",
       "      <td>0.136540</td>\n",
       "    </tr>\n",
       "    <tr>\n",
       "      <th>4381_07_01.txt</th>\n",
       "      <th>4381</th>\n",
       "      <th>7</th>\n",
       "      <th>1</th>\n",
       "      <td>0.129800</td>\n",
       "      <td>0.129534</td>\n",
       "      <td>0.130875</td>\n",
       "      <td>0.132560</td>\n",
       "      <td>0.131562</td>\n",
       "      <td>0.134744</td>\n",
       "      <td>0.133086</td>\n",
       "      <td>0.133568</td>\n",
       "      <td>0.134837</td>\n",
       "      <td>0.134594</td>\n",
       "      <td>...</td>\n",
       "      <td>0.134048</td>\n",
       "      <td>0.135043</td>\n",
       "      <td>0.136015</td>\n",
       "      <td>0.136235</td>\n",
       "      <td>0.136641</td>\n",
       "      <td>0.136585</td>\n",
       "      <td>0.136732</td>\n",
       "      <td>0.137954</td>\n",
       "      <td>0.138591</td>\n",
       "      <td>0.138593</td>\n",
       "    </tr>\n",
       "    <tr>\n",
       "      <th>4381_08_01.txt</th>\n",
       "      <th>4381</th>\n",
       "      <th>8</th>\n",
       "      <th>1</th>\n",
       "      <td>0.129278</td>\n",
       "      <td>0.129094</td>\n",
       "      <td>0.130706</td>\n",
       "      <td>0.132541</td>\n",
       "      <td>0.131526</td>\n",
       "      <td>0.134691</td>\n",
       "      <td>0.133163</td>\n",
       "      <td>0.133473</td>\n",
       "      <td>0.134635</td>\n",
       "      <td>0.134434</td>\n",
       "      <td>...</td>\n",
       "      <td>0.134108</td>\n",
       "      <td>0.135976</td>\n",
       "      <td>0.135381</td>\n",
       "      <td>0.135787</td>\n",
       "      <td>0.136372</td>\n",
       "      <td>0.136117</td>\n",
       "      <td>0.136231</td>\n",
       "      <td>0.137506</td>\n",
       "      <td>0.138208</td>\n",
       "      <td>0.138457</td>\n",
       "    </tr>\n",
       "    <tr>\n",
       "      <th>4381_09_01.txt</th>\n",
       "      <th>4381</th>\n",
       "      <th>9</th>\n",
       "      <th>1</th>\n",
       "      <td>0.131048</td>\n",
       "      <td>0.130745</td>\n",
       "      <td>0.132388</td>\n",
       "      <td>0.134230</td>\n",
       "      <td>0.133128</td>\n",
       "      <td>0.136061</td>\n",
       "      <td>0.134652</td>\n",
       "      <td>0.135508</td>\n",
       "      <td>0.135958</td>\n",
       "      <td>0.135749</td>\n",
       "      <td>...</td>\n",
       "      <td>0.136544</td>\n",
       "      <td>0.138204</td>\n",
       "      <td>0.136458</td>\n",
       "      <td>0.137208</td>\n",
       "      <td>0.137794</td>\n",
       "      <td>0.137651</td>\n",
       "      <td>0.137805</td>\n",
       "      <td>0.139093</td>\n",
       "      <td>0.140278</td>\n",
       "      <td>0.140793</td>\n",
       "    </tr>\n",
       "    <tr>\n",
       "      <th>4381_10_01.txt</th>\n",
       "      <th>4381</th>\n",
       "      <th>10</th>\n",
       "      <th>1</th>\n",
       "      <td>0.131447</td>\n",
       "      <td>0.131140</td>\n",
       "      <td>0.132636</td>\n",
       "      <td>0.134423</td>\n",
       "      <td>0.133328</td>\n",
       "      <td>0.136356</td>\n",
       "      <td>0.134804</td>\n",
       "      <td>0.135419</td>\n",
       "      <td>0.136214</td>\n",
       "      <td>0.135969</td>\n",
       "      <td>...</td>\n",
       "      <td>0.137263</td>\n",
       "      <td>0.137342</td>\n",
       "      <td>0.136698</td>\n",
       "      <td>0.136922</td>\n",
       "      <td>0.137509</td>\n",
       "      <td>0.137499</td>\n",
       "      <td>0.137663</td>\n",
       "      <td>0.138180</td>\n",
       "      <td>0.139162</td>\n",
       "      <td>0.139154</td>\n",
       "    </tr>\n",
       "  </tbody>\n",
       "</table>\n",
       "<p>5120 rows × 55 columns</p>\n",
       "</div>"
      ],
      "text/plain": [
       "                                                 w1        w2        w3  \\\n",
       "index          planet stellar_spot photon                                 \n",
       "0003_01_01.txt 3      1            1       0.040606  0.040426  0.040772   \n",
       "0003_02_01.txt 3      2            1       0.039138  0.038912  0.039567   \n",
       "0003_03_01.txt 3      3            1       0.040131  0.040075  0.040378   \n",
       "0003_04_01.txt 3      4            1       0.032260  0.032050  0.032763   \n",
       "0003_05_01.txt 3      5            1       0.034998  0.034928  0.035640   \n",
       "...                                             ...       ...       ...   \n",
       "4381_06_01.txt 4381   6            1       0.129584  0.129380  0.130813   \n",
       "4381_07_01.txt 4381   7            1       0.129800  0.129534  0.130875   \n",
       "4381_08_01.txt 4381   8            1       0.129278  0.129094  0.130706   \n",
       "4381_09_01.txt 4381   9            1       0.131048  0.130745  0.132388   \n",
       "4381_10_01.txt 4381   10           1       0.131447  0.131140  0.132636   \n",
       "\n",
       "                                                 w4        w5        w6  \\\n",
       "index          planet stellar_spot photon                                 \n",
       "0003_01_01.txt 3      1            1       0.041419  0.040566  0.042366   \n",
       "0003_02_01.txt 3      2            1       0.040673  0.039720  0.042263   \n",
       "0003_03_01.txt 3      3            1       0.041036  0.040312  0.042116   \n",
       "0003_04_01.txt 3      4            1       0.033969  0.033064  0.036149   \n",
       "0003_05_01.txt 3      5            1       0.036568  0.035499  0.038150   \n",
       "...                                             ...       ...       ...   \n",
       "4381_06_01.txt 4381   6            1       0.132523  0.131486  0.134430   \n",
       "4381_07_01.txt 4381   7            1       0.132560  0.131562  0.134744   \n",
       "4381_08_01.txt 4381   8            1       0.132541  0.131526  0.134691   \n",
       "4381_09_01.txt 4381   9            1       0.134230  0.133128  0.136061   \n",
       "4381_10_01.txt 4381   10           1       0.134423  0.133328  0.136356   \n",
       "\n",
       "                                                 w7        w8        w9  \\\n",
       "index          planet stellar_spot photon                                 \n",
       "0003_01_01.txt 3      1            1       0.040908  0.041209  0.042097   \n",
       "0003_02_01.txt 3      2            1       0.040501  0.040494  0.041859   \n",
       "0003_03_01.txt 3      3            1       0.040745  0.040161  0.041605   \n",
       "0003_04_01.txt 3      4            1       0.034145  0.034451  0.036173   \n",
       "0003_05_01.txt 3      5            1       0.036057  0.036190  0.037660   \n",
       "...                                             ...       ...       ...   \n",
       "4381_06_01.txt 4381   6            1       0.132909  0.133251  0.134293   \n",
       "4381_07_01.txt 4381   7            1       0.133086  0.133568  0.134837   \n",
       "4381_08_01.txt 4381   8            1       0.133163  0.133473  0.134635   \n",
       "4381_09_01.txt 4381   9            1       0.134652  0.135508  0.135958   \n",
       "4381_10_01.txt 4381   10           1       0.134804  0.135419  0.136214   \n",
       "\n",
       "                                                w10  ...       w46       w47  \\\n",
       "index          planet stellar_spot photon            ...                       \n",
       "0003_01_01.txt 3      1            1       0.041872  ...  0.046249  0.042489   \n",
       "0003_02_01.txt 3      2            1       0.041821  ...  0.048869  0.044776   \n",
       "0003_03_01.txt 3      3            1       0.041715  ...  0.045264  0.042409   \n",
       "0003_04_01.txt 3      4            1       0.036193  ...  0.041774  0.039041   \n",
       "0003_05_01.txt 3      5            1       0.037239  ...  0.038312  0.033779   \n",
       "...                                             ...  ...       ...       ...   \n",
       "4381_06_01.txt 4381   6            1       0.134093  ...  0.136285  0.135530   \n",
       "4381_07_01.txt 4381   7            1       0.134594  ...  0.134048  0.135043   \n",
       "4381_08_01.txt 4381   8            1       0.134434  ...  0.134108  0.135976   \n",
       "4381_09_01.txt 4381   9            1       0.135749  ...  0.136544  0.138204   \n",
       "4381_10_01.txt 4381   10           1       0.135969  ...  0.137263  0.137342   \n",
       "\n",
       "                                                w48       w49       w50  \\\n",
       "index          planet stellar_spot photon                                 \n",
       "0003_01_01.txt 3      1            1       0.041365  0.043090  0.044529   \n",
       "0003_02_01.txt 3      2            1       0.041754  0.041457  0.041845   \n",
       "0003_03_01.txt 3      3            1       0.041380  0.040720  0.040910   \n",
       "0003_04_01.txt 3      4            1       0.036367  0.037382  0.037750   \n",
       "0003_05_01.txt 3      5            1       0.037350  0.038192  0.039524   \n",
       "...                                             ...       ...       ...   \n",
       "4381_06_01.txt 4381   6            1       0.134296  0.134821  0.135299   \n",
       "4381_07_01.txt 4381   7            1       0.136015  0.136235  0.136641   \n",
       "4381_08_01.txt 4381   8            1       0.135381  0.135787  0.136372   \n",
       "4381_09_01.txt 4381   9            1       0.136458  0.137208  0.137794   \n",
       "4381_10_01.txt 4381   10           1       0.136698  0.136922  0.137509   \n",
       "\n",
       "                                                w51       w52       w53  \\\n",
       "index          planet stellar_spot photon                                 \n",
       "0003_01_01.txt 3      1            1       0.043984  0.043569  0.045820   \n",
       "0003_02_01.txt 3      2            1       0.041734  0.041919  0.041286   \n",
       "0003_03_01.txt 3      3            1       0.040778  0.040553  0.039969   \n",
       "0003_04_01.txt 3      4            1       0.037299  0.037742  0.038908   \n",
       "0003_05_01.txt 3      5            1       0.039221  0.039000  0.039870   \n",
       "...                                             ...       ...       ...   \n",
       "4381_06_01.txt 4381   6            1       0.135148  0.135375  0.135829   \n",
       "4381_07_01.txt 4381   7            1       0.136585  0.136732  0.137954   \n",
       "4381_08_01.txt 4381   8            1       0.136117  0.136231  0.137506   \n",
       "4381_09_01.txt 4381   9            1       0.137651  0.137805  0.139093   \n",
       "4381_10_01.txt 4381   10           1       0.137499  0.137663  0.138180   \n",
       "\n",
       "                                                w54       w55  \n",
       "index          planet stellar_spot photon                      \n",
       "0003_01_01.txt 3      1            1       0.044629  0.045281  \n",
       "0003_02_01.txt 3      2            1       0.041577  0.041172  \n",
       "0003_03_01.txt 3      3            1       0.039702  0.039436  \n",
       "0003_04_01.txt 3      4            1       0.039516  0.039393  \n",
       "0003_05_01.txt 3      5            1       0.038865  0.038590  \n",
       "...                                             ...       ...  \n",
       "4381_06_01.txt 4381   6            1       0.136521  0.136540  \n",
       "4381_07_01.txt 4381   7            1       0.138591  0.138593  \n",
       "4381_08_01.txt 4381   8            1       0.138208  0.138457  \n",
       "4381_09_01.txt 4381   9            1       0.140278  0.140793  \n",
       "4381_10_01.txt 4381   10           1       0.139162  0.139154  \n",
       "\n",
       "[5120 rows x 55 columns]"
      ]
     },
     "execution_count": 39,
     "metadata": {},
     "output_type": "execute_result"
    }
   ],
   "source": [
    "# Indexed DataFrame version of the predictions matrix\n",
    "\n",
    "test_y_pred_df = pd.DataFrame(\n",
    "    test_y_pred,\n",
    "    index=ix_enc,\n",
    "    columns=[f'w{i+1}' for i in range(55)])\n",
    "\n",
    "test_y_pred_df"
   ]
  },
  {
   "cell_type": "markdown",
   "id": "fb26ea63",
   "metadata": {},
   "source": [
    "Propagate predictions across samples of the same planet / stellar_spot."
   ]
  },
  {
   "cell_type": "code",
   "execution_count": 40,
   "id": "ff148f4e",
   "metadata": {
    "tags": []
   },
   "outputs": [
    {
     "data": {
      "text/html": [
       "<div>\n",
       "<style scoped>\n",
       "    .dataframe tbody tr th:only-of-type {\n",
       "        vertical-align: middle;\n",
       "    }\n",
       "\n",
       "    .dataframe tbody tr th {\n",
       "        vertical-align: top;\n",
       "    }\n",
       "\n",
       "    .dataframe thead th {\n",
       "        text-align: right;\n",
       "    }\n",
       "</style>\n",
       "<table border=\"1\" class=\"dataframe\">\n",
       "  <thead>\n",
       "    <tr style=\"text-align: right;\">\n",
       "      <th></th>\n",
       "      <th></th>\n",
       "      <th></th>\n",
       "      <th></th>\n",
       "      <th>w1</th>\n",
       "      <th>w2</th>\n",
       "      <th>w3</th>\n",
       "      <th>w4</th>\n",
       "      <th>w5</th>\n",
       "      <th>w6</th>\n",
       "      <th>w7</th>\n",
       "      <th>w8</th>\n",
       "      <th>w9</th>\n",
       "      <th>w10</th>\n",
       "      <th>...</th>\n",
       "      <th>w46</th>\n",
       "      <th>w47</th>\n",
       "      <th>w48</th>\n",
       "      <th>w49</th>\n",
       "      <th>w50</th>\n",
       "      <th>w51</th>\n",
       "      <th>w52</th>\n",
       "      <th>w53</th>\n",
       "      <th>w54</th>\n",
       "      <th>w55</th>\n",
       "    </tr>\n",
       "    <tr>\n",
       "      <th></th>\n",
       "      <th>planet</th>\n",
       "      <th>stellar_spot</th>\n",
       "      <th>photon</th>\n",
       "      <th></th>\n",
       "      <th></th>\n",
       "      <th></th>\n",
       "      <th></th>\n",
       "      <th></th>\n",
       "      <th></th>\n",
       "      <th></th>\n",
       "      <th></th>\n",
       "      <th></th>\n",
       "      <th></th>\n",
       "      <th></th>\n",
       "      <th></th>\n",
       "      <th></th>\n",
       "      <th></th>\n",
       "      <th></th>\n",
       "      <th></th>\n",
       "      <th></th>\n",
       "      <th></th>\n",
       "      <th></th>\n",
       "      <th></th>\n",
       "      <th></th>\n",
       "    </tr>\n",
       "  </thead>\n",
       "  <tbody>\n",
       "    <tr>\n",
       "      <th>0003_01_01.txt</th>\n",
       "      <th>3</th>\n",
       "      <th>1</th>\n",
       "      <th>1</th>\n",
       "      <td>0.040606</td>\n",
       "      <td>0.040426</td>\n",
       "      <td>0.040772</td>\n",
       "      <td>0.041419</td>\n",
       "      <td>0.040566</td>\n",
       "      <td>0.042366</td>\n",
       "      <td>0.040908</td>\n",
       "      <td>0.041209</td>\n",
       "      <td>0.042097</td>\n",
       "      <td>0.041872</td>\n",
       "      <td>...</td>\n",
       "      <td>0.046249</td>\n",
       "      <td>0.042489</td>\n",
       "      <td>0.041365</td>\n",
       "      <td>0.043090</td>\n",
       "      <td>0.044529</td>\n",
       "      <td>0.043984</td>\n",
       "      <td>0.043569</td>\n",
       "      <td>0.04582</td>\n",
       "      <td>0.044629</td>\n",
       "      <td>0.045281</td>\n",
       "    </tr>\n",
       "    <tr>\n",
       "      <th>0003_01_02.txt</th>\n",
       "      <th>3</th>\n",
       "      <th>1</th>\n",
       "      <th>2</th>\n",
       "      <td>0.040606</td>\n",
       "      <td>0.040426</td>\n",
       "      <td>0.040772</td>\n",
       "      <td>0.041419</td>\n",
       "      <td>0.040566</td>\n",
       "      <td>0.042366</td>\n",
       "      <td>0.040908</td>\n",
       "      <td>0.041209</td>\n",
       "      <td>0.042097</td>\n",
       "      <td>0.041872</td>\n",
       "      <td>...</td>\n",
       "      <td>0.046249</td>\n",
       "      <td>0.042489</td>\n",
       "      <td>0.041365</td>\n",
       "      <td>0.043090</td>\n",
       "      <td>0.044529</td>\n",
       "      <td>0.043984</td>\n",
       "      <td>0.043569</td>\n",
       "      <td>0.04582</td>\n",
       "      <td>0.044629</td>\n",
       "      <td>0.045281</td>\n",
       "    </tr>\n",
       "    <tr>\n",
       "      <th>0003_01_03.txt</th>\n",
       "      <th>3</th>\n",
       "      <th>1</th>\n",
       "      <th>3</th>\n",
       "      <td>0.040606</td>\n",
       "      <td>0.040426</td>\n",
       "      <td>0.040772</td>\n",
       "      <td>0.041419</td>\n",
       "      <td>0.040566</td>\n",
       "      <td>0.042366</td>\n",
       "      <td>0.040908</td>\n",
       "      <td>0.041209</td>\n",
       "      <td>0.042097</td>\n",
       "      <td>0.041872</td>\n",
       "      <td>...</td>\n",
       "      <td>0.046249</td>\n",
       "      <td>0.042489</td>\n",
       "      <td>0.041365</td>\n",
       "      <td>0.043090</td>\n",
       "      <td>0.044529</td>\n",
       "      <td>0.043984</td>\n",
       "      <td>0.043569</td>\n",
       "      <td>0.04582</td>\n",
       "      <td>0.044629</td>\n",
       "      <td>0.045281</td>\n",
       "    </tr>\n",
       "    <tr>\n",
       "      <th>0003_01_04.txt</th>\n",
       "      <th>3</th>\n",
       "      <th>1</th>\n",
       "      <th>4</th>\n",
       "      <td>0.040606</td>\n",
       "      <td>0.040426</td>\n",
       "      <td>0.040772</td>\n",
       "      <td>0.041419</td>\n",
       "      <td>0.040566</td>\n",
       "      <td>0.042366</td>\n",
       "      <td>0.040908</td>\n",
       "      <td>0.041209</td>\n",
       "      <td>0.042097</td>\n",
       "      <td>0.041872</td>\n",
       "      <td>...</td>\n",
       "      <td>0.046249</td>\n",
       "      <td>0.042489</td>\n",
       "      <td>0.041365</td>\n",
       "      <td>0.043090</td>\n",
       "      <td>0.044529</td>\n",
       "      <td>0.043984</td>\n",
       "      <td>0.043569</td>\n",
       "      <td>0.04582</td>\n",
       "      <td>0.044629</td>\n",
       "      <td>0.045281</td>\n",
       "    </tr>\n",
       "    <tr>\n",
       "      <th>0003_01_05.txt</th>\n",
       "      <th>3</th>\n",
       "      <th>1</th>\n",
       "      <th>5</th>\n",
       "      <td>0.040606</td>\n",
       "      <td>0.040426</td>\n",
       "      <td>0.040772</td>\n",
       "      <td>0.041419</td>\n",
       "      <td>0.040566</td>\n",
       "      <td>0.042366</td>\n",
       "      <td>0.040908</td>\n",
       "      <td>0.041209</td>\n",
       "      <td>0.042097</td>\n",
       "      <td>0.041872</td>\n",
       "      <td>...</td>\n",
       "      <td>0.046249</td>\n",
       "      <td>0.042489</td>\n",
       "      <td>0.041365</td>\n",
       "      <td>0.043090</td>\n",
       "      <td>0.044529</td>\n",
       "      <td>0.043984</td>\n",
       "      <td>0.043569</td>\n",
       "      <td>0.04582</td>\n",
       "      <td>0.044629</td>\n",
       "      <td>0.045281</td>\n",
       "    </tr>\n",
       "    <tr>\n",
       "      <th>...</th>\n",
       "      <th>...</th>\n",
       "      <th>...</th>\n",
       "      <th>...</th>\n",
       "      <td>...</td>\n",
       "      <td>...</td>\n",
       "      <td>...</td>\n",
       "      <td>...</td>\n",
       "      <td>...</td>\n",
       "      <td>...</td>\n",
       "      <td>...</td>\n",
       "      <td>...</td>\n",
       "      <td>...</td>\n",
       "      <td>...</td>\n",
       "      <td>...</td>\n",
       "      <td>...</td>\n",
       "      <td>...</td>\n",
       "      <td>...</td>\n",
       "      <td>...</td>\n",
       "      <td>...</td>\n",
       "      <td>...</td>\n",
       "      <td>...</td>\n",
       "      <td>...</td>\n",
       "      <td>...</td>\n",
       "      <td>...</td>\n",
       "    </tr>\n",
       "    <tr>\n",
       "      <th>4381_10_06.txt</th>\n",
       "      <th>4381</th>\n",
       "      <th>10</th>\n",
       "      <th>6</th>\n",
       "      <td>0.131447</td>\n",
       "      <td>0.131140</td>\n",
       "      <td>0.132636</td>\n",
       "      <td>0.134423</td>\n",
       "      <td>0.133328</td>\n",
       "      <td>0.136356</td>\n",
       "      <td>0.134804</td>\n",
       "      <td>0.135419</td>\n",
       "      <td>0.136214</td>\n",
       "      <td>0.135969</td>\n",
       "      <td>...</td>\n",
       "      <td>0.137263</td>\n",
       "      <td>0.137342</td>\n",
       "      <td>0.136698</td>\n",
       "      <td>0.136922</td>\n",
       "      <td>0.137509</td>\n",
       "      <td>0.137499</td>\n",
       "      <td>0.137663</td>\n",
       "      <td>0.13818</td>\n",
       "      <td>0.139162</td>\n",
       "      <td>0.139154</td>\n",
       "    </tr>\n",
       "    <tr>\n",
       "      <th>4381_10_07.txt</th>\n",
       "      <th>4381</th>\n",
       "      <th>10</th>\n",
       "      <th>7</th>\n",
       "      <td>0.131447</td>\n",
       "      <td>0.131140</td>\n",
       "      <td>0.132636</td>\n",
       "      <td>0.134423</td>\n",
       "      <td>0.133328</td>\n",
       "      <td>0.136356</td>\n",
       "      <td>0.134804</td>\n",
       "      <td>0.135419</td>\n",
       "      <td>0.136214</td>\n",
       "      <td>0.135969</td>\n",
       "      <td>...</td>\n",
       "      <td>0.137263</td>\n",
       "      <td>0.137342</td>\n",
       "      <td>0.136698</td>\n",
       "      <td>0.136922</td>\n",
       "      <td>0.137509</td>\n",
       "      <td>0.137499</td>\n",
       "      <td>0.137663</td>\n",
       "      <td>0.13818</td>\n",
       "      <td>0.139162</td>\n",
       "      <td>0.139154</td>\n",
       "    </tr>\n",
       "    <tr>\n",
       "      <th>4381_10_08.txt</th>\n",
       "      <th>4381</th>\n",
       "      <th>10</th>\n",
       "      <th>8</th>\n",
       "      <td>0.131447</td>\n",
       "      <td>0.131140</td>\n",
       "      <td>0.132636</td>\n",
       "      <td>0.134423</td>\n",
       "      <td>0.133328</td>\n",
       "      <td>0.136356</td>\n",
       "      <td>0.134804</td>\n",
       "      <td>0.135419</td>\n",
       "      <td>0.136214</td>\n",
       "      <td>0.135969</td>\n",
       "      <td>...</td>\n",
       "      <td>0.137263</td>\n",
       "      <td>0.137342</td>\n",
       "      <td>0.136698</td>\n",
       "      <td>0.136922</td>\n",
       "      <td>0.137509</td>\n",
       "      <td>0.137499</td>\n",
       "      <td>0.137663</td>\n",
       "      <td>0.13818</td>\n",
       "      <td>0.139162</td>\n",
       "      <td>0.139154</td>\n",
       "    </tr>\n",
       "    <tr>\n",
       "      <th>4381_10_09.txt</th>\n",
       "      <th>4381</th>\n",
       "      <th>10</th>\n",
       "      <th>9</th>\n",
       "      <td>0.131447</td>\n",
       "      <td>0.131140</td>\n",
       "      <td>0.132636</td>\n",
       "      <td>0.134423</td>\n",
       "      <td>0.133328</td>\n",
       "      <td>0.136356</td>\n",
       "      <td>0.134804</td>\n",
       "      <td>0.135419</td>\n",
       "      <td>0.136214</td>\n",
       "      <td>0.135969</td>\n",
       "      <td>...</td>\n",
       "      <td>0.137263</td>\n",
       "      <td>0.137342</td>\n",
       "      <td>0.136698</td>\n",
       "      <td>0.136922</td>\n",
       "      <td>0.137509</td>\n",
       "      <td>0.137499</td>\n",
       "      <td>0.137663</td>\n",
       "      <td>0.13818</td>\n",
       "      <td>0.139162</td>\n",
       "      <td>0.139154</td>\n",
       "    </tr>\n",
       "    <tr>\n",
       "      <th>4381_10_10.txt</th>\n",
       "      <th>4381</th>\n",
       "      <th>10</th>\n",
       "      <th>10</th>\n",
       "      <td>0.131447</td>\n",
       "      <td>0.131140</td>\n",
       "      <td>0.132636</td>\n",
       "      <td>0.134423</td>\n",
       "      <td>0.133328</td>\n",
       "      <td>0.136356</td>\n",
       "      <td>0.134804</td>\n",
       "      <td>0.135419</td>\n",
       "      <td>0.136214</td>\n",
       "      <td>0.135969</td>\n",
       "      <td>...</td>\n",
       "      <td>0.137263</td>\n",
       "      <td>0.137342</td>\n",
       "      <td>0.136698</td>\n",
       "      <td>0.136922</td>\n",
       "      <td>0.137509</td>\n",
       "      <td>0.137499</td>\n",
       "      <td>0.137663</td>\n",
       "      <td>0.13818</td>\n",
       "      <td>0.139162</td>\n",
       "      <td>0.139154</td>\n",
       "    </tr>\n",
       "  </tbody>\n",
       "</table>\n",
       "<p>51200 rows × 55 columns</p>\n",
       "</div>"
      ],
      "text/plain": [
       "                                                 w1        w2        w3  \\\n",
       "               planet stellar_spot photon                                 \n",
       "0003_01_01.txt 3      1            1       0.040606  0.040426  0.040772   \n",
       "0003_01_02.txt 3      1            2       0.040606  0.040426  0.040772   \n",
       "0003_01_03.txt 3      1            3       0.040606  0.040426  0.040772   \n",
       "0003_01_04.txt 3      1            4       0.040606  0.040426  0.040772   \n",
       "0003_01_05.txt 3      1            5       0.040606  0.040426  0.040772   \n",
       "...                                             ...       ...       ...   \n",
       "4381_10_06.txt 4381   10           6       0.131447  0.131140  0.132636   \n",
       "4381_10_07.txt 4381   10           7       0.131447  0.131140  0.132636   \n",
       "4381_10_08.txt 4381   10           8       0.131447  0.131140  0.132636   \n",
       "4381_10_09.txt 4381   10           9       0.131447  0.131140  0.132636   \n",
       "4381_10_10.txt 4381   10           10      0.131447  0.131140  0.132636   \n",
       "\n",
       "                                                 w4        w5        w6  \\\n",
       "               planet stellar_spot photon                                 \n",
       "0003_01_01.txt 3      1            1       0.041419  0.040566  0.042366   \n",
       "0003_01_02.txt 3      1            2       0.041419  0.040566  0.042366   \n",
       "0003_01_03.txt 3      1            3       0.041419  0.040566  0.042366   \n",
       "0003_01_04.txt 3      1            4       0.041419  0.040566  0.042366   \n",
       "0003_01_05.txt 3      1            5       0.041419  0.040566  0.042366   \n",
       "...                                             ...       ...       ...   \n",
       "4381_10_06.txt 4381   10           6       0.134423  0.133328  0.136356   \n",
       "4381_10_07.txt 4381   10           7       0.134423  0.133328  0.136356   \n",
       "4381_10_08.txt 4381   10           8       0.134423  0.133328  0.136356   \n",
       "4381_10_09.txt 4381   10           9       0.134423  0.133328  0.136356   \n",
       "4381_10_10.txt 4381   10           10      0.134423  0.133328  0.136356   \n",
       "\n",
       "                                                 w7        w8        w9  \\\n",
       "               planet stellar_spot photon                                 \n",
       "0003_01_01.txt 3      1            1       0.040908  0.041209  0.042097   \n",
       "0003_01_02.txt 3      1            2       0.040908  0.041209  0.042097   \n",
       "0003_01_03.txt 3      1            3       0.040908  0.041209  0.042097   \n",
       "0003_01_04.txt 3      1            4       0.040908  0.041209  0.042097   \n",
       "0003_01_05.txt 3      1            5       0.040908  0.041209  0.042097   \n",
       "...                                             ...       ...       ...   \n",
       "4381_10_06.txt 4381   10           6       0.134804  0.135419  0.136214   \n",
       "4381_10_07.txt 4381   10           7       0.134804  0.135419  0.136214   \n",
       "4381_10_08.txt 4381   10           8       0.134804  0.135419  0.136214   \n",
       "4381_10_09.txt 4381   10           9       0.134804  0.135419  0.136214   \n",
       "4381_10_10.txt 4381   10           10      0.134804  0.135419  0.136214   \n",
       "\n",
       "                                                w10  ...       w46       w47  \\\n",
       "               planet stellar_spot photon            ...                       \n",
       "0003_01_01.txt 3      1            1       0.041872  ...  0.046249  0.042489   \n",
       "0003_01_02.txt 3      1            2       0.041872  ...  0.046249  0.042489   \n",
       "0003_01_03.txt 3      1            3       0.041872  ...  0.046249  0.042489   \n",
       "0003_01_04.txt 3      1            4       0.041872  ...  0.046249  0.042489   \n",
       "0003_01_05.txt 3      1            5       0.041872  ...  0.046249  0.042489   \n",
       "...                                             ...  ...       ...       ...   \n",
       "4381_10_06.txt 4381   10           6       0.135969  ...  0.137263  0.137342   \n",
       "4381_10_07.txt 4381   10           7       0.135969  ...  0.137263  0.137342   \n",
       "4381_10_08.txt 4381   10           8       0.135969  ...  0.137263  0.137342   \n",
       "4381_10_09.txt 4381   10           9       0.135969  ...  0.137263  0.137342   \n",
       "4381_10_10.txt 4381   10           10      0.135969  ...  0.137263  0.137342   \n",
       "\n",
       "                                                w48       w49       w50  \\\n",
       "               planet stellar_spot photon                                 \n",
       "0003_01_01.txt 3      1            1       0.041365  0.043090  0.044529   \n",
       "0003_01_02.txt 3      1            2       0.041365  0.043090  0.044529   \n",
       "0003_01_03.txt 3      1            3       0.041365  0.043090  0.044529   \n",
       "0003_01_04.txt 3      1            4       0.041365  0.043090  0.044529   \n",
       "0003_01_05.txt 3      1            5       0.041365  0.043090  0.044529   \n",
       "...                                             ...       ...       ...   \n",
       "4381_10_06.txt 4381   10           6       0.136698  0.136922  0.137509   \n",
       "4381_10_07.txt 4381   10           7       0.136698  0.136922  0.137509   \n",
       "4381_10_08.txt 4381   10           8       0.136698  0.136922  0.137509   \n",
       "4381_10_09.txt 4381   10           9       0.136698  0.136922  0.137509   \n",
       "4381_10_10.txt 4381   10           10      0.136698  0.136922  0.137509   \n",
       "\n",
       "                                                w51       w52      w53  \\\n",
       "               planet stellar_spot photon                                \n",
       "0003_01_01.txt 3      1            1       0.043984  0.043569  0.04582   \n",
       "0003_01_02.txt 3      1            2       0.043984  0.043569  0.04582   \n",
       "0003_01_03.txt 3      1            3       0.043984  0.043569  0.04582   \n",
       "0003_01_04.txt 3      1            4       0.043984  0.043569  0.04582   \n",
       "0003_01_05.txt 3      1            5       0.043984  0.043569  0.04582   \n",
       "...                                             ...       ...      ...   \n",
       "4381_10_06.txt 4381   10           6       0.137499  0.137663  0.13818   \n",
       "4381_10_07.txt 4381   10           7       0.137499  0.137663  0.13818   \n",
       "4381_10_08.txt 4381   10           8       0.137499  0.137663  0.13818   \n",
       "4381_10_09.txt 4381   10           9       0.137499  0.137663  0.13818   \n",
       "4381_10_10.txt 4381   10           10      0.137499  0.137663  0.13818   \n",
       "\n",
       "                                                w54       w55  \n",
       "               planet stellar_spot photon                      \n",
       "0003_01_01.txt 3      1            1       0.044629  0.045281  \n",
       "0003_01_02.txt 3      1            2       0.044629  0.045281  \n",
       "0003_01_03.txt 3      1            3       0.044629  0.045281  \n",
       "0003_01_04.txt 3      1            4       0.044629  0.045281  \n",
       "0003_01_05.txt 3      1            5       0.044629  0.045281  \n",
       "...                                             ...       ...  \n",
       "4381_10_06.txt 4381   10           6       0.139162  0.139154  \n",
       "4381_10_07.txt 4381   10           7       0.139162  0.139154  \n",
       "4381_10_08.txt 4381   10           8       0.139162  0.139154  \n",
       "4381_10_09.txt 4381   10           9       0.139162  0.139154  \n",
       "4381_10_10.txt 4381   10           10      0.139162  0.139154  \n",
       "\n",
       "[51200 rows x 55 columns]"
      ]
     },
     "execution_count": 40,
     "metadata": {},
     "output_type": "execute_result"
    }
   ],
   "source": [
    "test_y_pred_df = test_y_pred_df.reindex(ix_all).fillna(method='ffill')\n",
    "test_y_pred_df"
   ]
  },
  {
   "cell_type": "markdown",
   "id": "dcaf9622",
   "metadata": {},
   "source": [
    "\\\n",
    "**Submit**"
   ]
  },
  {
   "cell_type": "code",
   "execution_count": 41,
   "id": "a1301f98",
   "metadata": {
    "tags": []
   },
   "outputs": [
    {
     "data": {
      "text/plain": [
       "'2025-01-17 11.48.02.csv'"
      ]
     },
     "execution_count": 41,
     "metadata": {},
     "output_type": "execute_result"
    }
   ],
   "source": [
    "s_path = 'submissions/'\n",
    "os.makedirs(s_path, exist_ok=True)\n",
    "\n",
    "s_file = str(pd.Timestamp('now').round('s')).replace(':', '.') + '.csv'\n",
    "s_file"
   ]
  },
  {
   "cell_type": "markdown",
   "id": "aac7f470",
   "metadata": {},
   "source": [
    "Write predictions to the hard drive."
   ]
  },
  {
   "cell_type": "code",
   "execution_count": 42,
   "id": "c06870f0",
   "metadata": {
    "tags": []
   },
   "outputs": [],
   "source": [
    "submission = test_y_pred_df.reset_index(level=OBSERV_INDEX, drop=True).rename_axis(index='files')"
   ]
  },
  {
   "cell_type": "code",
   "execution_count": 43,
   "id": "0ae5f8b0",
   "metadata": {
    "tags": []
   },
   "outputs": [],
   "source": [
    "submission.to_csv(s_path + s_file)"
   ]
  },
  {
   "cell_type": "markdown",
   "id": "f96b831b",
   "metadata": {},
   "source": [
    "Submit predictions using the REST API."
   ]
  },
  {
   "cell_type": "code",
   "execution_count": 44,
   "id": "e62e641f",
   "metadata": {
    "tags": []
   },
   "outputs": [],
   "source": [
    "# Enter your team's identifiers\n",
    "team_id = {\n",
    "    \"team_no\": \"3\",\n",
    "    \"team_name\": \"CoRoT-7-b\",\n",
    "    \"secret_key\": \"2006\",\n",
    "    }"
   ]
  },
  {
   "cell_type": "code",
   "execution_count": 45,
   "id": "78748234",
   "metadata": {
    "tags": []
   },
   "outputs": [
    {
     "name": "stdout",
     "output_type": "stream",
     "text": [
      "Status Code: 200\n",
      "Successful submission by 'CoRoT-7-b', with a public leaderboard score of 9166.08137242778\n"
     ]
    }
   ],
   "source": [
    "files = {\"file\": (s_file, submission.to_csv(), \"text/csv\")}\n",
    "\n",
    "response = requests.post(\n",
    "    \"https://www.ariel-datachallenge.space/api/score/calculate/\",\n",
    "    data=team_id, files=files)\n",
    "\n",
    "print(f\"Status Code: {response.status_code}\")\n",
    "if response.status_code == 200:\n",
    "    response_json = response.json()\n",
    "    print(f\"Successful submission by '{team_id['team_name']}', \" +\n",
    "          f\"with a public leaderboard score of {response_json['score']}\")\n",
    "else:\n",
    "    print(f\"Submission failure:\", response.json())"
   ]
  },
  {
   "cell_type": "markdown",
   "id": "5a961073",
   "metadata": {},
   "source": [
    "These are the error codes you may come across when submitting:\n",
    "\n",
    "    Wrong file type : File is not in .csv format\n",
    "    File processing failed : The .csv file is not formatted correctly\n",
    "    Invalid secret code : Typo in secret code or wrong code\n",
    "    Invalid data format : The file has non-numeric values\n",
    "    Wrong data format : The num of rows or column is not as expected\n",
    "    Invalid Submission : Empty file submitted"
   ]
  },
  {
   "cell_type": "markdown",
   "id": "5d4d640e",
   "metadata": {},
   "source": [
    "-----\n",
    "\n",
    "-----"
   ]
  },
  {
   "cell_type": "code",
   "execution_count": null,
   "id": "914da422-b76a-441e-9f15-fd1f3a67b36b",
   "metadata": {},
   "outputs": [],
   "source": []
  }
 ],
 "metadata": {
  "kernelspec": {
   "display_name": "ariel_hackathon",
   "language": "python",
   "name": "ariel_hackathon"
  },
  "language_info": {
   "codemirror_mode": {
    "name": "ipython",
    "version": 3
   },
   "file_extension": ".py",
   "mimetype": "text/x-python",
   "name": "python",
   "nbconvert_exporter": "python",
   "pygments_lexer": "ipython3",
   "version": "3.11.11"
  },
  "toc": {
   "base_numbering": 1,
   "nav_menu": {},
   "number_sections": true,
   "sideBar": true,
   "skip_h1_title": false,
   "title_cell": "Table of Contents",
   "title_sidebar": "Contents",
   "toc_cell": true,
   "toc_position": {
    "height": "calc(100% - 180px)",
    "left": "10px",
    "top": "150px",
    "width": "364.2px"
   },
   "toc_section_display": true,
   "toc_window_display": true
  }
 },
 "nbformat": 4,
 "nbformat_minor": 5
}
