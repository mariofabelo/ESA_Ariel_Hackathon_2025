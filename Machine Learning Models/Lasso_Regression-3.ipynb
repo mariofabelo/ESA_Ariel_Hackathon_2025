{
 "cells": [
  {
   "cell_type": "markdown",
   "id": "6a853808",
   "metadata": {
    "toc": true
   },
   "source": [
    "<h1>Table of Contents<span class=\"tocSkip\"></span></h1>\n",
    "<div class=\"toc\"><ul class=\"toc-item\"><li><span><a href=\"#Imports\" data-toc-modified-id=\"Imports-1\"><span class=\"toc-item-num\">1&nbsp;&nbsp;</span>Imports</a></span></li><li><span><a href=\"#Data-preparation\" data-toc-modified-id=\"Data-preparation-2\"><span class=\"toc-item-num\">2&nbsp;&nbsp;</span>Data preparation</a></span></li><li><span><a href=\"#Modelling\" data-toc-modified-id=\"Modelling-3\"><span class=\"toc-item-num\">3&nbsp;&nbsp;</span>Modelling</a></span><ul class=\"toc-item\"><li><span><a href=\"#Cross-validation\" data-toc-modified-id=\"Cross-validation-3.1\"><span class=\"toc-item-num\">3.1&nbsp;&nbsp;</span>Cross-validation</a></span></li><li><span><a href=\"#Train-model-over-full-train-set\" data-toc-modified-id=\"Train-model-over-full-train-set-3.2\"><span class=\"toc-item-num\">3.2&nbsp;&nbsp;</span>Train model over full train set</a></span></li></ul></li><li><span><a href=\"#Predict-over-test-set\" data-toc-modified-id=\"Predict-over-test-set-4\"><span class=\"toc-item-num\">4&nbsp;&nbsp;</span>Predict over test set</a></span></li><li><span><a href=\"#Submit-predictions\" data-toc-modified-id=\"Submit-predictions-5\"><span class=\"toc-item-num\">5&nbsp;&nbsp;</span>Submit predictions</a></span></li></ul></div>"
   ]
  },
  {
   "cell_type": "markdown",
   "id": "a1d9d775",
   "metadata": {},
   "source": [
    "----"
   ]
  },
  {
   "cell_type": "markdown",
   "id": "fcb64658",
   "metadata": {},
   "source": [
    "**<big>ESA Datalabs Ariel Hackathon</big>**"
   ]
  },
  {
   "cell_type": "markdown",
   "id": "63a7ca56",
   "metadata": {},
   "source": [
    "Modelling starter code"
   ]
  },
  {
   "cell_type": "markdown",
   "id": "edf163f2",
   "metadata": {},
   "source": [
    "----\n",
    "\n",
    "----"
   ]
  },
  {
   "cell_type": "markdown",
   "id": "7d60df0e",
   "metadata": {},
   "source": [
    "# Imports"
   ]
  },
  {
   "cell_type": "code",
   "execution_count": 1,
   "id": "6f6fd6fa",
   "metadata": {
    "tags": []
   },
   "outputs": [],
   "source": [
    "import gc, requests\n",
    "from sklearn.linear_model import Lasso, Ridge\n",
    "import numpy as np\n",
    "import pandas as pd\n",
    "import matplotlib.pylab as plt\n",
    "import seaborn as sns\n",
    "\n",
    "%matplotlib inline\n",
    "\n",
    "import sys\n",
    "sys.path.append('esac-hackathon-starter-code-dev')\n",
    "from adc21 import *"
   ]
  },
  {
   "cell_type": "markdown",
   "id": "e4c0465d",
   "metadata": {},
   "source": [
    "---"
   ]
  },
  {
   "cell_type": "markdown",
   "id": "9c28ae34",
   "metadata": {},
   "source": [
    "**Load dataset**"
   ]
  },
  {
   "cell_type": "code",
   "execution_count": 2,
   "id": "01bfcde3",
   "metadata": {
    "tags": []
   },
   "outputs": [],
   "source": [
    "# Please adjust the below path with your team's workspace, e.g. '/media/team_workspaces/MYTEAMNAME/'\n",
    "DATA_PATH = '/media/team_workspaces/CoRoT-7-b/'"
   ]
  },
  {
   "cell_type": "code",
   "execution_count": 3,
   "id": "cb0d8cfc",
   "metadata": {
    "tags": []
   },
   "outputs": [
    {
     "name": "stdout",
     "output_type": "stream",
     "text": [
      "<class 'adc21.data.dataset'>\n",
      "CPU times: user 1.4 s, sys: 5.78 s, total: 7.18 s\n",
      "Wall time: 1min 30s\n"
     ]
    }
   ],
   "source": [
    "%%time\n",
    "DATA = load_dataset(DATA_PATH + 'ADC21esac_train.pkl')\n",
    "#DATA = load_dataset(DATA_PATH + 'ADC21esac_test.pkl')\n",
    "print(type(DATA))"
   ]
  },
  {
   "cell_type": "markdown",
   "id": "200ffc14",
   "metadata": {},
   "source": [
    "----\n",
    "\n",
    "----"
   ]
  },
  {
   "cell_type": "markdown",
   "id": "0ade422e-e888-4126-8592-8d358a98ccd6",
   "metadata": {
    "tags": []
   },
   "source": [
    "## Cleaning (ensuring that there are no missing values, Nan's or 0 or similar)"
   ]
  },
  {
   "cell_type": "code",
   "execution_count": 4,
   "id": "ed14fa9f-d149-4955-97d7-d204d95bb1cc",
   "metadata": {
    "tags": []
   },
   "outputs": [
    {
     "name": "stdout",
     "output_type": "stream",
     "text": [
      "<class 'dict'>\n"
     ]
    }
   ],
   "source": [
    "# Check the type of DATA.X and inspect its content\n",
    "print(type(DATA.X))\n",
    "\n",
    "# If DATA.X is a dictionary of numpy arrays or lists\n",
    "for key, value in DATA.X.items():\n",
    "    # Check if the value is a numpy array or list\n",
    "    if isinstance(value, (np.ndarray, list)):\n",
    "        # Check for missing values (NaNs)\n",
    "        missing_values = np.any(np.isnan(value)).sum()\n",
    "        if missing_values > 0:\n",
    "            print(f\"Missing values in column {key}: {missing_values}\")"
   ]
  },
  {
   "cell_type": "markdown",
   "id": "276e41eb-e77b-4412-ae8f-4ccccd17769c",
   "metadata": {},
   "source": [
    "No missing values"
   ]
  },
  {
   "cell_type": "markdown",
   "id": "8170497e",
   "metadata": {},
   "source": [
    "# Data preparation"
   ]
  },
  {
   "cell_type": "markdown",
   "id": "06916505",
   "metadata": {},
   "source": [
    "You are free to train your ML models over the raw data, or over data pre-processed in any way you choose.\n",
    "\n",
    "We offer below a possible way to prepare the data for modelling.\n",
    "\n",
    "This data preparation pipeline is also in use at the **https://ariel-lightcurve-challenge.mlanalytics.ai/** website. You are encouraged to use the website to explore the dataset, and the impact of different transformations."
   ]
  },
  {
   "cell_type": "markdown",
   "id": "afee73aa",
   "metadata": {},
   "source": [
    "***Parameters of the data pre-processing pipeline***:\n",
    "\n",
    "**WINDOW_RADIUS**\n",
    "* Improve estimate of observation at time t by taking the mean over all values observed in the [t-r, t+r] time window, where r is the chosen radius. Process is applied for all time instants, of all wavelength channels.\n",
    "\n",
    "**AGGR_NUM_OBS**\n",
    "* We have the chance to observe the exoplanet for up to 10 of its \\\"years\\\", 10 different transits in front of its star (in this dataset). We know enough about the planet's orbit to know the point of a transit that should match the equivalent point of a different transit. When taking the mean to estimate the light curve value at time t, it is then best to consider also the matching observations of up to how many different transits?\n",
    "\n",
    "**MIRROR_STACKING**\n",
    "* An ideal observation of a planet's transit, with no imprecision in the measurements, would produce a smooth light curve, symmetrical around the point of maximum dip. What we know of the planet's orbit allows us to estimate when is that point reached. In this dataset, it's at the t=150 instant. When estimating the true value at t=100, for instance, the measurements at t=200 are then also informative. Choosing this option, the time-symmetrical measurements are then also included when calculating the mean. By doing so, observe how the light curves become symmetrical. For training the AI model, it is then enough to consider just half the curve, as it would be redundant to see same values again on the other side of t=150.\n",
    "\n",
    "**MEAN_TYPE**\n",
    "* The settings above define the set of values we'll consider as relevant to the estimation of the true value at a given time instant. What is then the best way to aggregate all those separate measurements? We'll be using what's known as a \"[generalized mean](https://en.wikipedia.org/wiki/Generalized_mean)\" for that. This equation has a single parameter, p. For p=1 it becomes the well known arithmetic mean. Different settings will favour either the smaller (p<0) or larger values under aggregation (p>0). The plots may show imperceptible differences, but the AI model will be sensitive to it!\n",
    "\n",
    "**GRID_PTS_NUM**\n",
    "* How many different things should the AI model consider at once? You want to make the learning problem as simple as possible, but not so simple that the AI is not exposed to important information, and is then unable to perform well. The AI won't be seeing the full light curve – it contains 300×55=16,500 measurements for just one transit! Instead, we perform aggregations at just a few carefully chosen time steps, and have the AI learn over just those. This parameter then controls the number of different variables you give to the AI model, and so the complexity of the learning problem.\n",
    "\n",
    "**GRID_PTS_SPACING**\n",
    "* Is it better to focus around the t=150 instant, or does the AI need to consider also the slope down from 1.0 relative brightness? This parameter controls the spacing, in minutes, between the grid points chosen in the previous setting. It determines the kind of information the AI will consider when learning how to extract the spectrum from the light curve."
   ]
  },
  {
   "cell_type": "code",
   "execution_count": 5,
   "id": "673a6946",
   "metadata": {
    "tags": []
   },
   "outputs": [
    {
     "name": "stdout",
     "output_type": "stream",
     "text": [
      "With these settings, a star has its observations transformed into a 611-dimensional representation: 10+1 grid points × 55 wavelength channels + 6 stellar/planet parameters.\n",
      "Each grid point aggregates with a p=-2 a total of 580 values: a time window 2×14+1 minutes wide × 10 planetary transits × 2 time symmetrical observations.\n"
     ]
    },
    {
     "data": {
      "text/plain": [
       "{'WINDOW_RADIUS': 14,\n",
       " 'AGGR_NUM_OBS': 10,\n",
       " 'MIRROR_STACKING': True,\n",
       " 'MEAN_TYPE_P': -2,\n",
       " 'GRID_PTS_NUM': 10,\n",
       " 'GRID_PTS_SPACING': 5}"
      ]
     },
     "execution_count": 5,
     "metadata": {},
     "output_type": "execute_result"
    }
   ],
   "source": [
    "# configure the desired data pre-processing pipeline\n",
    "\n",
    "data_setup = dict(\n",
    "    WINDOW_RADIUS    = 14,\n",
    "    AGGR_NUM_OBS     = 10,\n",
    "    MIRROR_STACKING  = True,\n",
    "    MEAN_TYPE_P      = -2,\n",
    "    \n",
    "    GRID_PTS_NUM     = 10,\n",
    "    GRID_PTS_SPACING = 5,\n",
    "    )\n",
    "\n",
    "\n",
    "setup_summary(data_setup)\n",
    "data_setup"
   ]
  },
  {
   "cell_type": "code",
   "execution_count": 6,
   "id": "582c6df0",
   "metadata": {
    "tags": []
   },
   "outputs": [
    {
     "data": {
      "image/png": "[encoded data removed]",
      "text/plain": [
       "<Figure size 1000x500 with 2 Axes>"
      ]
     },
     "metadata": {},
     "output_type": "display_data"
    }
   ],
   "source": [
    "# Visualization of how the data pre-processing defined above transforms a given planet's observations\n",
    "visualize_setup(DATA, data_setup, planet_id=1759)"
   ]
  },
  {
   "cell_type": "markdown",
   "id": "297fbe25",
   "metadata": {},
   "source": [
    "\\\n",
    "To transform the whole dataset using the `data_setup` defined above, first call `configure_pipeline()`, and then `prepare_data()`."
   ]
  },
  {
   "cell_type": "code",
   "execution_count": 7,
   "id": "212ba420",
   "metadata": {
    "tags": []
   },
   "outputs": [],
   "source": [
    "X_pipeline = configure_pipeline(**data_setup)\n",
    "#X_pipeline"
   ]
  },
  {
   "cell_type": "code",
   "execution_count": 8,
   "id": "abb2281c",
   "metadata": {
    "tags": []
   },
   "outputs": [
    {
     "name": "stdout",
     "output_type": "stream",
     "text": [
      "functools.partial(<function X__set_to__obs_encodings at 0x7f7c2a2accc0>, agg_stellar=False, agg_photon=10, agg=-2, window_radius=14, grid=(100, 105, 110, 115, 120, 125, 130, 135, 140, 145, 150), mirror_stacking=True)\n"
     ]
    },
    {
     "data": {
      "text/html": [
       "\n",
       "<style>\n",
       "    /* Turns off some styling */\n",
       "    progress {\n",
       "        /* gets rid of default border in Firefox and Opera. */\n",
       "        border: none;\n",
       "        /* Needs to be in here for Safari polyfill so background images work as expected. */\n",
       "        background-size: auto;\n",
       "    }\n",
       "    progress:not([value]), progress:not([value])::-webkit-progress-bar {\n",
       "        background: repeating-linear-gradient(45deg, #7e7e7e, #7e7e7e 10px, #5c5c5c 10px, #5c5c5c 20px);\n",
       "    }\n",
       "    .progress-bar-interrupted, .progress-bar-interrupted::-webkit-progress-bar {\n",
       "        background: #F44336;\n",
       "    }\n",
       "</style>\n"
      ],
      "text/plain": [
       "<IPython.core.display.HTML object>"
      ]
     },
     "metadata": {},
     "output_type": "display_data"
    },
    {
     "data": {
      "text/html": [
       "\n",
       "    <div>\n",
       "      <progress value='1000' class='' max='1000' style='width:300px; height:20px; vertical-align: middle;'></progress>\n",
       "      100.00% [1000/1000 00:07&lt;00:00]\n",
       "    </div>\n",
       "    "
      ],
      "text/plain": [
       "<IPython.core.display.HTML object>"
      ]
     },
     "metadata": {},
     "output_type": "display_data"
    },
    {
     "name": "stdout",
     "output_type": "stream",
     "text": [
      "functools.partial(<function X__stack_with__par at 0x7f7c2a2af100>, par_var='X_par')\n",
      "CPU times: user 7.89 s, sys: 1.16 s, total: 9.05 s\n",
      "Wall time: 9.13 s\n"
     ]
    }
   ],
   "source": [
    "%%time\n",
    "data = prepare_data(DATA, X_pipeline)"
   ]
  },
  {
   "cell_type": "code",
   "execution_count": 9,
   "id": "b34582a9",
   "metadata": {
    "tags": []
   },
   "outputs": [
    {
     "name": "stdout",
     "output_type": "stream",
     "text": [
      "[[3.6674199e+03 5.0000000e+00 4.3950000e-01 ... 5.2582700e-02\n",
      "  5.2138746e-02 5.2403864e-02]\n",
      " [3.6674199e+03 5.0000000e+00 4.3950000e-01 ... 5.6493632e-02\n",
      "  5.7339273e-02 5.9075475e-02]\n",
      " [3.6674199e+03 5.0000000e+00 4.3950000e-01 ... 6.1079085e-02\n",
      "  5.9922475e-02 6.0364481e-02]\n",
      " ...\n",
      " [4.7310000e+03 4.5000000e+00 6.9000000e-01 ... 2.0040361e-02\n",
      "  0.0000000e+00 0.0000000e+00]\n",
      " [4.7310000e+03 4.5000000e+00 6.9000000e-01 ... 6.5082140e-02\n",
      "  5.5472597e-02 4.5016646e-02]\n",
      " [4.7310000e+03 4.5000000e+00 6.9000000e-01 ... 6.9040880e-02\n",
      "  6.1910231e-02 6.6577017e-02]]\n"
     ]
    }
   ],
   "source": [
    "type(data), data.X.dtype, data.y.dtype\n",
    "print(data.X)"
   ]
  },
  {
   "cell_type": "markdown",
   "id": "9c8a7b77-c4d5-465e-9705-4fbd95c9af62",
   "metadata": {},
   "source": [
    "## Check if missing values after data has been prepared"
   ]
  },
  {
   "cell_type": "code",
   "execution_count": 10,
   "id": "78903421-5065-4c5a-934d-19571e85bb64",
   "metadata": {
    "tags": []
   },
   "outputs": [
    {
     "name": "stdout",
     "output_type": "stream",
     "text": [
      "<class 'numpy.ndarray'>\n"
     ]
    }
   ],
   "source": [
    "# Check the type of data.X and inspect its content\n",
    "print(type(data.X))\n",
    "\n",
    "if isinstance(data.X, np.ndarray):  # If it's a numpy array\n",
    "    # Check for missing values in each column (axis=0 for columns)\n",
    "    missing_values = np.isnan(data.X).sum(axis=0)\n",
    "    for i, value in enumerate(missing_values):\n",
    "        if value > 0:\n",
    "            print(f\"Missing values in column {i}: {value}\")"
   ]
  },
  {
   "cell_type": "code",
   "execution_count": 11,
   "id": "2d45f6c3",
   "metadata": {
    "scrolled": true,
    "tags": []
   },
   "outputs": [
    {
     "data": {
      "text/plain": [
       "array([[3.6674199e+03, 5.0000000e+00, 4.3950000e-01, ..., 5.2582700e-02,\n",
       "        5.2138746e-02, 5.2403864e-02],\n",
       "       [3.6674199e+03, 5.0000000e+00, 4.3950000e-01, ..., 5.6493632e-02,\n",
       "        5.7339273e-02, 5.9075475e-02],\n",
       "       [3.6674199e+03, 5.0000000e+00, 4.3950000e-01, ..., 6.1079085e-02,\n",
       "        5.9922475e-02, 6.0364481e-02],\n",
       "       ...,\n",
       "       [4.7310000e+03, 4.5000000e+00, 6.9000000e-01, ..., 2.0040361e-02,\n",
       "        0.0000000e+00, 0.0000000e+00],\n",
       "       [4.7310000e+03, 4.5000000e+00, 6.9000000e-01, ..., 6.5082140e-02,\n",
       "        5.5472597e-02, 4.5016646e-02],\n",
       "       [4.7310000e+03, 4.5000000e+00, 6.9000000e-01, ..., 6.9040880e-02,\n",
       "        6.1910231e-02, 6.6577017e-02]], dtype=float32)"
      ]
     },
     "execution_count": 11,
     "metadata": {},
     "output_type": "execute_result"
    }
   ],
   "source": [
    "data.X"
   ]
  },
  {
   "cell_type": "code",
   "execution_count": 12,
   "id": "25ffe7a4",
   "metadata": {
    "tags": []
   },
   "outputs": [
    {
     "data": {
      "text/plain": [
       "array([[0.05427011, 0.05390767, 0.05448135, ..., 0.05766987, 0.05825472,\n",
       "        0.05851034],\n",
       "       [0.05427011, 0.05390767, 0.05448135, ..., 0.05766987, 0.05825472,\n",
       "        0.05851034],\n",
       "       [0.05427011, 0.05390767, 0.05448135, ..., 0.05766987, 0.05825472,\n",
       "        0.05851034],\n",
       "       ...,\n",
       "       [0.03866225, 0.03808885, 0.03876797, ..., 0.0436143 , 0.04515038,\n",
       "        0.0455361 ],\n",
       "       [0.03866225, 0.03808885, 0.03876797, ..., 0.0436143 , 0.04515038,\n",
       "        0.0455361 ],\n",
       "       [0.03866225, 0.03808885, 0.03876797, ..., 0.0436143 , 0.04515038,\n",
       "        0.0455361 ]], dtype=float32)"
      ]
     },
     "execution_count": 12,
     "metadata": {},
     "output_type": "execute_result"
    }
   ],
   "source": [
    "data.y"
   ]
  },
  {
   "cell_type": "code",
   "execution_count": 13,
   "id": "414cf956",
   "metadata": {
    "tags": []
   },
   "outputs": [
    {
     "data": {
      "text/plain": [
       "(10000, 611)"
      ]
     },
     "execution_count": 13,
     "metadata": {},
     "output_type": "execute_result"
    }
   ],
   "source": [
    "data.X.shape"
   ]
  },
  {
   "cell_type": "code",
   "execution_count": 14,
   "id": "0707eabe",
   "metadata": {
    "scrolled": true,
    "tags": []
   },
   "outputs": [
    {
     "data": {
      "text/plain": [
       "(10000, 55)"
      ]
     },
     "execution_count": 14,
     "metadata": {},
     "output_type": "execute_result"
    }
   ],
   "source": [
    "data.y.shape"
   ]
  },
  {
   "cell_type": "markdown",
   "id": "b9c26928",
   "metadata": {},
   "source": [
    "\\\n",
    "**At this point you have a defined ML problem: given `data.X`, predict `data.y`.**"
   ]
  },
  {
   "cell_type": "markdown",
   "id": "201d5646",
   "metadata": {},
   "source": [
    "\\\n",
    "If you don't need the raw data anymore, you can remove it from memory."
   ]
  },
  {
   "cell_type": "code",
   "execution_count": 15,
   "id": "750618ed",
   "metadata": {
    "tags": []
   },
   "outputs": [
    {
     "data": {
      "text/plain": [
       "17183"
      ]
     },
     "execution_count": 15,
     "metadata": {},
     "output_type": "execute_result"
    }
   ],
   "source": [
    "del DATA\n",
    "del data.X_obs\n",
    "\n",
    "gc.collect()"
   ]
  },
  {
   "cell_type": "markdown",
   "id": "a5eb8145",
   "metadata": {},
   "source": [
    "----"
   ]
  },
  {
   "cell_type": "markdown",
   "id": "13200fa0",
   "metadata": {},
   "source": [
    "# Modelling"
   ]
  },
  {
   "cell_type": "markdown",
   "id": "7ec3c4ed",
   "metadata": {},
   "source": [
    "Let's start simple, with a linear model ([sklearn.linear_model.Ridge](https://scikit-learn.org/stable/modules/generated/sklearn.linear_model.Ridge.html))."
   ]
  },
  {
   "cell_type": "code",
   "execution_count": 16,
   "id": "fc9cc7d0",
   "metadata": {
    "tags": []
   },
   "outputs": [],
   "source": [
    "#model_class = Ridge\n",
    "\n",
    "#model_args  = dict(alpha=100)\n",
    "\n",
    "# Use Lasso Regression instead of Ridge\n",
    "model_class = Lasso\n",
    "model_args = dict(alpha=0.00005, tol = 0.01)  # Adjust alpha for better regularization"
   ]
  },
  {
   "cell_type": "markdown",
   "id": "27fd8272",
   "metadata": {},
   "source": [
    "## Cross-validation"
   ]
  },
  {
   "cell_type": "markdown",
   "id": "60f2fea1",
   "metadata": {},
   "source": [
    "Depending on how you prepare the data, you'll most likely end up with different samples belonging to the same planet. Those samples will have the same star/planet parameters, the same prediction targets, and observations subjected to different noise instances.\n",
    "\n",
    "When cross-validating your modelling setup, you must ensure you use something like [sklearn.model_selection.GroupKFold](https://scikit-learn.org/stable/modules/generated/sklearn.model_selection.GroupKFold.html), so the data split will happen at a planet-level, rather than sample-level. Otherwise, if the same planet ends up being present in both the train and validation folds, you'll obtain optimistic performance metrics."
   ]
  },
  {
   "cell_type": "markdown",
   "id": "076499ab",
   "metadata": {},
   "source": [
    "We provide a `cross_validate_setup()` function that works over `adc21.data_pipeline.data_container` objects, and implements k-fold cross validation with splits at planet level. It takes as argument an `init_model` function that creates instances of your chosen model class. Those objects are expected to implement a scikit-learn like interface with `.fit()` and `.predict()` methods. The cross validation function also handles data standardization into 0 mean and 1 standard deviation (defined over train-fold, applied over validation fold)."
   ]
  },
  {
   "cell_type": "code",
   "execution_count": 17,
   "id": "9b61a6ee",
   "metadata": {
    "tags": []
   },
   "outputs": [],
   "source": [
    "# convenience function that creates an instance of the chosen model_class, parameterized with the chosen model_args\n",
    "init_model = lambda : model_class(**model_args)"
   ]
  },
  {
   "cell_type": "code",
   "execution_count": 18,
   "id": "f9b2c325",
   "metadata": {
    "tags": []
   },
   "outputs": [
    {
     "name": "stdout",
     "output_type": "stream",
     "text": [
      "Help on function cross_validate_setup in module adc21.evaluate:\n",
      "\n",
      "cross_validate_setup(data, init_model, n_splits=10, split_seed=0, standardize=True, prefit_transform=None, y_encode=None, y_decode=None, fit_err_track=False, verbose=True, **fit_args)\n",
      "    Cross-validate a modelling setup.\n",
      "    \n",
      "    Returns results as a dictionary, where each key maps to a list of results\n",
      "    per train/validation fold:\n",
      "    \n",
      "    ```python\n",
      "    # Initialization of the CV results dictionary:\n",
      "    cv_res = dict(\n",
      "            test_ids   = [],  # ids of planets that were included in the test-fold used to evaluate this model.\n",
      "            data_cfg   = [],  # parameters configuring processing of data sent to each model (standardization parameters)\n",
      "            models     = [],  # the trained models\n",
      "            y_true     = [],  # the prediction targets of samples on the test-fold\n",
      "            y_pred     = [],  # the y_pred of each model on its test-fold\n",
      "            y_pred_agg = [],  # test-fold predictions aggregated at planet-level\n",
      "            evals      = [],  # score() over y_pred\n",
      "            evals_agg  = [],  # score() over y_pred_agg\n",
      "            )\n",
      "    ```\n",
      "\n"
     ]
    }
   ],
   "source": [
    "help(cross_validate_setup)"
   ]
  },
  {
   "cell_type": "code",
   "execution_count": 19,
   "id": "9bf05c59",
   "metadata": {
    "tags": []
   },
   "outputs": [
    {
     "data": {
      "text/html": [
       "\n",
       "<style>\n",
       "    /* Turns off some styling */\n",
       "    progress {\n",
       "        /* gets rid of default border in Firefox and Opera. */\n",
       "        border: none;\n",
       "        /* Needs to be in here for Safari polyfill so background images work as expected. */\n",
       "        background-size: auto;\n",
       "    }\n",
       "    progress:not([value]), progress:not([value])::-webkit-progress-bar {\n",
       "        background: repeating-linear-gradient(45deg, #7e7e7e, #7e7e7e 10px, #5c5c5c 10px, #5c5c5c 20px);\n",
       "    }\n",
       "    .progress-bar-interrupted, .progress-bar-interrupted::-webkit-progress-bar {\n",
       "        background: #F44336;\n",
       "    }\n",
       "</style>\n"
      ],
      "text/plain": [
       "<IPython.core.display.HTML object>"
      ]
     },
     "metadata": {},
     "output_type": "display_data"
    },
    {
     "data": {
      "text/html": [
       "\n",
       "    <div>\n",
       "      <progress value='10' class='' max='10' style='width:300px; height:20px; vertical-align: middle;'></progress>\n",
       "      100.00% [10/10 09:53&lt;00:00]\n",
       "    </div>\n",
       "    "
      ],
      "text/plain": [
       "<IPython.core.display.HTML object>"
      ]
     },
     "metadata": {},
     "output_type": "display_data"
    },
    {
     "name": "stdout",
     "output_type": "stream",
     "text": [
      "CPU times: user 29min 43s, sys: 1.47 s, total: 29min 44s\n",
      "Wall time: 9min 53s\n"
     ]
    }
   ],
   "source": [
    "%%time\n",
    "cv_res = cross_validate_setup(data, init_model, n_splits=10, standardize=True)"
   ]
  },
  {
   "cell_type": "markdown",
   "id": "a2ec504f",
   "metadata": {},
   "source": [
    "The scoring functions provided in the `adc21` module implement various regression metrics. Evaluation tables contain:\n",
    "\n",
    "* `R^2` - [r2_score](https://scikit-learn.org/stable/modules/generated/sklearn.metrics.r2_score.html)\n",
    "* `MSE` - [mean_squared_error](https://scikit-learn.org/stable/modules/generated/sklearn.metrics.mean_squared_error.html)\n",
    "* `RMSE` - Root Mean Squared Error, `np.sqrt(MSE)`\n",
    "* `RMSPE` - Root Mean Squared Percentage Error (RMSPE), `RMSPE = np.sqrt(((y_pred / y_true - 1) ** 2).mean())`\n",
    "* `MAE` - [mean_absolute_error](https://scikit-learn.org/stable/modules/generated/sklearn.metrics.mean_absolute_error.html)\n",
    "* `MedianAE` - [median_absolute_error](https://scikit-learn.org/stable/modules/generated/sklearn.metrics.median_absolute_error.html)\n",
    "* `Score, w: none` - Scaled MAE, with optimum at 10,000.\n",
    "  * Implemented as `1e4 - MAE * 1e6`\n",
    "* **`Score, w: 2*radii`** - Scaled and weighted MAE, with optimum at 10,000. This is the score you'll be evaluated on. Read  more about it at the [Hackathon Details](https://www.ariel-datachallenge.space/esa-datalabs25/details) page.\n",
    "  * Implemented as `1e4 - 2 * (y_true * np.abs(y_pred - y_true)).mean() * 1e6`"
   ]
  },
  {
   "cell_type": "code",
   "execution_count": 20,
   "id": "1294698f",
   "metadata": {
    "tags": []
   },
   "outputs": [
    {
     "data": {
      "text/html": [
       "<div>\n",
       "<style scoped>\n",
       "    .dataframe tbody tr th:only-of-type {\n",
       "        vertical-align: middle;\n",
       "    }\n",
       "\n",
       "    .dataframe tbody tr th {\n",
       "        vertical-align: top;\n",
       "    }\n",
       "\n",
       "    .dataframe thead th {\n",
       "        text-align: right;\n",
       "    }\n",
       "</style>\n",
       "<table border=\"1\" class=\"dataframe\">\n",
       "  <thead>\n",
       "    <tr style=\"text-align: right;\">\n",
       "      <th></th>\n",
       "      <th>0</th>\n",
       "      <th>1</th>\n",
       "      <th>2</th>\n",
       "      <th>3</th>\n",
       "      <th>4</th>\n",
       "      <th>5</th>\n",
       "      <th>6</th>\n",
       "      <th>7</th>\n",
       "      <th>8</th>\n",
       "      <th>9</th>\n",
       "    </tr>\n",
       "  </thead>\n",
       "  <tbody>\n",
       "    <tr>\n",
       "      <th>R^2</th>\n",
       "      <td>0.960997</td>\n",
       "      <td>0.985789</td>\n",
       "      <td>0.981560</td>\n",
       "      <td>0.988497</td>\n",
       "      <td>0.992788</td>\n",
       "      <td>0.972693</td>\n",
       "      <td>0.975185</td>\n",
       "      <td>0.982710</td>\n",
       "      <td>0.976809</td>\n",
       "      <td>0.970505</td>\n",
       "    </tr>\n",
       "    <tr>\n",
       "      <th>MSE</th>\n",
       "      <td>0.000098</td>\n",
       "      <td>0.000030</td>\n",
       "      <td>0.000015</td>\n",
       "      <td>0.000016</td>\n",
       "      <td>0.000007</td>\n",
       "      <td>0.000047</td>\n",
       "      <td>0.000029</td>\n",
       "      <td>0.000023</td>\n",
       "      <td>0.000053</td>\n",
       "      <td>0.000039</td>\n",
       "    </tr>\n",
       "    <tr>\n",
       "      <th>RMSE</th>\n",
       "      <td>0.009917</td>\n",
       "      <td>0.005519</td>\n",
       "      <td>0.003815</td>\n",
       "      <td>0.003988</td>\n",
       "      <td>0.002666</td>\n",
       "      <td>0.006851</td>\n",
       "      <td>0.005391</td>\n",
       "      <td>0.004817</td>\n",
       "      <td>0.007247</td>\n",
       "      <td>0.006250</td>\n",
       "    </tr>\n",
       "    <tr>\n",
       "      <th>RMSPE</th>\n",
       "      <td>0.131626</td>\n",
       "      <td>0.092611</td>\n",
       "      <td>0.107876</td>\n",
       "      <td>0.088249</td>\n",
       "      <td>0.085335</td>\n",
       "      <td>0.114467</td>\n",
       "      <td>0.095324</td>\n",
       "      <td>0.097041</td>\n",
       "      <td>0.083459</td>\n",
       "      <td>0.117023</td>\n",
       "    </tr>\n",
       "    <tr>\n",
       "      <th>MAE</th>\n",
       "      <td>0.003591</td>\n",
       "      <td>0.002578</td>\n",
       "      <td>0.002106</td>\n",
       "      <td>0.002192</td>\n",
       "      <td>0.001789</td>\n",
       "      <td>0.002798</td>\n",
       "      <td>0.002457</td>\n",
       "      <td>0.002416</td>\n",
       "      <td>0.002938</td>\n",
       "      <td>0.002837</td>\n",
       "    </tr>\n",
       "    <tr>\n",
       "      <th>MedianAE</th>\n",
       "      <td>0.001206</td>\n",
       "      <td>0.001124</td>\n",
       "      <td>0.001231</td>\n",
       "      <td>0.001179</td>\n",
       "      <td>0.001174</td>\n",
       "      <td>0.001152</td>\n",
       "      <td>0.001257</td>\n",
       "      <td>0.001344</td>\n",
       "      <td>0.001142</td>\n",
       "      <td>0.001256</td>\n",
       "    </tr>\n",
       "    <tr>\n",
       "      <th>Score, w: none</th>\n",
       "      <td>6409.233194</td>\n",
       "      <td>7422.340559</td>\n",
       "      <td>7894.183034</td>\n",
       "      <td>7808.408458</td>\n",
       "      <td>8210.984166</td>\n",
       "      <td>7202.314436</td>\n",
       "      <td>7543.400154</td>\n",
       "      <td>7584.006051</td>\n",
       "      <td>7061.810922</td>\n",
       "      <td>7163.173510</td>\n",
       "    </tr>\n",
       "    <tr>\n",
       "      <th>Score, w: 2*radii</th>\n",
       "      <td>9276.707065</td>\n",
       "      <td>9548.826570</td>\n",
       "      <td>9787.751425</td>\n",
       "      <td>9683.011236</td>\n",
       "      <td>9832.834263</td>\n",
       "      <td>9563.062913</td>\n",
       "      <td>9663.593742</td>\n",
       "      <td>9648.932921</td>\n",
       "      <td>9306.242622</td>\n",
       "      <td>9569.035223</td>\n",
       "    </tr>\n",
       "  </tbody>\n",
       "</table>\n",
       "</div>"
      ],
      "text/plain": [
       "                             0            1            2            3  \\\n",
       "R^2                   0.960997     0.985789     0.981560     0.988497   \n",
       "MSE                   0.000098     0.000030     0.000015     0.000016   \n",
       "RMSE                  0.009917     0.005519     0.003815     0.003988   \n",
       "RMSPE                 0.131626     0.092611     0.107876     0.088249   \n",
       "MAE                   0.003591     0.002578     0.002106     0.002192   \n",
       "MedianAE              0.001206     0.001124     0.001231     0.001179   \n",
       "Score, w: none     6409.233194  7422.340559  7894.183034  7808.408458   \n",
       "Score, w: 2*radii  9276.707065  9548.826570  9787.751425  9683.011236   \n",
       "\n",
       "                             4            5            6            7  \\\n",
       "R^2                   0.992788     0.972693     0.975185     0.982710   \n",
       "MSE                   0.000007     0.000047     0.000029     0.000023   \n",
       "RMSE                  0.002666     0.006851     0.005391     0.004817   \n",
       "RMSPE                 0.085335     0.114467     0.095324     0.097041   \n",
       "MAE                   0.001789     0.002798     0.002457     0.002416   \n",
       "MedianAE              0.001174     0.001152     0.001257     0.001344   \n",
       "Score, w: none     8210.984166  7202.314436  7543.400154  7584.006051   \n",
       "Score, w: 2*radii  9832.834263  9563.062913  9663.593742  9648.932921   \n",
       "\n",
       "                             8            9  \n",
       "R^2                   0.976809     0.970505  \n",
       "MSE                   0.000053     0.000039  \n",
       "RMSE                  0.007247     0.006250  \n",
       "RMSPE                 0.083459     0.117023  \n",
       "MAE                   0.002938     0.002837  \n",
       "MedianAE              0.001142     0.001256  \n",
       "Score, w: none     7061.810922  7163.173510  \n",
       "Score, w: 2*radii  9306.242622  9569.035223  "
      ]
     },
     "execution_count": 20,
     "metadata": {},
     "output_type": "execute_result"
    }
   ],
   "source": [
    "# Evaluations per validation fold\n",
    "fold_evals = pd.concat(cv_res['evals'], axis=1)\n",
    "fold_evals"
   ]
  },
  {
   "cell_type": "code",
   "execution_count": 21,
   "id": "34c66faa",
   "metadata": {
    "tags": []
   },
   "outputs": [
    {
     "name": "stdout",
     "output_type": "stream",
     "text": [
      "                          mean         std\n",
      "R^2                   0.978753    0.009437\n",
      "MSE                   0.000036    0.000026\n",
      "RMSE                  0.005646    0.002065\n",
      "RMSPE                 0.101301    0.015834\n",
      "MAE                   0.002570    0.000506\n",
      "MedianAE              0.001207    0.000067\n",
      "Score, w: none     7429.985448  506.161634\n",
      "Score, w: 2*radii  9587.999798  181.691254\n"
     ]
    }
   ],
   "source": [
    "# Evaluations per validation fold (average)\n",
    "print(fold_evals.agg(['mean', 'std'], axis=1))"
   ]
  },
  {
   "cell_type": "code",
   "execution_count": 22,
   "id": "aac48d64",
   "metadata": {
    "tags": []
   },
   "outputs": [
    {
     "name": "stdout",
     "output_type": "stream",
     "text": [
      "                          mean         std\n",
      "R^2                   0.980386    0.009910\n",
      "MSE                   0.000034    0.000026\n",
      "RMSE                  0.005406    0.002184\n",
      "RMSPE                 0.082164    0.020485\n",
      "MAE                   0.002234    0.000530\n",
      "MedianAE              0.000966    0.000071\n",
      "Score, w: none     7766.165040  529.706637\n",
      "Score, w: 2*radii  9612.185628  182.447477\n"
     ]
    }
   ],
   "source": [
    "# Evaluation of predictions aggregated across planet's stellar/photon noise instances\n",
    "print(pd.concat(cv_res['evals_agg'], axis=1).agg(['mean', 'std'], axis=1))"
   ]
  },
  {
   "cell_type": "code",
   "execution_count": 23,
   "id": "d6dd1c39",
   "metadata": {
    "tags": []
   },
   "outputs": [],
   "source": [
    "# target & prediction for all samples, from the one time they were in the validation fold\n",
    "y_true = np.vstack(cv_res['y_true'])\n",
    "y_pred = np.vstack(cv_res['y_pred'])"
   ]
  },
  {
   "cell_type": "code",
   "execution_count": 24,
   "id": "c347c723",
   "metadata": {
    "tags": []
   },
   "outputs": [
    {
     "data": {
      "image/png": "[encoded data removed]",
      "text/plain": [
       "<Figure size 800x800 with 1 Axes>"
      ]
     },
     "metadata": {},
     "output_type": "display_data"
    }
   ],
   "source": [
    "plt.figure(figsize=(8,8))\n",
    "plt.scatter(y_true, y_pred, s=0.05)\n",
    "plt.xlabel('y_true')\n",
    "plt.ylabel('y_pred');\n",
    "plt.gca().set_aspect('equal', 'box')\n",
    "plt.xlim(1e-2, 1e-0)\n",
    "plt.ylim(1e-2, 1e-0)\n",
    "plt.yscale('log')\n",
    "plt.xscale('log')\n",
    "plt.title('Targets vs. predictions');"
   ]
  },
  {
   "cell_type": "markdown",
   "id": "41117dca",
   "metadata": {},
   "source": [
    "----"
   ]
  },
  {
   "cell_type": "markdown",
   "id": "a31b71ed",
   "metadata": {},
   "source": [
    "## Train model over full train set"
   ]
  },
  {
   "cell_type": "code",
   "execution_count": 25,
   "id": "c216c807",
   "metadata": {
    "tags": []
   },
   "outputs": [
    {
     "data": {
      "text/plain": [
       "(3.3504404e-07, 0.9999999)"
      ]
     },
     "execution_count": 25,
     "metadata": {},
     "output_type": "execute_result"
    }
   ],
   "source": [
    "# standardize data to 0 mean and 1 standard deviation\n",
    "(X_st, x, X_st_params) = standardizer(data.X)\n",
    "\n",
    "X_st.mean(), X_st.std()"
   ]
  },
  {
   "cell_type": "code",
   "execution_count": 26,
   "id": "5942e158",
   "metadata": {
    "tags": []
   },
   "outputs": [],
   "source": [
    "y_true = data.y"
   ]
  },
  {
   "cell_type": "code",
   "execution_count": 27,
   "id": "b5390f4a",
   "metadata": {
    "tags": []
   },
   "outputs": [],
   "source": [
    "model = init_model()"
   ]
  },
  {
   "cell_type": "code",
   "execution_count": 28,
   "id": "f7790c17",
   "metadata": {
    "tags": []
   },
   "outputs": [
    {
     "data": {
      "text/html": [
       "<style>#sk-container-id-1 {\n",
       "  /* Definition of color scheme common for light and dark mode */\n",
       "  --sklearn-color-text: black;\n",
       "  --sklearn-color-line: gray;\n",
       "  /* Definition of color scheme for unfitted estimators */\n",
       "  --sklearn-color-unfitted-level-0: #fff5e6;\n",
       "  --sklearn-color-unfitted-level-1: #f6e4d2;\n",
       "  --sklearn-color-unfitted-level-2: #ffe0b3;\n",
       "  --sklearn-color-unfitted-level-3: chocolate;\n",
       "  /* Definition of color scheme for fitted estimators */\n",
       "  --sklearn-color-fitted-level-0: #f0f8ff;\n",
       "  --sklearn-color-fitted-level-1: #d4ebff;\n",
       "  --sklearn-color-fitted-level-2: #b3dbfd;\n",
       "  --sklearn-color-fitted-level-3: cornflowerblue;\n",
       "\n",
       "  /* Specific color for light theme */\n",
       "  --sklearn-color-text-on-default-background: var(--sg-text-color, var(--theme-code-foreground, var(--jp-content-font-color1, black)));\n",
       "  --sklearn-color-background: var(--sg-background-color, var(--theme-background, var(--jp-layout-color0, white)));\n",
       "  --sklearn-color-border-box: var(--sg-text-color, var(--theme-code-foreground, var(--jp-content-font-color1, black)));\n",
       "  --sklearn-color-icon: #696969;\n",
       "\n",
       "  @media (prefers-color-scheme: dark) {\n",
       "    /* Redefinition of color scheme for dark theme */\n",
       "    --sklearn-color-text-on-default-background: var(--sg-text-color, var(--theme-code-foreground, var(--jp-content-font-color1, white)));\n",
       "    --sklearn-color-background: var(--sg-background-color, var(--theme-background, var(--jp-layout-color0, #111)));\n",
       "    --sklearn-color-border-box: var(--sg-text-color, var(--theme-code-foreground, var(--jp-content-font-color1, white)));\n",
       "    --sklearn-color-icon: #878787;\n",
       "  }\n",
       "}\n",
       "\n",
       "#sk-container-id-1 {\n",
       "  color: var(--sklearn-color-text);\n",
       "}\n",
       "\n",
       "#sk-container-id-1 pre {\n",
       "  padding: 0;\n",
       "}\n",
       "\n",
       "#sk-container-id-1 input.sk-hidden--visually {\n",
       "  border: 0;\n",
       "  clip: rect(1px 1px 1px 1px);\n",
       "  clip: rect(1px, 1px, 1px, 1px);\n",
       "  height: 1px;\n",
       "  margin: -1px;\n",
       "  overflow: hidden;\n",
       "  padding: 0;\n",
       "  position: absolute;\n",
       "  width: 1px;\n",
       "}\n",
       "\n",
       "#sk-container-id-1 div.sk-dashed-wrapped {\n",
       "  border: 1px dashed var(--sklearn-color-line);\n",
       "  margin: 0 0.4em 0.5em 0.4em;\n",
       "  box-sizing: border-box;\n",
       "  padding-bottom: 0.4em;\n",
       "  background-color: var(--sklearn-color-background);\n",
       "}\n",
       "\n",
       "#sk-container-id-1 div.sk-container {\n",
       "  /* jupyter's `normalize.less` sets `[hidden] { display: none; }`\n",
       "     but bootstrap.min.css set `[hidden] { display: none !important; }`\n",
       "     so we also need the `!important` here to be able to override the\n",
       "     default hidden behavior on the sphinx rendered scikit-learn.org.\n",
       "     See: https://github.com/scikit-learn/scikit-learn/issues/21755 */\n",
       "  display: inline-block !important;\n",
       "  position: relative;\n",
       "}\n",
       "\n",
       "#sk-container-id-1 div.sk-text-repr-fallback {\n",
       "  display: none;\n",
       "}\n",
       "\n",
       "div.sk-parallel-item,\n",
       "div.sk-serial,\n",
       "div.sk-item {\n",
       "  /* draw centered vertical line to link estimators */\n",
       "  background-image: linear-gradient(var(--sklearn-color-text-on-default-background), var(--sklearn-color-text-on-default-background));\n",
       "  background-size: 2px 100%;\n",
       "  background-repeat: no-repeat;\n",
       "  background-position: center center;\n",
       "}\n",
       "\n",
       "/* Parallel-specific style estimator block */\n",
       "\n",
       "#sk-container-id-1 div.sk-parallel-item::after {\n",
       "  content: \"\";\n",
       "  width: 100%;\n",
       "  border-bottom: 2px solid var(--sklearn-color-text-on-default-background);\n",
       "  flex-grow: 1;\n",
       "}\n",
       "\n",
       "#sk-container-id-1 div.sk-parallel {\n",
       "  display: flex;\n",
       "  align-items: stretch;\n",
       "  justify-content: center;\n",
       "  background-color: var(--sklearn-color-background);\n",
       "  position: relative;\n",
       "}\n",
       "\n",
       "#sk-container-id-1 div.sk-parallel-item {\n",
       "  display: flex;\n",
       "  flex-direction: column;\n",
       "}\n",
       "\n",
       "#sk-container-id-1 div.sk-parallel-item:first-child::after {\n",
       "  align-self: flex-end;\n",
       "  width: 50%;\n",
       "}\n",
       "\n",
       "#sk-container-id-1 div.sk-parallel-item:last-child::after {\n",
       "  align-self: flex-start;\n",
       "  width: 50%;\n",
       "}\n",
       "\n",
       "#sk-container-id-1 div.sk-parallel-item:only-child::after {\n",
       "  width: 0;\n",
       "}\n",
       "\n",
       "/* Serial-specific style estimator block */\n",
       "\n",
       "#sk-container-id-1 div.sk-serial {\n",
       "  display: flex;\n",
       "  flex-direction: column;\n",
       "  align-items: center;\n",
       "  background-color: var(--sklearn-color-background);\n",
       "  padding-right: 1em;\n",
       "  padding-left: 1em;\n",
       "}\n",
       "\n",
       "\n",
       "/* Toggleable style: style used for estimator/Pipeline/ColumnTransformer box that is\n",
       "clickable and can be expanded/collapsed.\n",
       "- Pipeline and ColumnTransformer use this feature and define the default style\n",
       "- Estimators will overwrite some part of the style using the `sk-estimator` class\n",
       "*/\n",
       "\n",
       "/* Pipeline and ColumnTransformer style (default) */\n",
       "\n",
       "#sk-container-id-1 div.sk-toggleable {\n",
       "  /* Default theme specific background. It is overwritten whether we have a\n",
       "  specific estimator or a Pipeline/ColumnTransformer */\n",
       "  background-color: var(--sklearn-color-background);\n",
       "}\n",
       "\n",
       "/* Toggleable label */\n",
       "#sk-container-id-1 label.sk-toggleable__label {\n",
       "  cursor: pointer;\n",
       "  display: block;\n",
       "  width: 100%;\n",
       "  margin-bottom: 0;\n",
       "  padding: 0.5em;\n",
       "  box-sizing: border-box;\n",
       "  text-align: center;\n",
       "}\n",
       "\n",
       "#sk-container-id-1 label.sk-toggleable__label-arrow:before {\n",
       "  /* Arrow on the left of the label */\n",
       "  content: \"▸\";\n",
       "  float: left;\n",
       "  margin-right: 0.25em;\n",
       "  color: var(--sklearn-color-icon);\n",
       "}\n",
       "\n",
       "#sk-container-id-1 label.sk-toggleable__label-arrow:hover:before {\n",
       "  color: var(--sklearn-color-text);\n",
       "}\n",
       "\n",
       "/* Toggleable content - dropdown */\n",
       "\n",
       "#sk-container-id-1 div.sk-toggleable__content {\n",
       "  max-height: 0;\n",
       "  max-width: 0;\n",
       "  overflow: hidden;\n",
       "  text-align: left;\n",
       "  /* unfitted */\n",
       "  background-color: var(--sklearn-color-unfitted-level-0);\n",
       "}\n",
       "\n",
       "#sk-container-id-1 div.sk-toggleable__content.fitted {\n",
       "  /* fitted */\n",
       "  background-color: var(--sklearn-color-fitted-level-0);\n",
       "}\n",
       "\n",
       "#sk-container-id-1 div.sk-toggleable__content pre {\n",
       "  margin: 0.2em;\n",
       "  border-radius: 0.25em;\n",
       "  color: var(--sklearn-color-text);\n",
       "  /* unfitted */\n",
       "  background-color: var(--sklearn-color-unfitted-level-0);\n",
       "}\n",
       "\n",
       "#sk-container-id-1 div.sk-toggleable__content.fitted pre {\n",
       "  /* unfitted */\n",
       "  background-color: var(--sklearn-color-fitted-level-0);\n",
       "}\n",
       "\n",
       "#sk-container-id-1 input.sk-toggleable__control:checked~div.sk-toggleable__content {\n",
       "  /* Expand drop-down */\n",
       "  max-height: 200px;\n",
       "  max-width: 100%;\n",
       "  overflow: auto;\n",
       "}\n",
       "\n",
       "#sk-container-id-1 input.sk-toggleable__control:checked~label.sk-toggleable__label-arrow:before {\n",
       "  content: \"▾\";\n",
       "}\n",
       "\n",
       "/* Pipeline/ColumnTransformer-specific style */\n",
       "\n",
       "#sk-container-id-1 div.sk-label input.sk-toggleable__control:checked~label.sk-toggleable__label {\n",
       "  color: var(--sklearn-color-text);\n",
       "  background-color: var(--sklearn-color-unfitted-level-2);\n",
       "}\n",
       "\n",
       "#sk-container-id-1 div.sk-label.fitted input.sk-toggleable__control:checked~label.sk-toggleable__label {\n",
       "  background-color: var(--sklearn-color-fitted-level-2);\n",
       "}\n",
       "\n",
       "/* Estimator-specific style */\n",
       "\n",
       "/* Colorize estimator box */\n",
       "#sk-container-id-1 div.sk-estimator input.sk-toggleable__control:checked~label.sk-toggleable__label {\n",
       "  /* unfitted */\n",
       "  background-color: var(--sklearn-color-unfitted-level-2);\n",
       "}\n",
       "\n",
       "#sk-container-id-1 div.sk-estimator.fitted input.sk-toggleable__control:checked~label.sk-toggleable__label {\n",
       "  /* fitted */\n",
       "  background-color: var(--sklearn-color-fitted-level-2);\n",
       "}\n",
       "\n",
       "#sk-container-id-1 div.sk-label label.sk-toggleable__label,\n",
       "#sk-container-id-1 div.sk-label label {\n",
       "  /* The background is the default theme color */\n",
       "  color: var(--sklearn-color-text-on-default-background);\n",
       "}\n",
       "\n",
       "/* On hover, darken the color of the background */\n",
       "#sk-container-id-1 div.sk-label:hover label.sk-toggleable__label {\n",
       "  color: var(--sklearn-color-text);\n",
       "  background-color: var(--sklearn-color-unfitted-level-2);\n",
       "}\n",
       "\n",
       "/* Label box, darken color on hover, fitted */\n",
       "#sk-container-id-1 div.sk-label.fitted:hover label.sk-toggleable__label.fitted {\n",
       "  color: var(--sklearn-color-text);\n",
       "  background-color: var(--sklearn-color-fitted-level-2);\n",
       "}\n",
       "\n",
       "/* Estimator label */\n",
       "\n",
       "#sk-container-id-1 div.sk-label label {\n",
       "  font-family: monospace;\n",
       "  font-weight: bold;\n",
       "  display: inline-block;\n",
       "  line-height: 1.2em;\n",
       "}\n",
       "\n",
       "#sk-container-id-1 div.sk-label-container {\n",
       "  text-align: center;\n",
       "}\n",
       "\n",
       "/* Estimator-specific */\n",
       "#sk-container-id-1 div.sk-estimator {\n",
       "  font-family: monospace;\n",
       "  border: 1px dotted var(--sklearn-color-border-box);\n",
       "  border-radius: 0.25em;\n",
       "  box-sizing: border-box;\n",
       "  margin-bottom: 0.5em;\n",
       "  /* unfitted */\n",
       "  background-color: var(--sklearn-color-unfitted-level-0);\n",
       "}\n",
       "\n",
       "#sk-container-id-1 div.sk-estimator.fitted {\n",
       "  /* fitted */\n",
       "  background-color: var(--sklearn-color-fitted-level-0);\n",
       "}\n",
       "\n",
       "/* on hover */\n",
       "#sk-container-id-1 div.sk-estimator:hover {\n",
       "  /* unfitted */\n",
       "  background-color: var(--sklearn-color-unfitted-level-2);\n",
       "}\n",
       "\n",
       "#sk-container-id-1 div.sk-estimator.fitted:hover {\n",
       "  /* fitted */\n",
       "  background-color: var(--sklearn-color-fitted-level-2);\n",
       "}\n",
       "\n",
       "/* Specification for estimator info (e.g. \"i\" and \"?\") */\n",
       "\n",
       "/* Common style for \"i\" and \"?\" */\n",
       "\n",
       ".sk-estimator-doc-link,\n",
       "a:link.sk-estimator-doc-link,\n",
       "a:visited.sk-estimator-doc-link {\n",
       "  float: right;\n",
       "  font-size: smaller;\n",
       "  line-height: 1em;\n",
       "  font-family: monospace;\n",
       "  background-color: var(--sklearn-color-background);\n",
       "  border-radius: 1em;\n",
       "  height: 1em;\n",
       "  width: 1em;\n",
       "  text-decoration: none !important;\n",
       "  margin-left: 1ex;\n",
       "  /* unfitted */\n",
       "  border: var(--sklearn-color-unfitted-level-1) 1pt solid;\n",
       "  color: var(--sklearn-color-unfitted-level-1);\n",
       "}\n",
       "\n",
       ".sk-estimator-doc-link.fitted,\n",
       "a:link.sk-estimator-doc-link.fitted,\n",
       "a:visited.sk-estimator-doc-link.fitted {\n",
       "  /* fitted */\n",
       "  border: var(--sklearn-color-fitted-level-1) 1pt solid;\n",
       "  color: var(--sklearn-color-fitted-level-1);\n",
       "}\n",
       "\n",
       "/* On hover */\n",
       "div.sk-estimator:hover .sk-estimator-doc-link:hover,\n",
       ".sk-estimator-doc-link:hover,\n",
       "div.sk-label-container:hover .sk-estimator-doc-link:hover,\n",
       ".sk-estimator-doc-link:hover {\n",
       "  /* unfitted */\n",
       "  background-color: var(--sklearn-color-unfitted-level-3);\n",
       "  color: var(--sklearn-color-background);\n",
       "  text-decoration: none;\n",
       "}\n",
       "\n",
       "div.sk-estimator.fitted:hover .sk-estimator-doc-link.fitted:hover,\n",
       ".sk-estimator-doc-link.fitted:hover,\n",
       "div.sk-label-container:hover .sk-estimator-doc-link.fitted:hover,\n",
       ".sk-estimator-doc-link.fitted:hover {\n",
       "  /* fitted */\n",
       "  background-color: var(--sklearn-color-fitted-level-3);\n",
       "  color: var(--sklearn-color-background);\n",
       "  text-decoration: none;\n",
       "}\n",
       "\n",
       "/* Span, style for the box shown on hovering the info icon */\n",
       ".sk-estimator-doc-link span {\n",
       "  display: none;\n",
       "  z-index: 9999;\n",
       "  position: relative;\n",
       "  font-weight: normal;\n",
       "  right: .2ex;\n",
       "  padding: .5ex;\n",
       "  margin: .5ex;\n",
       "  width: min-content;\n",
       "  min-width: 20ex;\n",
       "  max-width: 50ex;\n",
       "  color: var(--sklearn-color-text);\n",
       "  box-shadow: 2pt 2pt 4pt #999;\n",
       "  /* unfitted */\n",
       "  background: var(--sklearn-color-unfitted-level-0);\n",
       "  border: .5pt solid var(--sklearn-color-unfitted-level-3);\n",
       "}\n",
       "\n",
       ".sk-estimator-doc-link.fitted span {\n",
       "  /* fitted */\n",
       "  background: var(--sklearn-color-fitted-level-0);\n",
       "  border: var(--sklearn-color-fitted-level-3);\n",
       "}\n",
       "\n",
       ".sk-estimator-doc-link:hover span {\n",
       "  display: block;\n",
       "}\n",
       "\n",
       "/* \"?\"-specific style due to the `<a>` HTML tag */\n",
       "\n",
       "#sk-container-id-1 a.estimator_doc_link {\n",
       "  float: right;\n",
       "  font-size: 1rem;\n",
       "  line-height: 1em;\n",
       "  font-family: monospace;\n",
       "  background-color: var(--sklearn-color-background);\n",
       "  border-radius: 1rem;\n",
       "  height: 1rem;\n",
       "  width: 1rem;\n",
       "  text-decoration: none;\n",
       "  /* unfitted */\n",
       "  color: var(--sklearn-color-unfitted-level-1);\n",
       "  border: var(--sklearn-color-unfitted-level-1) 1pt solid;\n",
       "}\n",
       "\n",
       "#sk-container-id-1 a.estimator_doc_link.fitted {\n",
       "  /* fitted */\n",
       "  border: var(--sklearn-color-fitted-level-1) 1pt solid;\n",
       "  color: var(--sklearn-color-fitted-level-1);\n",
       "}\n",
       "\n",
       "/* On hover */\n",
       "#sk-container-id-1 a.estimator_doc_link:hover {\n",
       "  /* unfitted */\n",
       "  background-color: var(--sklearn-color-unfitted-level-3);\n",
       "  color: var(--sklearn-color-background);\n",
       "  text-decoration: none;\n",
       "}\n",
       "\n",
       "#sk-container-id-1 a.estimator_doc_link.fitted:hover {\n",
       "  /* fitted */\n",
       "  background-color: var(--sklearn-color-fitted-level-3);\n",
       "}\n",
       "</style><div id=\"sk-container-id-1\" class=\"sk-top-container\"><div class=\"sk-text-repr-fallback\"><pre>Lasso(alpha=0.0001, tol=0.005)</pre><b>In a Jupyter environment, please rerun this cell to show the HTML representation or trust the notebook. <br />On GitHub, the HTML representation is unable to render, please try loading this page with nbviewer.org.</b></div><div class=\"sk-container\" hidden><div class=\"sk-item\"><div class=\"sk-estimator fitted sk-toggleable\"><input class=\"sk-toggleable__control sk-hidden--visually\" id=\"sk-estimator-id-1\" type=\"checkbox\" checked><label for=\"sk-estimator-id-1\" class=\"sk-toggleable__label fitted sk-toggleable__label-arrow fitted\">&nbsp;&nbsp;Lasso<a class=\"sk-estimator-doc-link fitted\" rel=\"noreferrer\" target=\"_blank\" href=\"https://scikit-learn.org/1.5/modules/generated/sklearn.linear_model.Lasso.html\">?<span>Documentation for Lasso</span></a><span class=\"sk-estimator-doc-link fitted\">i<span>Fitted</span></span></label><div class=\"sk-toggleable__content fitted\"><pre>Lasso(alpha=0.0001, tol=0.005)</pre></div> </div></div></div></div>"
      ],
      "text/plain": [
       "Lasso(alpha=0.0001, tol=0.005)"
      ]
     },
     "execution_count": 28,
     "metadata": {},
     "output_type": "execute_result"
    }
   ],
   "source": [
    "model.fit(X_st, y_true)"
   ]
  },
  {
   "cell_type": "code",
   "execution_count": 29,
   "id": "d8a4748a",
   "metadata": {
    "tags": []
   },
   "outputs": [],
   "source": [
    "y_pred = model.predict(X_st)"
   ]
  },
  {
   "cell_type": "code",
   "execution_count": 30,
   "id": "aab35cb5",
   "metadata": {
    "tags": []
   },
   "outputs": [
    {
     "name": "stdout",
     "output_type": "stream",
     "text": [
      "[ Scoring with y_true.shape: (10000, 55) ]\n"
     ]
    },
    {
     "data": {
      "text/plain": [
       "R^2                     0.980201\n",
       "MSE                     0.000032\n",
       "RMSE                    0.005614\n",
       "RMSPE                   0.099050\n",
       "MAE                     0.002462\n",
       "MedianAE                0.001181\n",
       "Score, w: none       7537.893709\n",
       "Score, w: 2*radii    9629.298865\n",
       "dtype: float64"
      ]
     },
     "execution_count": 30,
     "metadata": {},
     "output_type": "execute_result"
    }
   ],
   "source": [
    "# train set performance, at sample level\n",
    "score(y_true, y_pred)"
   ]
  },
  {
   "cell_type": "code",
   "execution_count": 31,
   "id": "30f2dcd6",
   "metadata": {
    "tags": []
   },
   "outputs": [
    {
     "name": "stdout",
     "output_type": "stream",
     "text": [
      "[ Scoring with y_true.shape: (1000, 55) ]\n"
     ]
    },
    {
     "data": {
      "text/plain": [
       "R^2                     0.981530\n",
       "MSE                     0.000029\n",
       "RMSE                    0.005422\n",
       "RMSPE                   0.081259\n",
       "MAE                     0.002129\n",
       "MedianAE                0.000948\n",
       "Score, w: none       7870.558174\n",
       "Score, w: 2*radii    9653.490726\n",
       "dtype: float64"
      ]
     },
     "execution_count": 31,
     "metadata": {},
     "output_type": "execute_result"
    }
   ],
   "source": [
    "# train set performance, when predictions are aggregated at planet level, across stellar_spot/photon noise instances\n",
    "score(*y_aggregate(data, y_true, y_pred))"
   ]
  },
  {
   "cell_type": "markdown",
   "id": "81ffecad",
   "metadata": {},
   "source": [
    "-----\n",
    "\n",
    "-----"
   ]
  },
  {
   "cell_type": "markdown",
   "id": "259f5876",
   "metadata": {},
   "source": [
    "# Predict over test set"
   ]
  },
  {
   "cell_type": "code",
   "execution_count": 32,
   "id": "c24f063f",
   "metadata": {
    "scrolled": true,
    "tags": []
   },
   "outputs": [
    {
     "name": "stdout",
     "output_type": "stream",
     "text": [
      "CPU times: user 1.15 s, sys: 1.3 s, total: 2.45 s\n",
      "Wall time: 45.2 s\n"
     ]
    }
   ],
   "source": [
    "%%time\n",
    "TEST_DATA = load_dataset(DATA_PATH + 'ADC21esac_test.pkl')"
   ]
  },
  {
   "cell_type": "code",
   "execution_count": 33,
   "id": "a17904e4",
   "metadata": {
    "tags": []
   },
   "outputs": [
    {
     "data": {
      "text/plain": [
       "{'WINDOW_RADIUS': 14,\n",
       " 'AGGR_NUM_OBS': 10,\n",
       " 'MIRROR_STACKING': True,\n",
       " 'MEAN_TYPE_P': -2,\n",
       " 'GRID_PTS_NUM': 10,\n",
       " 'GRID_PTS_SPACING': 5}"
      ]
     },
     "execution_count": 33,
     "metadata": {},
     "output_type": "execute_result"
    }
   ],
   "source": [
    "data_setup"
   ]
  },
  {
   "cell_type": "markdown",
   "id": "e6873923",
   "metadata": {},
   "source": [
    "\\\n",
    "Encode the test set using the same data pre-processing pipeline thas was used over the train set."
   ]
  },
  {
   "cell_type": "code",
   "execution_count": 34,
   "id": "c0e025a2",
   "metadata": {
    "tags": []
   },
   "outputs": [
    {
     "name": "stdout",
     "output_type": "stream",
     "text": [
      "functools.partial(<function X__set_to__obs_encodings at 0x7f7c2a2accc0>, agg_stellar=False, agg_photon=10, agg=-2, window_radius=14, grid=(100, 105, 110, 115, 120, 125, 130, 135, 140, 145, 150), mirror_stacking=True)\n"
     ]
    },
    {
     "data": {
      "text/html": [
       "\n",
       "<style>\n",
       "    /* Turns off some styling */\n",
       "    progress {\n",
       "        /* gets rid of default border in Firefox and Opera. */\n",
       "        border: none;\n",
       "        /* Needs to be in here for Safari polyfill so background images work as expected. */\n",
       "        background-size: auto;\n",
       "    }\n",
       "    progress:not([value]), progress:not([value])::-webkit-progress-bar {\n",
       "        background: repeating-linear-gradient(45deg, #7e7e7e, #7e7e7e 10px, #5c5c5c 10px, #5c5c5c 20px);\n",
       "    }\n",
       "    .progress-bar-interrupted, .progress-bar-interrupted::-webkit-progress-bar {\n",
       "        background: #F44336;\n",
       "    }\n",
       "</style>\n"
      ],
      "text/plain": [
       "<IPython.core.display.HTML object>"
      ]
     },
     "metadata": {},
     "output_type": "display_data"
    },
    {
     "data": {
      "text/html": [
       "\n",
       "    <div>\n",
       "      <progress value='512' class='' max='512' style='width:300px; height:20px; vertical-align: middle;'></progress>\n",
       "      100.00% [512/512 00:03&lt;00:00]\n",
       "    </div>\n",
       "    "
      ],
      "text/plain": [
       "<IPython.core.display.HTML object>"
      ]
     },
     "metadata": {},
     "output_type": "display_data"
    },
    {
     "name": "stdout",
     "output_type": "stream",
     "text": [
      "functools.partial(<function X__stack_with__par at 0x7f7c2a2af100>, par_var='X_par')\n",
      "CPU times: user 4.07 s, sys: 9.97 ms, total: 4.08 s\n",
      "Wall time: 4.1 s\n"
     ]
    }
   ],
   "source": [
    "%%time\n",
    "#X_pipeline = configure_pipeline(**data_setup)\n",
    "test_data = prepare_data(TEST_DATA, X_pipeline)"
   ]
  },
  {
   "cell_type": "code",
   "execution_count": 35,
   "id": "8f7b87ea",
   "metadata": {
    "scrolled": true,
    "tags": []
   },
   "outputs": [
    {
     "data": {
      "text/plain": [
       "(5120, 611)"
      ]
     },
     "execution_count": 35,
     "metadata": {},
     "output_type": "execute_result"
    }
   ],
   "source": [
    "test_data.X.shape"
   ]
  },
  {
   "cell_type": "code",
   "execution_count": 36,
   "id": "10e51567",
   "metadata": {
    "tags": []
   },
   "outputs": [
    {
     "data": {
      "text/plain": [
       "0"
      ]
     },
     "execution_count": 36,
     "metadata": {},
     "output_type": "execute_result"
    }
   ],
   "source": [
    "del TEST_DATA\n",
    "del test_data.X_obs\n",
    "\n",
    "gc.collect()"
   ]
  },
  {
   "cell_type": "markdown",
   "id": "75fcf6b2",
   "metadata": {},
   "source": [
    "\\\n",
    "Use the trained model to generate predictions over the test set."
   ]
  },
  {
   "cell_type": "code",
   "execution_count": 37,
   "id": "c22e2a1a",
   "metadata": {
    "tags": []
   },
   "outputs": [],
   "source": [
    "# standardize the data, using the parameters that were defined over the train set\n",
    "test_X_st = standardizer(test_data.X, avg_std=X_st_params)[0]"
   ]
  },
  {
   "cell_type": "code",
   "execution_count": 38,
   "id": "91248fa3",
   "metadata": {
    "tags": []
   },
   "outputs": [],
   "source": [
    "test_y_pred = model.predict(test_X_st)"
   ]
  },
  {
   "cell_type": "code",
   "execution_count": 39,
   "id": "77925485",
   "metadata": {
    "tags": []
   },
   "outputs": [
    {
     "data": {
      "text/plain": [
       "(5120, 55)"
      ]
     },
     "execution_count": 39,
     "metadata": {},
     "output_type": "execute_result"
    }
   ],
   "source": [
    "test_y_pred.shape"
   ]
  },
  {
   "cell_type": "markdown",
   "id": "bf57d3bc",
   "metadata": {},
   "source": [
    "-----\n",
    "\n",
    "-----"
   ]
  },
  {
   "cell_type": "markdown",
   "id": "392e105b",
   "metadata": {},
   "source": [
    "# Submit predictions"
   ]
  },
  {
   "cell_type": "markdown",
   "id": "b7021544",
   "metadata": {},
   "source": [
    "The data pre-processing pipeline may aggregate observations at different levels:\n",
    "* aggregations across photon noise instances leave us with 1 sample per planet / stellar_spot combination (10 samples per planet).\n",
    "* aggregations across stellar spot instances, and their photon noise instances leave us with 1 sample per planet.\n",
    "\n",
    "Below, in `ix_all` are the indices of all samples in the test set. Submissions must provide one prediction for each of those samples. Encoding left us with the `ix_enc` indices. If they differ, we must then propagate predictions to the other samples of the same planet / stellar_spot."
   ]
  },
  {
   "cell_type": "code",
   "execution_count": 40,
   "id": "d4471056",
   "metadata": {
    "tags": []
   },
   "outputs": [],
   "source": [
    "ix_all = test_data.X_par_all[OBSERV_INDEX].set_index(OBSERV_INDEX, append=True).index\n",
    "ix_enc = test_data.X_par[    OBSERV_INDEX].set_index(OBSERV_INDEX, append=True).index"
   ]
  },
  {
   "cell_type": "code",
   "execution_count": 41,
   "id": "f0d9e866",
   "metadata": {
    "tags": []
   },
   "outputs": [
    {
     "data": {
      "text/html": [
       "<div>\n",
       "<style scoped>\n",
       "    .dataframe tbody tr th:only-of-type {\n",
       "        vertical-align: middle;\n",
       "    }\n",
       "\n",
       "    .dataframe tbody tr th {\n",
       "        vertical-align: top;\n",
       "    }\n",
       "\n",
       "    .dataframe thead th {\n",
       "        text-align: right;\n",
       "    }\n",
       "</style>\n",
       "<table border=\"1\" class=\"dataframe\">\n",
       "  <thead>\n",
       "    <tr style=\"text-align: right;\">\n",
       "      <th></th>\n",
       "      <th></th>\n",
       "      <th></th>\n",
       "      <th></th>\n",
       "      <th>w1</th>\n",
       "      <th>w2</th>\n",
       "      <th>w3</th>\n",
       "      <th>w4</th>\n",
       "      <th>w5</th>\n",
       "      <th>w6</th>\n",
       "      <th>w7</th>\n",
       "      <th>w8</th>\n",
       "      <th>w9</th>\n",
       "      <th>w10</th>\n",
       "      <th>...</th>\n",
       "      <th>w46</th>\n",
       "      <th>w47</th>\n",
       "      <th>w48</th>\n",
       "      <th>w49</th>\n",
       "      <th>w50</th>\n",
       "      <th>w51</th>\n",
       "      <th>w52</th>\n",
       "      <th>w53</th>\n",
       "      <th>w54</th>\n",
       "      <th>w55</th>\n",
       "    </tr>\n",
       "    <tr>\n",
       "      <th>index</th>\n",
       "      <th>planet</th>\n",
       "      <th>stellar_spot</th>\n",
       "      <th>photon</th>\n",
       "      <th></th>\n",
       "      <th></th>\n",
       "      <th></th>\n",
       "      <th></th>\n",
       "      <th></th>\n",
       "      <th></th>\n",
       "      <th></th>\n",
       "      <th></th>\n",
       "      <th></th>\n",
       "      <th></th>\n",
       "      <th></th>\n",
       "      <th></th>\n",
       "      <th></th>\n",
       "      <th></th>\n",
       "      <th></th>\n",
       "      <th></th>\n",
       "      <th></th>\n",
       "      <th></th>\n",
       "      <th></th>\n",
       "      <th></th>\n",
       "      <th></th>\n",
       "    </tr>\n",
       "  </thead>\n",
       "  <tbody>\n",
       "    <tr>\n",
       "      <th>0003_01_01.txt</th>\n",
       "      <th>3</th>\n",
       "      <th>1</th>\n",
       "      <th>1</th>\n",
       "      <td>0.041151</td>\n",
       "      <td>0.040986</td>\n",
       "      <td>0.041304</td>\n",
       "      <td>0.042138</td>\n",
       "      <td>0.041128</td>\n",
       "      <td>0.042704</td>\n",
       "      <td>0.041072</td>\n",
       "      <td>0.041920</td>\n",
       "      <td>0.042184</td>\n",
       "      <td>0.041952</td>\n",
       "      <td>...</td>\n",
       "      <td>0.048624</td>\n",
       "      <td>0.044855</td>\n",
       "      <td>0.043144</td>\n",
       "      <td>0.041193</td>\n",
       "      <td>0.040961</td>\n",
       "      <td>0.044162</td>\n",
       "      <td>0.044300</td>\n",
       "      <td>0.044912</td>\n",
       "      <td>0.044774</td>\n",
       "      <td>0.042340</td>\n",
       "    </tr>\n",
       "    <tr>\n",
       "      <th>0003_02_01.txt</th>\n",
       "      <th>3</th>\n",
       "      <th>2</th>\n",
       "      <th>1</th>\n",
       "      <td>0.040261</td>\n",
       "      <td>0.040052</td>\n",
       "      <td>0.040833</td>\n",
       "      <td>0.041751</td>\n",
       "      <td>0.040866</td>\n",
       "      <td>0.041858</td>\n",
       "      <td>0.041246</td>\n",
       "      <td>0.041263</td>\n",
       "      <td>0.040782</td>\n",
       "      <td>0.040641</td>\n",
       "      <td>...</td>\n",
       "      <td>0.048242</td>\n",
       "      <td>0.045017</td>\n",
       "      <td>0.040730</td>\n",
       "      <td>0.039839</td>\n",
       "      <td>0.039399</td>\n",
       "      <td>0.041267</td>\n",
       "      <td>0.041665</td>\n",
       "      <td>0.042676</td>\n",
       "      <td>0.042776</td>\n",
       "      <td>0.040426</td>\n",
       "    </tr>\n",
       "    <tr>\n",
       "      <th>0003_03_01.txt</th>\n",
       "      <th>3</th>\n",
       "      <th>3</th>\n",
       "      <th>1</th>\n",
       "      <td>0.038997</td>\n",
       "      <td>0.038783</td>\n",
       "      <td>0.038793</td>\n",
       "      <td>0.039458</td>\n",
       "      <td>0.038509</td>\n",
       "      <td>0.040861</td>\n",
       "      <td>0.038913</td>\n",
       "      <td>0.039226</td>\n",
       "      <td>0.040522</td>\n",
       "      <td>0.040256</td>\n",
       "      <td>...</td>\n",
       "      <td>0.044839</td>\n",
       "      <td>0.040466</td>\n",
       "      <td>0.041650</td>\n",
       "      <td>0.041911</td>\n",
       "      <td>0.041596</td>\n",
       "      <td>0.042751</td>\n",
       "      <td>0.042972</td>\n",
       "      <td>0.043296</td>\n",
       "      <td>0.044019</td>\n",
       "      <td>0.041757</td>\n",
       "    </tr>\n",
       "    <tr>\n",
       "      <th>0003_04_01.txt</th>\n",
       "      <th>3</th>\n",
       "      <th>4</th>\n",
       "      <th>1</th>\n",
       "      <td>0.037282</td>\n",
       "      <td>0.037118</td>\n",
       "      <td>0.037290</td>\n",
       "      <td>0.038196</td>\n",
       "      <td>0.037291</td>\n",
       "      <td>0.039604</td>\n",
       "      <td>0.038019</td>\n",
       "      <td>0.038105</td>\n",
       "      <td>0.039004</td>\n",
       "      <td>0.038794</td>\n",
       "      <td>...</td>\n",
       "      <td>0.048325</td>\n",
       "      <td>0.042965</td>\n",
       "      <td>0.039067</td>\n",
       "      <td>0.039013</td>\n",
       "      <td>0.040007</td>\n",
       "      <td>0.040084</td>\n",
       "      <td>0.040055</td>\n",
       "      <td>0.039213</td>\n",
       "      <td>0.040891</td>\n",
       "      <td>0.039108</td>\n",
       "    </tr>\n",
       "    <tr>\n",
       "      <th>0003_05_01.txt</th>\n",
       "      <th>3</th>\n",
       "      <th>5</th>\n",
       "      <th>1</th>\n",
       "      <td>0.037223</td>\n",
       "      <td>0.036969</td>\n",
       "      <td>0.038400</td>\n",
       "      <td>0.039296</td>\n",
       "      <td>0.038522</td>\n",
       "      <td>0.040360</td>\n",
       "      <td>0.039605</td>\n",
       "      <td>0.039277</td>\n",
       "      <td>0.039582</td>\n",
       "      <td>0.039450</td>\n",
       "      <td>...</td>\n",
       "      <td>0.039028</td>\n",
       "      <td>0.036059</td>\n",
       "      <td>0.037620</td>\n",
       "      <td>0.041460</td>\n",
       "      <td>0.042822</td>\n",
       "      <td>0.039535</td>\n",
       "      <td>0.039188</td>\n",
       "      <td>0.039834</td>\n",
       "      <td>0.039019</td>\n",
       "      <td>0.042186</td>\n",
       "    </tr>\n",
       "    <tr>\n",
       "      <th>...</th>\n",
       "      <th>...</th>\n",
       "      <th>...</th>\n",
       "      <th>...</th>\n",
       "      <td>...</td>\n",
       "      <td>...</td>\n",
       "      <td>...</td>\n",
       "      <td>...</td>\n",
       "      <td>...</td>\n",
       "      <td>...</td>\n",
       "      <td>...</td>\n",
       "      <td>...</td>\n",
       "      <td>...</td>\n",
       "      <td>...</td>\n",
       "      <td>...</td>\n",
       "      <td>...</td>\n",
       "      <td>...</td>\n",
       "      <td>...</td>\n",
       "      <td>...</td>\n",
       "      <td>...</td>\n",
       "      <td>...</td>\n",
       "      <td>...</td>\n",
       "      <td>...</td>\n",
       "      <td>...</td>\n",
       "      <td>...</td>\n",
       "    </tr>\n",
       "    <tr>\n",
       "      <th>4381_06_01.txt</th>\n",
       "      <th>4381</th>\n",
       "      <th>6</th>\n",
       "      <th>1</th>\n",
       "      <td>0.123386</td>\n",
       "      <td>0.123068</td>\n",
       "      <td>0.124455</td>\n",
       "      <td>0.126372</td>\n",
       "      <td>0.125139</td>\n",
       "      <td>0.129447</td>\n",
       "      <td>0.126864</td>\n",
       "      <td>0.127494</td>\n",
       "      <td>0.129460</td>\n",
       "      <td>0.129188</td>\n",
       "      <td>...</td>\n",
       "      <td>0.131322</td>\n",
       "      <td>0.130366</td>\n",
       "      <td>0.129631</td>\n",
       "      <td>0.129865</td>\n",
       "      <td>0.131179</td>\n",
       "      <td>0.130831</td>\n",
       "      <td>0.130927</td>\n",
       "      <td>0.132746</td>\n",
       "      <td>0.132861</td>\n",
       "      <td>0.133651</td>\n",
       "    </tr>\n",
       "    <tr>\n",
       "      <th>4381_07_01.txt</th>\n",
       "      <th>4381</th>\n",
       "      <th>7</th>\n",
       "      <th>1</th>\n",
       "      <td>0.123015</td>\n",
       "      <td>0.122680</td>\n",
       "      <td>0.124097</td>\n",
       "      <td>0.125983</td>\n",
       "      <td>0.124834</td>\n",
       "      <td>0.129130</td>\n",
       "      <td>0.126516</td>\n",
       "      <td>0.127412</td>\n",
       "      <td>0.129136</td>\n",
       "      <td>0.128897</td>\n",
       "      <td>...</td>\n",
       "      <td>0.131074</td>\n",
       "      <td>0.131148</td>\n",
       "      <td>0.130502</td>\n",
       "      <td>0.129035</td>\n",
       "      <td>0.130126</td>\n",
       "      <td>0.130852</td>\n",
       "      <td>0.130851</td>\n",
       "      <td>0.131917</td>\n",
       "      <td>0.132984</td>\n",
       "      <td>0.132682</td>\n",
       "    </tr>\n",
       "    <tr>\n",
       "      <th>4381_08_01.txt</th>\n",
       "      <th>4381</th>\n",
       "      <th>8</th>\n",
       "      <th>1</th>\n",
       "      <td>0.123829</td>\n",
       "      <td>0.123503</td>\n",
       "      <td>0.125136</td>\n",
       "      <td>0.127310</td>\n",
       "      <td>0.126066</td>\n",
       "      <td>0.130541</td>\n",
       "      <td>0.127930</td>\n",
       "      <td>0.128844</td>\n",
       "      <td>0.130790</td>\n",
       "      <td>0.130473</td>\n",
       "      <td>...</td>\n",
       "      <td>0.130874</td>\n",
       "      <td>0.131865</td>\n",
       "      <td>0.131892</td>\n",
       "      <td>0.130639</td>\n",
       "      <td>0.131664</td>\n",
       "      <td>0.132590</td>\n",
       "      <td>0.132711</td>\n",
       "      <td>0.134055</td>\n",
       "      <td>0.135508</td>\n",
       "      <td>0.134674</td>\n",
       "    </tr>\n",
       "    <tr>\n",
       "      <th>4381_09_01.txt</th>\n",
       "      <th>4381</th>\n",
       "      <th>9</th>\n",
       "      <th>1</th>\n",
       "      <td>0.122870</td>\n",
       "      <td>0.122494</td>\n",
       "      <td>0.124184</td>\n",
       "      <td>0.126213</td>\n",
       "      <td>0.124937</td>\n",
       "      <td>0.129507</td>\n",
       "      <td>0.126760</td>\n",
       "      <td>0.127689</td>\n",
       "      <td>0.129673</td>\n",
       "      <td>0.129403</td>\n",
       "      <td>...</td>\n",
       "      <td>0.131128</td>\n",
       "      <td>0.130776</td>\n",
       "      <td>0.130444</td>\n",
       "      <td>0.129163</td>\n",
       "      <td>0.129545</td>\n",
       "      <td>0.131519</td>\n",
       "      <td>0.131835</td>\n",
       "      <td>0.132916</td>\n",
       "      <td>0.134477</td>\n",
       "      <td>0.133438</td>\n",
       "    </tr>\n",
       "    <tr>\n",
       "      <th>4381_10_01.txt</th>\n",
       "      <th>4381</th>\n",
       "      <th>10</th>\n",
       "      <th>1</th>\n",
       "      <td>0.124101</td>\n",
       "      <td>0.123741</td>\n",
       "      <td>0.125314</td>\n",
       "      <td>0.127458</td>\n",
       "      <td>0.126207</td>\n",
       "      <td>0.130416</td>\n",
       "      <td>0.128067</td>\n",
       "      <td>0.129033</td>\n",
       "      <td>0.130562</td>\n",
       "      <td>0.130220</td>\n",
       "      <td>...</td>\n",
       "      <td>0.131700</td>\n",
       "      <td>0.131317</td>\n",
       "      <td>0.131296</td>\n",
       "      <td>0.131115</td>\n",
       "      <td>0.132027</td>\n",
       "      <td>0.132094</td>\n",
       "      <td>0.132046</td>\n",
       "      <td>0.133784</td>\n",
       "      <td>0.134470</td>\n",
       "      <td>0.136155</td>\n",
       "    </tr>\n",
       "  </tbody>\n",
       "</table>\n",
       "<p>5120 rows × 55 columns</p>\n",
       "</div>"
      ],
      "text/plain": [
       "                                                 w1        w2        w3  \\\n",
       "index          planet stellar_spot photon                                 \n",
       "0003_01_01.txt 3      1            1       0.041151  0.040986  0.041304   \n",
       "0003_02_01.txt 3      2            1       0.040261  0.040052  0.040833   \n",
       "0003_03_01.txt 3      3            1       0.038997  0.038783  0.038793   \n",
       "0003_04_01.txt 3      4            1       0.037282  0.037118  0.037290   \n",
       "0003_05_01.txt 3      5            1       0.037223  0.036969  0.038400   \n",
       "...                                             ...       ...       ...   \n",
       "4381_06_01.txt 4381   6            1       0.123386  0.123068  0.124455   \n",
       "4381_07_01.txt 4381   7            1       0.123015  0.122680  0.124097   \n",
       "4381_08_01.txt 4381   8            1       0.123829  0.123503  0.125136   \n",
       "4381_09_01.txt 4381   9            1       0.122870  0.122494  0.124184   \n",
       "4381_10_01.txt 4381   10           1       0.124101  0.123741  0.125314   \n",
       "\n",
       "                                                 w4        w5        w6  \\\n",
       "index          planet stellar_spot photon                                 \n",
       "0003_01_01.txt 3      1            1       0.042138  0.041128  0.042704   \n",
       "0003_02_01.txt 3      2            1       0.041751  0.040866  0.041858   \n",
       "0003_03_01.txt 3      3            1       0.039458  0.038509  0.040861   \n",
       "0003_04_01.txt 3      4            1       0.038196  0.037291  0.039604   \n",
       "0003_05_01.txt 3      5            1       0.039296  0.038522  0.040360   \n",
       "...                                             ...       ...       ...   \n",
       "4381_06_01.txt 4381   6            1       0.126372  0.125139  0.129447   \n",
       "4381_07_01.txt 4381   7            1       0.125983  0.124834  0.129130   \n",
       "4381_08_01.txt 4381   8            1       0.127310  0.126066  0.130541   \n",
       "4381_09_01.txt 4381   9            1       0.126213  0.124937  0.129507   \n",
       "4381_10_01.txt 4381   10           1       0.127458  0.126207  0.130416   \n",
       "\n",
       "                                                 w7        w8        w9  \\\n",
       "index          planet stellar_spot photon                                 \n",
       "0003_01_01.txt 3      1            1       0.041072  0.041920  0.042184   \n",
       "0003_02_01.txt 3      2            1       0.041246  0.041263  0.040782   \n",
       "0003_03_01.txt 3      3            1       0.038913  0.039226  0.040522   \n",
       "0003_04_01.txt 3      4            1       0.038019  0.038105  0.039004   \n",
       "0003_05_01.txt 3      5            1       0.039605  0.039277  0.039582   \n",
       "...                                             ...       ...       ...   \n",
       "4381_06_01.txt 4381   6            1       0.126864  0.127494  0.129460   \n",
       "4381_07_01.txt 4381   7            1       0.126516  0.127412  0.129136   \n",
       "4381_08_01.txt 4381   8            1       0.127930  0.128844  0.130790   \n",
       "4381_09_01.txt 4381   9            1       0.126760  0.127689  0.129673   \n",
       "4381_10_01.txt 4381   10           1       0.128067  0.129033  0.130562   \n",
       "\n",
       "                                                w10  ...       w46       w47  \\\n",
       "index          planet stellar_spot photon            ...                       \n",
       "0003_01_01.txt 3      1            1       0.041952  ...  0.048624  0.044855   \n",
       "0003_02_01.txt 3      2            1       0.040641  ...  0.048242  0.045017   \n",
       "0003_03_01.txt 3      3            1       0.040256  ...  0.044839  0.040466   \n",
       "0003_04_01.txt 3      4            1       0.038794  ...  0.048325  0.042965   \n",
       "0003_05_01.txt 3      5            1       0.039450  ...  0.039028  0.036059   \n",
       "...                                             ...  ...       ...       ...   \n",
       "4381_06_01.txt 4381   6            1       0.129188  ...  0.131322  0.130366   \n",
       "4381_07_01.txt 4381   7            1       0.128897  ...  0.131074  0.131148   \n",
       "4381_08_01.txt 4381   8            1       0.130473  ...  0.130874  0.131865   \n",
       "4381_09_01.txt 4381   9            1       0.129403  ...  0.131128  0.130776   \n",
       "4381_10_01.txt 4381   10           1       0.130220  ...  0.131700  0.131317   \n",
       "\n",
       "                                                w48       w49       w50  \\\n",
       "index          planet stellar_spot photon                                 \n",
       "0003_01_01.txt 3      1            1       0.043144  0.041193  0.040961   \n",
       "0003_02_01.txt 3      2            1       0.040730  0.039839  0.039399   \n",
       "0003_03_01.txt 3      3            1       0.041650  0.041911  0.041596   \n",
       "0003_04_01.txt 3      4            1       0.039067  0.039013  0.040007   \n",
       "0003_05_01.txt 3      5            1       0.037620  0.041460  0.042822   \n",
       "...                                             ...       ...       ...   \n",
       "4381_06_01.txt 4381   6            1       0.129631  0.129865  0.131179   \n",
       "4381_07_01.txt 4381   7            1       0.130502  0.129035  0.130126   \n",
       "4381_08_01.txt 4381   8            1       0.131892  0.130639  0.131664   \n",
       "4381_09_01.txt 4381   9            1       0.130444  0.129163  0.129545   \n",
       "4381_10_01.txt 4381   10           1       0.131296  0.131115  0.132027   \n",
       "\n",
       "                                                w51       w52       w53  \\\n",
       "index          planet stellar_spot photon                                 \n",
       "0003_01_01.txt 3      1            1       0.044162  0.044300  0.044912   \n",
       "0003_02_01.txt 3      2            1       0.041267  0.041665  0.042676   \n",
       "0003_03_01.txt 3      3            1       0.042751  0.042972  0.043296   \n",
       "0003_04_01.txt 3      4            1       0.040084  0.040055  0.039213   \n",
       "0003_05_01.txt 3      5            1       0.039535  0.039188  0.039834   \n",
       "...                                             ...       ...       ...   \n",
       "4381_06_01.txt 4381   6            1       0.130831  0.130927  0.132746   \n",
       "4381_07_01.txt 4381   7            1       0.130852  0.130851  0.131917   \n",
       "4381_08_01.txt 4381   8            1       0.132590  0.132711  0.134055   \n",
       "4381_09_01.txt 4381   9            1       0.131519  0.131835  0.132916   \n",
       "4381_10_01.txt 4381   10           1       0.132094  0.132046  0.133784   \n",
       "\n",
       "                                                w54       w55  \n",
       "index          planet stellar_spot photon                      \n",
       "0003_01_01.txt 3      1            1       0.044774  0.042340  \n",
       "0003_02_01.txt 3      2            1       0.042776  0.040426  \n",
       "0003_03_01.txt 3      3            1       0.044019  0.041757  \n",
       "0003_04_01.txt 3      4            1       0.040891  0.039108  \n",
       "0003_05_01.txt 3      5            1       0.039019  0.042186  \n",
       "...                                             ...       ...  \n",
       "4381_06_01.txt 4381   6            1       0.132861  0.133651  \n",
       "4381_07_01.txt 4381   7            1       0.132984  0.132682  \n",
       "4381_08_01.txt 4381   8            1       0.135508  0.134674  \n",
       "4381_09_01.txt 4381   9            1       0.134477  0.133438  \n",
       "4381_10_01.txt 4381   10           1       0.134470  0.136155  \n",
       "\n",
       "[5120 rows x 55 columns]"
      ]
     },
     "execution_count": 41,
     "metadata": {},
     "output_type": "execute_result"
    }
   ],
   "source": [
    "# Indexed DataFrame version of the predictions matrix\n",
    "\n",
    "test_y_pred_df = pd.DataFrame(\n",
    "    test_y_pred,\n",
    "    index=ix_enc,\n",
    "    columns=[f'w{i+1}' for i in range(55)])\n",
    "\n",
    "test_y_pred_df"
   ]
  },
  {
   "cell_type": "markdown",
   "id": "fb26ea63",
   "metadata": {},
   "source": [
    "Propagate predictions across samples of the same planet / stellar_spot."
   ]
  },
  {
   "cell_type": "code",
   "execution_count": 42,
   "id": "ff148f4e",
   "metadata": {
    "tags": []
   },
   "outputs": [
    {
     "data": {
      "text/html": [
       "<div>\n",
       "<style scoped>\n",
       "    .dataframe tbody tr th:only-of-type {\n",
       "        vertical-align: middle;\n",
       "    }\n",
       "\n",
       "    .dataframe tbody tr th {\n",
       "        vertical-align: top;\n",
       "    }\n",
       "\n",
       "    .dataframe thead th {\n",
       "        text-align: right;\n",
       "    }\n",
       "</style>\n",
       "<table border=\"1\" class=\"dataframe\">\n",
       "  <thead>\n",
       "    <tr style=\"text-align: right;\">\n",
       "      <th></th>\n",
       "      <th></th>\n",
       "      <th></th>\n",
       "      <th></th>\n",
       "      <th>w1</th>\n",
       "      <th>w2</th>\n",
       "      <th>w3</th>\n",
       "      <th>w4</th>\n",
       "      <th>w5</th>\n",
       "      <th>w6</th>\n",
       "      <th>w7</th>\n",
       "      <th>w8</th>\n",
       "      <th>w9</th>\n",
       "      <th>w10</th>\n",
       "      <th>...</th>\n",
       "      <th>w46</th>\n",
       "      <th>w47</th>\n",
       "      <th>w48</th>\n",
       "      <th>w49</th>\n",
       "      <th>w50</th>\n",
       "      <th>w51</th>\n",
       "      <th>w52</th>\n",
       "      <th>w53</th>\n",
       "      <th>w54</th>\n",
       "      <th>w55</th>\n",
       "    </tr>\n",
       "    <tr>\n",
       "      <th></th>\n",
       "      <th>planet</th>\n",
       "      <th>stellar_spot</th>\n",
       "      <th>photon</th>\n",
       "      <th></th>\n",
       "      <th></th>\n",
       "      <th></th>\n",
       "      <th></th>\n",
       "      <th></th>\n",
       "      <th></th>\n",
       "      <th></th>\n",
       "      <th></th>\n",
       "      <th></th>\n",
       "      <th></th>\n",
       "      <th></th>\n",
       "      <th></th>\n",
       "      <th></th>\n",
       "      <th></th>\n",
       "      <th></th>\n",
       "      <th></th>\n",
       "      <th></th>\n",
       "      <th></th>\n",
       "      <th></th>\n",
       "      <th></th>\n",
       "      <th></th>\n",
       "    </tr>\n",
       "  </thead>\n",
       "  <tbody>\n",
       "    <tr>\n",
       "      <th>0003_01_01.txt</th>\n",
       "      <th>3</th>\n",
       "      <th>1</th>\n",
       "      <th>1</th>\n",
       "      <td>0.041151</td>\n",
       "      <td>0.040986</td>\n",
       "      <td>0.041304</td>\n",
       "      <td>0.042138</td>\n",
       "      <td>0.041128</td>\n",
       "      <td>0.042704</td>\n",
       "      <td>0.041072</td>\n",
       "      <td>0.041920</td>\n",
       "      <td>0.042184</td>\n",
       "      <td>0.041952</td>\n",
       "      <td>...</td>\n",
       "      <td>0.048624</td>\n",
       "      <td>0.044855</td>\n",
       "      <td>0.043144</td>\n",
       "      <td>0.041193</td>\n",
       "      <td>0.040961</td>\n",
       "      <td>0.044162</td>\n",
       "      <td>0.044300</td>\n",
       "      <td>0.044912</td>\n",
       "      <td>0.044774</td>\n",
       "      <td>0.042340</td>\n",
       "    </tr>\n",
       "    <tr>\n",
       "      <th>0003_01_02.txt</th>\n",
       "      <th>3</th>\n",
       "      <th>1</th>\n",
       "      <th>2</th>\n",
       "      <td>0.041151</td>\n",
       "      <td>0.040986</td>\n",
       "      <td>0.041304</td>\n",
       "      <td>0.042138</td>\n",
       "      <td>0.041128</td>\n",
       "      <td>0.042704</td>\n",
       "      <td>0.041072</td>\n",
       "      <td>0.041920</td>\n",
       "      <td>0.042184</td>\n",
       "      <td>0.041952</td>\n",
       "      <td>...</td>\n",
       "      <td>0.048624</td>\n",
       "      <td>0.044855</td>\n",
       "      <td>0.043144</td>\n",
       "      <td>0.041193</td>\n",
       "      <td>0.040961</td>\n",
       "      <td>0.044162</td>\n",
       "      <td>0.044300</td>\n",
       "      <td>0.044912</td>\n",
       "      <td>0.044774</td>\n",
       "      <td>0.042340</td>\n",
       "    </tr>\n",
       "    <tr>\n",
       "      <th>0003_01_03.txt</th>\n",
       "      <th>3</th>\n",
       "      <th>1</th>\n",
       "      <th>3</th>\n",
       "      <td>0.041151</td>\n",
       "      <td>0.040986</td>\n",
       "      <td>0.041304</td>\n",
       "      <td>0.042138</td>\n",
       "      <td>0.041128</td>\n",
       "      <td>0.042704</td>\n",
       "      <td>0.041072</td>\n",
       "      <td>0.041920</td>\n",
       "      <td>0.042184</td>\n",
       "      <td>0.041952</td>\n",
       "      <td>...</td>\n",
       "      <td>0.048624</td>\n",
       "      <td>0.044855</td>\n",
       "      <td>0.043144</td>\n",
       "      <td>0.041193</td>\n",
       "      <td>0.040961</td>\n",
       "      <td>0.044162</td>\n",
       "      <td>0.044300</td>\n",
       "      <td>0.044912</td>\n",
       "      <td>0.044774</td>\n",
       "      <td>0.042340</td>\n",
       "    </tr>\n",
       "    <tr>\n",
       "      <th>0003_01_04.txt</th>\n",
       "      <th>3</th>\n",
       "      <th>1</th>\n",
       "      <th>4</th>\n",
       "      <td>0.041151</td>\n",
       "      <td>0.040986</td>\n",
       "      <td>0.041304</td>\n",
       "      <td>0.042138</td>\n",
       "      <td>0.041128</td>\n",
       "      <td>0.042704</td>\n",
       "      <td>0.041072</td>\n",
       "      <td>0.041920</td>\n",
       "      <td>0.042184</td>\n",
       "      <td>0.041952</td>\n",
       "      <td>...</td>\n",
       "      <td>0.048624</td>\n",
       "      <td>0.044855</td>\n",
       "      <td>0.043144</td>\n",
       "      <td>0.041193</td>\n",
       "      <td>0.040961</td>\n",
       "      <td>0.044162</td>\n",
       "      <td>0.044300</td>\n",
       "      <td>0.044912</td>\n",
       "      <td>0.044774</td>\n",
       "      <td>0.042340</td>\n",
       "    </tr>\n",
       "    <tr>\n",
       "      <th>0003_01_05.txt</th>\n",
       "      <th>3</th>\n",
       "      <th>1</th>\n",
       "      <th>5</th>\n",
       "      <td>0.041151</td>\n",
       "      <td>0.040986</td>\n",
       "      <td>0.041304</td>\n",
       "      <td>0.042138</td>\n",
       "      <td>0.041128</td>\n",
       "      <td>0.042704</td>\n",
       "      <td>0.041072</td>\n",
       "      <td>0.041920</td>\n",
       "      <td>0.042184</td>\n",
       "      <td>0.041952</td>\n",
       "      <td>...</td>\n",
       "      <td>0.048624</td>\n",
       "      <td>0.044855</td>\n",
       "      <td>0.043144</td>\n",
       "      <td>0.041193</td>\n",
       "      <td>0.040961</td>\n",
       "      <td>0.044162</td>\n",
       "      <td>0.044300</td>\n",
       "      <td>0.044912</td>\n",
       "      <td>0.044774</td>\n",
       "      <td>0.042340</td>\n",
       "    </tr>\n",
       "    <tr>\n",
       "      <th>...</th>\n",
       "      <th>...</th>\n",
       "      <th>...</th>\n",
       "      <th>...</th>\n",
       "      <td>...</td>\n",
       "      <td>...</td>\n",
       "      <td>...</td>\n",
       "      <td>...</td>\n",
       "      <td>...</td>\n",
       "      <td>...</td>\n",
       "      <td>...</td>\n",
       "      <td>...</td>\n",
       "      <td>...</td>\n",
       "      <td>...</td>\n",
       "      <td>...</td>\n",
       "      <td>...</td>\n",
       "      <td>...</td>\n",
       "      <td>...</td>\n",
       "      <td>...</td>\n",
       "      <td>...</td>\n",
       "      <td>...</td>\n",
       "      <td>...</td>\n",
       "      <td>...</td>\n",
       "      <td>...</td>\n",
       "      <td>...</td>\n",
       "    </tr>\n",
       "    <tr>\n",
       "      <th>4381_10_06.txt</th>\n",
       "      <th>4381</th>\n",
       "      <th>10</th>\n",
       "      <th>6</th>\n",
       "      <td>0.124101</td>\n",
       "      <td>0.123741</td>\n",
       "      <td>0.125314</td>\n",
       "      <td>0.127458</td>\n",
       "      <td>0.126207</td>\n",
       "      <td>0.130416</td>\n",
       "      <td>0.128067</td>\n",
       "      <td>0.129033</td>\n",
       "      <td>0.130562</td>\n",
       "      <td>0.130220</td>\n",
       "      <td>...</td>\n",
       "      <td>0.131700</td>\n",
       "      <td>0.131317</td>\n",
       "      <td>0.131296</td>\n",
       "      <td>0.131115</td>\n",
       "      <td>0.132027</td>\n",
       "      <td>0.132094</td>\n",
       "      <td>0.132046</td>\n",
       "      <td>0.133784</td>\n",
       "      <td>0.134470</td>\n",
       "      <td>0.136155</td>\n",
       "    </tr>\n",
       "    <tr>\n",
       "      <th>4381_10_07.txt</th>\n",
       "      <th>4381</th>\n",
       "      <th>10</th>\n",
       "      <th>7</th>\n",
       "      <td>0.124101</td>\n",
       "      <td>0.123741</td>\n",
       "      <td>0.125314</td>\n",
       "      <td>0.127458</td>\n",
       "      <td>0.126207</td>\n",
       "      <td>0.130416</td>\n",
       "      <td>0.128067</td>\n",
       "      <td>0.129033</td>\n",
       "      <td>0.130562</td>\n",
       "      <td>0.130220</td>\n",
       "      <td>...</td>\n",
       "      <td>0.131700</td>\n",
       "      <td>0.131317</td>\n",
       "      <td>0.131296</td>\n",
       "      <td>0.131115</td>\n",
       "      <td>0.132027</td>\n",
       "      <td>0.132094</td>\n",
       "      <td>0.132046</td>\n",
       "      <td>0.133784</td>\n",
       "      <td>0.134470</td>\n",
       "      <td>0.136155</td>\n",
       "    </tr>\n",
       "    <tr>\n",
       "      <th>4381_10_08.txt</th>\n",
       "      <th>4381</th>\n",
       "      <th>10</th>\n",
       "      <th>8</th>\n",
       "      <td>0.124101</td>\n",
       "      <td>0.123741</td>\n",
       "      <td>0.125314</td>\n",
       "      <td>0.127458</td>\n",
       "      <td>0.126207</td>\n",
       "      <td>0.130416</td>\n",
       "      <td>0.128067</td>\n",
       "      <td>0.129033</td>\n",
       "      <td>0.130562</td>\n",
       "      <td>0.130220</td>\n",
       "      <td>...</td>\n",
       "      <td>0.131700</td>\n",
       "      <td>0.131317</td>\n",
       "      <td>0.131296</td>\n",
       "      <td>0.131115</td>\n",
       "      <td>0.132027</td>\n",
       "      <td>0.132094</td>\n",
       "      <td>0.132046</td>\n",
       "      <td>0.133784</td>\n",
       "      <td>0.134470</td>\n",
       "      <td>0.136155</td>\n",
       "    </tr>\n",
       "    <tr>\n",
       "      <th>4381_10_09.txt</th>\n",
       "      <th>4381</th>\n",
       "      <th>10</th>\n",
       "      <th>9</th>\n",
       "      <td>0.124101</td>\n",
       "      <td>0.123741</td>\n",
       "      <td>0.125314</td>\n",
       "      <td>0.127458</td>\n",
       "      <td>0.126207</td>\n",
       "      <td>0.130416</td>\n",
       "      <td>0.128067</td>\n",
       "      <td>0.129033</td>\n",
       "      <td>0.130562</td>\n",
       "      <td>0.130220</td>\n",
       "      <td>...</td>\n",
       "      <td>0.131700</td>\n",
       "      <td>0.131317</td>\n",
       "      <td>0.131296</td>\n",
       "      <td>0.131115</td>\n",
       "      <td>0.132027</td>\n",
       "      <td>0.132094</td>\n",
       "      <td>0.132046</td>\n",
       "      <td>0.133784</td>\n",
       "      <td>0.134470</td>\n",
       "      <td>0.136155</td>\n",
       "    </tr>\n",
       "    <tr>\n",
       "      <th>4381_10_10.txt</th>\n",
       "      <th>4381</th>\n",
       "      <th>10</th>\n",
       "      <th>10</th>\n",
       "      <td>0.124101</td>\n",
       "      <td>0.123741</td>\n",
       "      <td>0.125314</td>\n",
       "      <td>0.127458</td>\n",
       "      <td>0.126207</td>\n",
       "      <td>0.130416</td>\n",
       "      <td>0.128067</td>\n",
       "      <td>0.129033</td>\n",
       "      <td>0.130562</td>\n",
       "      <td>0.130220</td>\n",
       "      <td>...</td>\n",
       "      <td>0.131700</td>\n",
       "      <td>0.131317</td>\n",
       "      <td>0.131296</td>\n",
       "      <td>0.131115</td>\n",
       "      <td>0.132027</td>\n",
       "      <td>0.132094</td>\n",
       "      <td>0.132046</td>\n",
       "      <td>0.133784</td>\n",
       "      <td>0.134470</td>\n",
       "      <td>0.136155</td>\n",
       "    </tr>\n",
       "  </tbody>\n",
       "</table>\n",
       "<p>51200 rows × 55 columns</p>\n",
       "</div>"
      ],
      "text/plain": [
       "                                                 w1        w2        w3  \\\n",
       "               planet stellar_spot photon                                 \n",
       "0003_01_01.txt 3      1            1       0.041151  0.040986  0.041304   \n",
       "0003_01_02.txt 3      1            2       0.041151  0.040986  0.041304   \n",
       "0003_01_03.txt 3      1            3       0.041151  0.040986  0.041304   \n",
       "0003_01_04.txt 3      1            4       0.041151  0.040986  0.041304   \n",
       "0003_01_05.txt 3      1            5       0.041151  0.040986  0.041304   \n",
       "...                                             ...       ...       ...   \n",
       "4381_10_06.txt 4381   10           6       0.124101  0.123741  0.125314   \n",
       "4381_10_07.txt 4381   10           7       0.124101  0.123741  0.125314   \n",
       "4381_10_08.txt 4381   10           8       0.124101  0.123741  0.125314   \n",
       "4381_10_09.txt 4381   10           9       0.124101  0.123741  0.125314   \n",
       "4381_10_10.txt 4381   10           10      0.124101  0.123741  0.125314   \n",
       "\n",
       "                                                 w4        w5        w6  \\\n",
       "               planet stellar_spot photon                                 \n",
       "0003_01_01.txt 3      1            1       0.042138  0.041128  0.042704   \n",
       "0003_01_02.txt 3      1            2       0.042138  0.041128  0.042704   \n",
       "0003_01_03.txt 3      1            3       0.042138  0.041128  0.042704   \n",
       "0003_01_04.txt 3      1            4       0.042138  0.041128  0.042704   \n",
       "0003_01_05.txt 3      1            5       0.042138  0.041128  0.042704   \n",
       "...                                             ...       ...       ...   \n",
       "4381_10_06.txt 4381   10           6       0.127458  0.126207  0.130416   \n",
       "4381_10_07.txt 4381   10           7       0.127458  0.126207  0.130416   \n",
       "4381_10_08.txt 4381   10           8       0.127458  0.126207  0.130416   \n",
       "4381_10_09.txt 4381   10           9       0.127458  0.126207  0.130416   \n",
       "4381_10_10.txt 4381   10           10      0.127458  0.126207  0.130416   \n",
       "\n",
       "                                                 w7        w8        w9  \\\n",
       "               planet stellar_spot photon                                 \n",
       "0003_01_01.txt 3      1            1       0.041072  0.041920  0.042184   \n",
       "0003_01_02.txt 3      1            2       0.041072  0.041920  0.042184   \n",
       "0003_01_03.txt 3      1            3       0.041072  0.041920  0.042184   \n",
       "0003_01_04.txt 3      1            4       0.041072  0.041920  0.042184   \n",
       "0003_01_05.txt 3      1            5       0.041072  0.041920  0.042184   \n",
       "...                                             ...       ...       ...   \n",
       "4381_10_06.txt 4381   10           6       0.128067  0.129033  0.130562   \n",
       "4381_10_07.txt 4381   10           7       0.128067  0.129033  0.130562   \n",
       "4381_10_08.txt 4381   10           8       0.128067  0.129033  0.130562   \n",
       "4381_10_09.txt 4381   10           9       0.128067  0.129033  0.130562   \n",
       "4381_10_10.txt 4381   10           10      0.128067  0.129033  0.130562   \n",
       "\n",
       "                                                w10  ...       w46       w47  \\\n",
       "               planet stellar_spot photon            ...                       \n",
       "0003_01_01.txt 3      1            1       0.041952  ...  0.048624  0.044855   \n",
       "0003_01_02.txt 3      1            2       0.041952  ...  0.048624  0.044855   \n",
       "0003_01_03.txt 3      1            3       0.041952  ...  0.048624  0.044855   \n",
       "0003_01_04.txt 3      1            4       0.041952  ...  0.048624  0.044855   \n",
       "0003_01_05.txt 3      1            5       0.041952  ...  0.048624  0.044855   \n",
       "...                                             ...  ...       ...       ...   \n",
       "4381_10_06.txt 4381   10           6       0.130220  ...  0.131700  0.131317   \n",
       "4381_10_07.txt 4381   10           7       0.130220  ...  0.131700  0.131317   \n",
       "4381_10_08.txt 4381   10           8       0.130220  ...  0.131700  0.131317   \n",
       "4381_10_09.txt 4381   10           9       0.130220  ...  0.131700  0.131317   \n",
       "4381_10_10.txt 4381   10           10      0.130220  ...  0.131700  0.131317   \n",
       "\n",
       "                                                w48       w49       w50  \\\n",
       "               planet stellar_spot photon                                 \n",
       "0003_01_01.txt 3      1            1       0.043144  0.041193  0.040961   \n",
       "0003_01_02.txt 3      1            2       0.043144  0.041193  0.040961   \n",
       "0003_01_03.txt 3      1            3       0.043144  0.041193  0.040961   \n",
       "0003_01_04.txt 3      1            4       0.043144  0.041193  0.040961   \n",
       "0003_01_05.txt 3      1            5       0.043144  0.041193  0.040961   \n",
       "...                                             ...       ...       ...   \n",
       "4381_10_06.txt 4381   10           6       0.131296  0.131115  0.132027   \n",
       "4381_10_07.txt 4381   10           7       0.131296  0.131115  0.132027   \n",
       "4381_10_08.txt 4381   10           8       0.131296  0.131115  0.132027   \n",
       "4381_10_09.txt 4381   10           9       0.131296  0.131115  0.132027   \n",
       "4381_10_10.txt 4381   10           10      0.131296  0.131115  0.132027   \n",
       "\n",
       "                                                w51       w52       w53  \\\n",
       "               planet stellar_spot photon                                 \n",
       "0003_01_01.txt 3      1            1       0.044162  0.044300  0.044912   \n",
       "0003_01_02.txt 3      1            2       0.044162  0.044300  0.044912   \n",
       "0003_01_03.txt 3      1            3       0.044162  0.044300  0.044912   \n",
       "0003_01_04.txt 3      1            4       0.044162  0.044300  0.044912   \n",
       "0003_01_05.txt 3      1            5       0.044162  0.044300  0.044912   \n",
       "...                                             ...       ...       ...   \n",
       "4381_10_06.txt 4381   10           6       0.132094  0.132046  0.133784   \n",
       "4381_10_07.txt 4381   10           7       0.132094  0.132046  0.133784   \n",
       "4381_10_08.txt 4381   10           8       0.132094  0.132046  0.133784   \n",
       "4381_10_09.txt 4381   10           9       0.132094  0.132046  0.133784   \n",
       "4381_10_10.txt 4381   10           10      0.132094  0.132046  0.133784   \n",
       "\n",
       "                                                w54       w55  \n",
       "               planet stellar_spot photon                      \n",
       "0003_01_01.txt 3      1            1       0.044774  0.042340  \n",
       "0003_01_02.txt 3      1            2       0.044774  0.042340  \n",
       "0003_01_03.txt 3      1            3       0.044774  0.042340  \n",
       "0003_01_04.txt 3      1            4       0.044774  0.042340  \n",
       "0003_01_05.txt 3      1            5       0.044774  0.042340  \n",
       "...                                             ...       ...  \n",
       "4381_10_06.txt 4381   10           6       0.134470  0.136155  \n",
       "4381_10_07.txt 4381   10           7       0.134470  0.136155  \n",
       "4381_10_08.txt 4381   10           8       0.134470  0.136155  \n",
       "4381_10_09.txt 4381   10           9       0.134470  0.136155  \n",
       "4381_10_10.txt 4381   10           10      0.134470  0.136155  \n",
       "\n",
       "[51200 rows x 55 columns]"
      ]
     },
     "execution_count": 42,
     "metadata": {},
     "output_type": "execute_result"
    }
   ],
   "source": [
    "test_y_pred_df = test_y_pred_df.reindex(ix_all).fillna(method='ffill')\n",
    "test_y_pred_df"
   ]
  },
  {
   "cell_type": "markdown",
   "id": "dcaf9622",
   "metadata": {},
   "source": [
    "\\\n",
    "**Submit**"
   ]
  },
  {
   "cell_type": "code",
   "execution_count": 43,
   "id": "a1301f98",
   "metadata": {
    "tags": []
   },
   "outputs": [
    {
     "data": {
      "text/plain": [
       "'2025-01-17 10.17.55.csv'"
      ]
     },
     "execution_count": 43,
     "metadata": {},
     "output_type": "execute_result"
    }
   ],
   "source": [
    "s_path = 'submissions/'\n",
    "os.makedirs(s_path, exist_ok=True)\n",
    "\n",
    "s_file = str(pd.Timestamp('now').round('s')).replace(':', '.') + '.csv'\n",
    "s_file"
   ]
  },
  {
   "cell_type": "markdown",
   "id": "aac7f470",
   "metadata": {},
   "source": [
    "Write predictions to the hard drive."
   ]
  },
  {
   "cell_type": "code",
   "execution_count": 44,
   "id": "c06870f0",
   "metadata": {
    "tags": []
   },
   "outputs": [],
   "source": [
    "submission = test_y_pred_df.reset_index(level=OBSERV_INDEX, drop=True).rename_axis(index='files')"
   ]
  },
  {
   "cell_type": "code",
   "execution_count": 45,
   "id": "0ae5f8b0",
   "metadata": {
    "tags": []
   },
   "outputs": [],
   "source": [
    "submission.to_csv(s_path + s_file)"
   ]
  },
  {
   "cell_type": "markdown",
   "id": "f96b831b",
   "metadata": {},
   "source": [
    "Submit predictions using the REST API."
   ]
  },
  {
   "cell_type": "code",
   "execution_count": 46,
   "id": "e62e641f",
   "metadata": {
    "tags": []
   },
   "outputs": [],
   "source": [
    "# Enter your team's identifiers\n",
    "team_id = {\n",
    "    \"team_no\": \"3\",\n",
    "    \"team_name\": \"CoRoT-7-b\",\n",
    "    \"secret_key\": \"2006\",\n",
    "    }"
   ]
  },
  {
   "cell_type": "code",
   "execution_count": 47,
   "id": "78748234",
   "metadata": {
    "tags": []
   },
   "outputs": [
    {
     "name": "stdout",
     "output_type": "stream",
     "text": [
      "Status Code: 200\n",
      "Successful submission by 'CoRoT-7-b', with a public leaderboard score of 9051.015116194068\n"
     ]
    }
   ],
   "source": [
    "files = {\"file\": (s_file, submission.to_csv(), \"text/csv\")}\n",
    "\n",
    "response = requests.post(\n",
    "    \"https://www.ariel-datachallenge.space/api/score/calculate/\",\n",
    "    data=team_id, files=files)\n",
    "\n",
    "print(f\"Status Code: {response.status_code}\")\n",
    "if response.status_code == 200:\n",
    "    response_json = response.json()\n",
    "    print(f\"Successful submission by '{team_id['team_name']}', \" +\n",
    "          f\"with a public leaderboard score of {response_json['score']}\")\n",
    "else:\n",
    "    print(f\"Submission failure:\", response.json())"
   ]
  },
  {
   "cell_type": "markdown",
   "id": "5a961073",
   "metadata": {},
   "source": [
    "These are the error codes you may come across when submitting:\n",
    "\n",
    "    Wrong file type : File is not in .csv format\n",
    "    File processing failed : The .csv file is not formatted correctly\n",
    "    Invalid secret code : Typo in secret code or wrong code\n",
    "    Invalid data format : The file has non-numeric values\n",
    "    Wrong data format : The num of rows or column is not as expected\n",
    "    Invalid Submission : Empty file submitted"
   ]
  },
  {
   "cell_type": "markdown",
   "id": "5d4d640e",
   "metadata": {},
   "source": [
    "-----\n",
    "\n",
    "-----"
   ]
  },
  {
   "cell_type": "code",
   "execution_count": null,
   "id": "914da422-b76a-441e-9f15-fd1f3a67b36b",
   "metadata": {},
   "outputs": [],
   "source": []
  }
 ],
 "metadata": {
  "kernelspec": {
   "display_name": "ariel_hackathon",
   "language": "python",
   "name": "ariel_hackathon"
  },
  "language_info": {
   "codemirror_mode": {
    "name": "ipython",
    "version": 3
   },
   "file_extension": ".py",
   "mimetype": "text/x-python",
   "name": "python",
   "nbconvert_exporter": "python",
   "pygments_lexer": "ipython3",
   "version": "3.11.11"
  },
  "toc": {
   "base_numbering": 1,
   "nav_menu": {},
   "number_sections": true,
   "sideBar": true,
   "skip_h1_title": false,
   "title_cell": "Table of Contents",
   "title_sidebar": "Contents",
   "toc_cell": true,
   "toc_position": {
    "height": "calc(100% - 180px)",
    "left": "10px",
    "top": "150px",
    "width": "364.2px"
   },
   "toc_section_display": true,
   "toc_window_display": true
  }
 },
 "nbformat": 4,
 "nbformat_minor": 5
}
